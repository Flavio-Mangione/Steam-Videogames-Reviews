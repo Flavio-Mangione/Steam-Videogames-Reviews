{
 "cells": [
  {
   "cell_type": "markdown",
   "id": "0636c01c-d6af-4b86-963f-16b9e59db8b5",
   "metadata": {},
   "source": [
    "# **Steam Reviews 2021 Analysis**"
   ]
  },
  {
   "cell_type": "markdown",
   "id": "1575e8b4-4c42-4eac-b3ad-d773eb6cb32d",
   "metadata": {},
   "source": [
    "### Import libraries "
   ]
  },
  {
   "cell_type": "code",
   "execution_count": 1,
   "id": "2cd756bb-477f-4ac7-b303-4b63d0b16ae0",
   "metadata": {
    "tags": []
   },
   "outputs": [
    {
     "name": "stdout",
     "output_type": "stream",
     "text": [
      "Requirement already satisfied: textblob in c:\\users\\flavi\\anaconda3\\lib\\site-packages (0.18.0.post0)\n",
      "Requirement already satisfied: numpy in c:\\users\\flavi\\anaconda3\\lib\\site-packages (1.24.3)\n",
      "Requirement already satisfied: matplotlib in c:\\users\\flavi\\anaconda3\\lib\\site-packages (3.7.2)\n",
      "Requirement already satisfied: seaborn in c:\\users\\flavi\\anaconda3\\lib\\site-packages (0.12.2)\n",
      "Requirement already satisfied: pandas in c:\\users\\flavi\\anaconda3\\lib\\site-packages (2.0.3)\n",
      "Requirement already satisfied: nltk>=3.8 in c:\\users\\flavi\\anaconda3\\lib\\site-packages (from textblob) (3.8.1)\n",
      "Requirement already satisfied: contourpy>=1.0.1 in c:\\users\\flavi\\anaconda3\\lib\\site-packages (from matplotlib) (1.0.5)\n",
      "Requirement already satisfied: cycler>=0.10 in c:\\users\\flavi\\anaconda3\\lib\\site-packages (from matplotlib) (0.11.0)\n",
      "Requirement already satisfied: fonttools>=4.22.0 in c:\\users\\flavi\\anaconda3\\lib\\site-packages (from matplotlib) (4.25.0)\n",
      "Requirement already satisfied: kiwisolver>=1.0.1 in c:\\users\\flavi\\anaconda3\\lib\\site-packages (from matplotlib) (1.4.4)\n",
      "Requirement already satisfied: packaging>=20.0 in c:\\users\\flavi\\anaconda3\\lib\\site-packages (from matplotlib) (23.1)\n",
      "Requirement already satisfied: pillow>=6.2.0 in c:\\users\\flavi\\anaconda3\\lib\\site-packages (from matplotlib) (10.2.0)\n",
      "Requirement already satisfied: pyparsing<3.1,>=2.3.1 in c:\\users\\flavi\\anaconda3\\lib\\site-packages (from matplotlib) (3.0.9)\n",
      "Requirement already satisfied: python-dateutil>=2.7 in c:\\users\\flavi\\anaconda3\\lib\\site-packages (from matplotlib) (2.8.2)\n",
      "Requirement already satisfied: pytz>=2020.1 in c:\\users\\flavi\\anaconda3\\lib\\site-packages (from pandas) (2023.3.post1)\n",
      "Requirement already satisfied: tzdata>=2022.1 in c:\\users\\flavi\\anaconda3\\lib\\site-packages (from pandas) (2023.3)\n",
      "Requirement already satisfied: click in c:\\users\\flavi\\anaconda3\\lib\\site-packages (from nltk>=3.8->textblob) (8.0.4)\n",
      "Requirement already satisfied: joblib in c:\\users\\flavi\\anaconda3\\lib\\site-packages (from nltk>=3.8->textblob) (1.2.0)\n",
      "Requirement already satisfied: regex>=2021.8.3 in c:\\users\\flavi\\anaconda3\\lib\\site-packages (from nltk>=3.8->textblob) (2022.7.9)\n",
      "Requirement already satisfied: tqdm in c:\\users\\flavi\\anaconda3\\lib\\site-packages (from nltk>=3.8->textblob) (4.65.0)\n",
      "Requirement already satisfied: six>=1.5 in c:\\users\\flavi\\anaconda3\\lib\\site-packages (from python-dateutil>=2.7->matplotlib) (1.16.0)\n",
      "Requirement already satisfied: colorama in c:\\users\\flavi\\anaconda3\\lib\\site-packages (from click->nltk>=3.8->textblob) (0.4.6)\n",
      "Note: you may need to restart the kernel to use updated packages.\n"
     ]
    }
   ],
   "source": [
    "pip install textblob numpy matplotlib seaborn pandas"
   ]
  },
  {
   "cell_type": "code",
   "execution_count": 2,
   "id": "b65e348c-6b51-4741-8022-053b91f0196a",
   "metadata": {
    "tags": []
   },
   "outputs": [],
   "source": [
    "import kagglehub\n",
    "import pandas as pd\n",
    "import numpy as np\n",
    "import matplotlib.pyplot as plt\n",
    "import seaborn as sns\n",
    "from textblob import TextBlob"
   ]
  },
  {
   "cell_type": "markdown",
   "id": "0c4a0540-ebbf-4096-8f97-934fff73ed88",
   "metadata": {},
   "source": [
    "### Download the dataset from Kaggle"
   ]
  },
  {
   "cell_type": "code",
   "execution_count": 3,
   "id": "c2bf3075-b9f8-40ea-9ee8-862c5ba74b88",
   "metadata": {
    "tags": []
   },
   "outputs": [
    {
     "name": "stdout",
     "output_type": "stream",
     "text": [
      "Path to dataset files: C:\\Users\\flavi\\.cache\\kagglehub\\datasets\\najzeko\\steam-reviews-2021\\versions\\1\n"
     ]
    }
   ],
   "source": [
    "path = kagglehub.dataset_download(\"najzeko/steam-reviews-2021\")\n",
    "\n",
    "print(\"Path to dataset files:\", path)"
   ]
  },
  {
   "cell_type": "markdown",
   "id": "171e4fba-4d8c-4450-96cc-4cc657a96085",
   "metadata": {},
   "source": [
    "# **Exploratory Data Analysis (EDA)**"
   ]
  },
  {
   "cell_type": "markdown",
   "id": "e4270053-432d-4797-ade9-4486f9eaa447",
   "metadata": {},
   "source": [
    " #### Before diving deep into the dataset provided, it is crucial to understand its structure and main features. "
   ]
  },
  {
   "cell_type": "code",
   "execution_count": 4,
   "id": "f4195cc7-c98b-44a2-8776-65d7e1af6820",
   "metadata": {
    "tags": []
   },
   "outputs": [],
   "source": [
    "# Define a function to parse a timestamp in seconds to a datetime format\n",
    "def dateparse(time_in_sec):\n",
    "    return pd.to_datetime(time_in_sec, unit=\"s\") # Convert time in seconds to datetime format"
   ]
  },
  {
   "cell_type": "code",
   "execution_count": 5,
   "id": "c36ede9b-3b89-485e-a71e-bca2fd0c25a0",
   "metadata": {
    "tags": []
   },
   "outputs": [],
   "source": [
    "df= pd.read_csv(\"steam_reviews.csv\",index_col=0)"
   ]
  },
  {
   "cell_type": "code",
   "execution_count": 32,
   "id": "68603fc7-ead0-4c60-a2c0-05a6b0fc00e9",
   "metadata": {},
   "outputs": [],
   "source": [
    "# Apply dateparse function to specific datetime types column of Dataset\n",
    "df[\"timestamp_created\"] = dateparse(df[\"timestamp_created\"])\n",
    "df[\"timestamp_updated\"] = dateparse(df[\"timestamp_updated\"])\n",
    "df[\"author.last_played\"] = dateparse(df[\"author.last_played\"])"
   ]
  },
  {
   "cell_type": "code",
   "execution_count": 7,
   "id": "9caf0e3d-2c87-4a23-a06e-512e7f21551f",
   "metadata": {
    "tags": []
   },
   "outputs": [
    {
     "name": "stdout",
     "output_type": "stream",
     "text": [
      "Dataset rows number: 21747371\n",
      "Dataset columns number: 22\n"
     ]
    }
   ],
   "source": [
    "print(f\"Dataset rows number: {df.shape[0]}\\nDataset columns number: {df.shape[1]}\") "
   ]
  },
  {
   "cell_type": "code",
   "execution_count": 8,
   "id": "2c070eb6-869b-4212-8cef-0eb229fd8042",
   "metadata": {
    "tags": []
   },
   "outputs": [
    {
     "data": {
      "text/plain": [
       "Index(['app_id', 'app_name', 'review_id', 'language', 'review',\n",
       "       'timestamp_created', 'timestamp_updated', 'recommended',\n",
       "       'votes_helpful', 'votes_funny', 'weighted_vote_score', 'comment_count',\n",
       "       'steam_purchase', 'received_for_free', 'written_during_early_access',\n",
       "       'author.steamid', 'author.num_games_owned', 'author.num_reviews',\n",
       "       'author.playtime_forever', 'author.playtime_last_two_weeks',\n",
       "       'author.playtime_at_review', 'author.last_played'],\n",
       "      dtype='object')"
      ]
     },
     "execution_count": 8,
     "metadata": {},
     "output_type": "execute_result"
    }
   ],
   "source": [
    "df.columns"
   ]
  },
  {
   "cell_type": "code",
   "execution_count": 9,
   "id": "8b16e2e2-3ee0-42a7-8f52-e46ede562975",
   "metadata": {
    "tags": []
   },
   "outputs": [
    {
     "data": {
      "text/html": [
       "<div>\n",
       "<style scoped>\n",
       "    .dataframe tbody tr th:only-of-type {\n",
       "        vertical-align: middle;\n",
       "    }\n",
       "\n",
       "    .dataframe tbody tr th {\n",
       "        vertical-align: top;\n",
       "    }\n",
       "\n",
       "    .dataframe thead th {\n",
       "        text-align: right;\n",
       "    }\n",
       "</style>\n",
       "<table border=\"1\" class=\"dataframe\">\n",
       "  <thead>\n",
       "    <tr style=\"text-align: right;\">\n",
       "      <th></th>\n",
       "      <th>app_id</th>\n",
       "      <th>app_name</th>\n",
       "      <th>review_id</th>\n",
       "      <th>language</th>\n",
       "      <th>review</th>\n",
       "      <th>timestamp_created</th>\n",
       "      <th>timestamp_updated</th>\n",
       "      <th>recommended</th>\n",
       "      <th>votes_helpful</th>\n",
       "      <th>votes_funny</th>\n",
       "      <th>...</th>\n",
       "      <th>steam_purchase</th>\n",
       "      <th>received_for_free</th>\n",
       "      <th>written_during_early_access</th>\n",
       "      <th>author.steamid</th>\n",
       "      <th>author.num_games_owned</th>\n",
       "      <th>author.num_reviews</th>\n",
       "      <th>author.playtime_forever</th>\n",
       "      <th>author.playtime_last_two_weeks</th>\n",
       "      <th>author.playtime_at_review</th>\n",
       "      <th>author.last_played</th>\n",
       "    </tr>\n",
       "  </thead>\n",
       "  <tbody>\n",
       "    <tr>\n",
       "      <th>0</th>\n",
       "      <td>292030</td>\n",
       "      <td>The Witcher 3: Wild Hunt</td>\n",
       "      <td>85185598</td>\n",
       "      <td>schinese</td>\n",
       "      <td>不玩此生遗憾，RPG游戏里的天花板，太吸引人了</td>\n",
       "      <td>2021-01-23 06:00:29</td>\n",
       "      <td>2021-01-23 06:00:29</td>\n",
       "      <td>True</td>\n",
       "      <td>0</td>\n",
       "      <td>0</td>\n",
       "      <td>...</td>\n",
       "      <td>True</td>\n",
       "      <td>False</td>\n",
       "      <td>False</td>\n",
       "      <td>76561199095369542</td>\n",
       "      <td>6</td>\n",
       "      <td>2</td>\n",
       "      <td>1909.0</td>\n",
       "      <td>1448.0</td>\n",
       "      <td>1909.0</td>\n",
       "      <td>2021-01-22 19:23:03</td>\n",
       "    </tr>\n",
       "    <tr>\n",
       "      <th>1</th>\n",
       "      <td>292030</td>\n",
       "      <td>The Witcher 3: Wild Hunt</td>\n",
       "      <td>85185250</td>\n",
       "      <td>schinese</td>\n",
       "      <td>拔DIAO无情打桩机--杰洛特!!!</td>\n",
       "      <td>2021-01-23 05:50:30</td>\n",
       "      <td>2021-01-23 05:50:30</td>\n",
       "      <td>True</td>\n",
       "      <td>0</td>\n",
       "      <td>0</td>\n",
       "      <td>...</td>\n",
       "      <td>True</td>\n",
       "      <td>False</td>\n",
       "      <td>False</td>\n",
       "      <td>76561198949504115</td>\n",
       "      <td>30</td>\n",
       "      <td>10</td>\n",
       "      <td>2764.0</td>\n",
       "      <td>2743.0</td>\n",
       "      <td>2674.0</td>\n",
       "      <td>2021-01-23 07:18:27</td>\n",
       "    </tr>\n",
       "    <tr>\n",
       "      <th>2</th>\n",
       "      <td>292030</td>\n",
       "      <td>The Witcher 3: Wild Hunt</td>\n",
       "      <td>85185111</td>\n",
       "      <td>schinese</td>\n",
       "      <td>巫师3NB</td>\n",
       "      <td>2021-01-23 05:46:40</td>\n",
       "      <td>2021-01-23 05:46:40</td>\n",
       "      <td>True</td>\n",
       "      <td>0</td>\n",
       "      <td>0</td>\n",
       "      <td>...</td>\n",
       "      <td>True</td>\n",
       "      <td>False</td>\n",
       "      <td>False</td>\n",
       "      <td>76561199090098988</td>\n",
       "      <td>5</td>\n",
       "      <td>1</td>\n",
       "      <td>1061.0</td>\n",
       "      <td>1061.0</td>\n",
       "      <td>1060.0</td>\n",
       "      <td>2021-01-23 06:36:17</td>\n",
       "    </tr>\n",
       "    <tr>\n",
       "      <th>3</th>\n",
       "      <td>292030</td>\n",
       "      <td>The Witcher 3: Wild Hunt</td>\n",
       "      <td>85184605</td>\n",
       "      <td>english</td>\n",
       "      <td>One of the best RPG's of all time, worthy of a...</td>\n",
       "      <td>2021-01-23 05:32:50</td>\n",
       "      <td>2021-01-23 05:32:50</td>\n",
       "      <td>True</td>\n",
       "      <td>0</td>\n",
       "      <td>0</td>\n",
       "      <td>...</td>\n",
       "      <td>True</td>\n",
       "      <td>False</td>\n",
       "      <td>False</td>\n",
       "      <td>76561199054755373</td>\n",
       "      <td>5</td>\n",
       "      <td>3</td>\n",
       "      <td>5587.0</td>\n",
       "      <td>3200.0</td>\n",
       "      <td>5524.0</td>\n",
       "      <td>2021-01-23 06:35:44</td>\n",
       "    </tr>\n",
       "    <tr>\n",
       "      <th>4</th>\n",
       "      <td>292030</td>\n",
       "      <td>The Witcher 3: Wild Hunt</td>\n",
       "      <td>85184287</td>\n",
       "      <td>schinese</td>\n",
       "      <td>大作</td>\n",
       "      <td>2021-01-23 05:23:47</td>\n",
       "      <td>2021-01-23 05:23:47</td>\n",
       "      <td>True</td>\n",
       "      <td>0</td>\n",
       "      <td>0</td>\n",
       "      <td>...</td>\n",
       "      <td>True</td>\n",
       "      <td>False</td>\n",
       "      <td>False</td>\n",
       "      <td>76561199028326951</td>\n",
       "      <td>7</td>\n",
       "      <td>4</td>\n",
       "      <td>217.0</td>\n",
       "      <td>42.0</td>\n",
       "      <td>217.0</td>\n",
       "      <td>2021-01-16 09:10:49</td>\n",
       "    </tr>\n",
       "  </tbody>\n",
       "</table>\n",
       "<p>5 rows × 22 columns</p>\n",
       "</div>"
      ],
      "text/plain": [
       "   app_id                  app_name  review_id  language  \\\n",
       "0  292030  The Witcher 3: Wild Hunt   85185598  schinese   \n",
       "1  292030  The Witcher 3: Wild Hunt   85185250  schinese   \n",
       "2  292030  The Witcher 3: Wild Hunt   85185111  schinese   \n",
       "3  292030  The Witcher 3: Wild Hunt   85184605   english   \n",
       "4  292030  The Witcher 3: Wild Hunt   85184287  schinese   \n",
       "\n",
       "                                              review   timestamp_created  \\\n",
       "0                            不玩此生遗憾，RPG游戏里的天花板，太吸引人了 2021-01-23 06:00:29   \n",
       "1                                 拔DIAO无情打桩机--杰洛特!!! 2021-01-23 05:50:30   \n",
       "2                                              巫师3NB 2021-01-23 05:46:40   \n",
       "3  One of the best RPG's of all time, worthy of a... 2021-01-23 05:32:50   \n",
       "4                                                 大作 2021-01-23 05:23:47   \n",
       "\n",
       "    timestamp_updated  recommended  votes_helpful  votes_funny  ...  \\\n",
       "0 2021-01-23 06:00:29         True              0            0  ...   \n",
       "1 2021-01-23 05:50:30         True              0            0  ...   \n",
       "2 2021-01-23 05:46:40         True              0            0  ...   \n",
       "3 2021-01-23 05:32:50         True              0            0  ...   \n",
       "4 2021-01-23 05:23:47         True              0            0  ...   \n",
       "\n",
       "   steam_purchase  received_for_free  written_during_early_access  \\\n",
       "0            True              False                        False   \n",
       "1            True              False                        False   \n",
       "2            True              False                        False   \n",
       "3            True              False                        False   \n",
       "4            True              False                        False   \n",
       "\n",
       "      author.steamid  author.num_games_owned  author.num_reviews  \\\n",
       "0  76561199095369542                       6                   2   \n",
       "1  76561198949504115                      30                  10   \n",
       "2  76561199090098988                       5                   1   \n",
       "3  76561199054755373                       5                   3   \n",
       "4  76561199028326951                       7                   4   \n",
       "\n",
       "   author.playtime_forever  author.playtime_last_two_weeks  \\\n",
       "0                   1909.0                          1448.0   \n",
       "1                   2764.0                          2743.0   \n",
       "2                   1061.0                          1061.0   \n",
       "3                   5587.0                          3200.0   \n",
       "4                    217.0                            42.0   \n",
       "\n",
       "   author.playtime_at_review  author.last_played  \n",
       "0                     1909.0 2021-01-22 19:23:03  \n",
       "1                     2674.0 2021-01-23 07:18:27  \n",
       "2                     1060.0 2021-01-23 06:36:17  \n",
       "3                     5524.0 2021-01-23 06:35:44  \n",
       "4                      217.0 2021-01-16 09:10:49  \n",
       "\n",
       "[5 rows x 22 columns]"
      ]
     },
     "execution_count": 9,
     "metadata": {},
     "output_type": "execute_result"
    }
   ],
   "source": [
    "df.head() # visualize the first five values of each column"
   ]
  },
  {
   "cell_type": "code",
   "execution_count": 10,
   "id": "b7dc4055-f562-45fb-9c51-764f6406619e",
   "metadata": {
    "tags": []
   },
   "outputs": [
    {
     "data": {
      "text/html": [
       "<div>\n",
       "<style scoped>\n",
       "    .dataframe tbody tr th:only-of-type {\n",
       "        vertical-align: middle;\n",
       "    }\n",
       "\n",
       "    .dataframe tbody tr th {\n",
       "        vertical-align: top;\n",
       "    }\n",
       "\n",
       "    .dataframe thead th {\n",
       "        text-align: right;\n",
       "    }\n",
       "</style>\n",
       "<table border=\"1\" class=\"dataframe\">\n",
       "  <thead>\n",
       "    <tr style=\"text-align: right;\">\n",
       "      <th></th>\n",
       "      <th>app_id</th>\n",
       "      <th>app_name</th>\n",
       "      <th>review_id</th>\n",
       "      <th>language</th>\n",
       "      <th>review</th>\n",
       "      <th>timestamp_created</th>\n",
       "      <th>timestamp_updated</th>\n",
       "      <th>recommended</th>\n",
       "      <th>votes_helpful</th>\n",
       "      <th>votes_funny</th>\n",
       "      <th>...</th>\n",
       "      <th>steam_purchase</th>\n",
       "      <th>received_for_free</th>\n",
       "      <th>written_during_early_access</th>\n",
       "      <th>author.steamid</th>\n",
       "      <th>author.num_games_owned</th>\n",
       "      <th>author.num_reviews</th>\n",
       "      <th>author.playtime_forever</th>\n",
       "      <th>author.playtime_last_two_weeks</th>\n",
       "      <th>author.playtime_at_review</th>\n",
       "      <th>author.last_played</th>\n",
       "    </tr>\n",
       "  </thead>\n",
       "  <tbody>\n",
       "    <tr>\n",
       "      <th>21747371</th>\n",
       "      <td>546560</td>\n",
       "      <td>Half-Life: Alyx</td>\n",
       "      <td>65645125</td>\n",
       "      <td>english</td>\n",
       "      <td>Holy balls</td>\n",
       "      <td>2020-03-23 18:05:04</td>\n",
       "      <td>2020-03-23 18:05:04</td>\n",
       "      <td>True</td>\n",
       "      <td>0</td>\n",
       "      <td>0</td>\n",
       "      <td>...</td>\n",
       "      <td>True</td>\n",
       "      <td>False</td>\n",
       "      <td>False</td>\n",
       "      <td>76561197967033932</td>\n",
       "      <td>431</td>\n",
       "      <td>7</td>\n",
       "      <td>432.0</td>\n",
       "      <td>0.0</td>\n",
       "      <td>29.0</td>\n",
       "      <td>2020-04-11 17:56:56</td>\n",
       "    </tr>\n",
       "    <tr>\n",
       "      <th>21747372</th>\n",
       "      <td>546560</td>\n",
       "      <td>Half-Life: Alyx</td>\n",
       "      <td>65645115</td>\n",
       "      <td>english</td>\n",
       "      <td>A tripod thing bears down on you, it looks imm...</td>\n",
       "      <td>2020-03-23 18:04:53</td>\n",
       "      <td>2020-03-23 18:04:53</td>\n",
       "      <td>True</td>\n",
       "      <td>0</td>\n",
       "      <td>0</td>\n",
       "      <td>...</td>\n",
       "      <td>False</td>\n",
       "      <td>False</td>\n",
       "      <td>False</td>\n",
       "      <td>76561198046495482</td>\n",
       "      <td>70</td>\n",
       "      <td>10</td>\n",
       "      <td>3296.0</td>\n",
       "      <td>15.0</td>\n",
       "      <td>24.0</td>\n",
       "      <td>2021-01-19 18:17:11</td>\n",
       "    </tr>\n",
       "    <tr>\n",
       "      <th>21747373</th>\n",
       "      <td>546560</td>\n",
       "      <td>Half-Life: Alyx</td>\n",
       "      <td>65645100</td>\n",
       "      <td>english</td>\n",
       "      <td>Honestly this is the best vr game ever</td>\n",
       "      <td>2020-03-23 18:04:33</td>\n",
       "      <td>2020-03-23 18:04:33</td>\n",
       "      <td>True</td>\n",
       "      <td>0</td>\n",
       "      <td>0</td>\n",
       "      <td>...</td>\n",
       "      <td>True</td>\n",
       "      <td>False</td>\n",
       "      <td>False</td>\n",
       "      <td>76561198176379749</td>\n",
       "      <td>79</td>\n",
       "      <td>17</td>\n",
       "      <td>2654.0</td>\n",
       "      <td>0.0</td>\n",
       "      <td>34.0</td>\n",
       "      <td>2020-06-08 16:29:13</td>\n",
       "    </tr>\n",
       "    <tr>\n",
       "      <th>21747374</th>\n",
       "      <td>546560</td>\n",
       "      <td>Half-Life: Alyx</td>\n",
       "      <td>65645066</td>\n",
       "      <td>english</td>\n",
       "      <td>Smooth turning is not working right now.\\nIt a...</td>\n",
       "      <td>2020-03-23 18:03:51</td>\n",
       "      <td>2020-04-08 21:47:02</td>\n",
       "      <td>True</td>\n",
       "      <td>0</td>\n",
       "      <td>0</td>\n",
       "      <td>...</td>\n",
       "      <td>True</td>\n",
       "      <td>False</td>\n",
       "      <td>False</td>\n",
       "      <td>76561198041763187</td>\n",
       "      <td>140</td>\n",
       "      <td>3</td>\n",
       "      <td>210.0</td>\n",
       "      <td>0.0</td>\n",
       "      <td>12.0</td>\n",
       "      <td>2020-05-17 11:36:55</td>\n",
       "    </tr>\n",
       "    <tr>\n",
       "      <th>21747375</th>\n",
       "      <td>546560</td>\n",
       "      <td>Half-Life: Alyx</td>\n",
       "      <td>65644930</td>\n",
       "      <td>schinese</td>\n",
       "      <td>WMR加载中闪退，无法进入游戏\\nWMR Flashback in Load，cant pl...</td>\n",
       "      <td>2020-03-23 18:01:45</td>\n",
       "      <td>2020-06-13 15:06:40</td>\n",
       "      <td>True</td>\n",
       "      <td>0</td>\n",
       "      <td>0</td>\n",
       "      <td>...</td>\n",
       "      <td>True</td>\n",
       "      <td>False</td>\n",
       "      <td>False</td>\n",
       "      <td>76561198116747069</td>\n",
       "      <td>253</td>\n",
       "      <td>7</td>\n",
       "      <td>1062.0</td>\n",
       "      <td>0.0</td>\n",
       "      <td>8.0</td>\n",
       "      <td>2020-10-16 14:12:23</td>\n",
       "    </tr>\n",
       "  </tbody>\n",
       "</table>\n",
       "<p>5 rows × 22 columns</p>\n",
       "</div>"
      ],
      "text/plain": [
       "          app_id         app_name  review_id  language  \\\n",
       "21747371  546560  Half-Life: Alyx   65645125   english   \n",
       "21747372  546560  Half-Life: Alyx   65645115   english   \n",
       "21747373  546560  Half-Life: Alyx   65645100   english   \n",
       "21747374  546560  Half-Life: Alyx   65645066   english   \n",
       "21747375  546560  Half-Life: Alyx   65644930  schinese   \n",
       "\n",
       "                                                     review  \\\n",
       "21747371                                         Holy balls   \n",
       "21747372  A tripod thing bears down on you, it looks imm...   \n",
       "21747373             Honestly this is the best vr game ever   \n",
       "21747374  Smooth turning is not working right now.\\nIt a...   \n",
       "21747375  WMR加载中闪退，无法进入游戏\\nWMR Flashback in Load，cant pl...   \n",
       "\n",
       "           timestamp_created   timestamp_updated  recommended  votes_helpful  \\\n",
       "21747371 2020-03-23 18:05:04 2020-03-23 18:05:04         True              0   \n",
       "21747372 2020-03-23 18:04:53 2020-03-23 18:04:53         True              0   \n",
       "21747373 2020-03-23 18:04:33 2020-03-23 18:04:33         True              0   \n",
       "21747374 2020-03-23 18:03:51 2020-04-08 21:47:02         True              0   \n",
       "21747375 2020-03-23 18:01:45 2020-06-13 15:06:40         True              0   \n",
       "\n",
       "          votes_funny  ...  steam_purchase  received_for_free  \\\n",
       "21747371            0  ...            True              False   \n",
       "21747372            0  ...           False              False   \n",
       "21747373            0  ...            True              False   \n",
       "21747374            0  ...            True              False   \n",
       "21747375            0  ...            True              False   \n",
       "\n",
       "          written_during_early_access     author.steamid  \\\n",
       "21747371                        False  76561197967033932   \n",
       "21747372                        False  76561198046495482   \n",
       "21747373                        False  76561198176379749   \n",
       "21747374                        False  76561198041763187   \n",
       "21747375                        False  76561198116747069   \n",
       "\n",
       "          author.num_games_owned  author.num_reviews  author.playtime_forever  \\\n",
       "21747371                     431                   7                    432.0   \n",
       "21747372                      70                  10                   3296.0   \n",
       "21747373                      79                  17                   2654.0   \n",
       "21747374                     140                   3                    210.0   \n",
       "21747375                     253                   7                   1062.0   \n",
       "\n",
       "          author.playtime_last_two_weeks  author.playtime_at_review  \\\n",
       "21747371                             0.0                       29.0   \n",
       "21747372                            15.0                       24.0   \n",
       "21747373                             0.0                       34.0   \n",
       "21747374                             0.0                       12.0   \n",
       "21747375                             0.0                        8.0   \n",
       "\n",
       "          author.last_played  \n",
       "21747371 2020-04-11 17:56:56  \n",
       "21747372 2021-01-19 18:17:11  \n",
       "21747373 2020-06-08 16:29:13  \n",
       "21747374 2020-05-17 11:36:55  \n",
       "21747375 2020-10-16 14:12:23  \n",
       "\n",
       "[5 rows x 22 columns]"
      ]
     },
     "execution_count": 10,
     "metadata": {},
     "output_type": "execute_result"
    }
   ],
   "source": [
    "df.tail()"
   ]
  },
  {
   "cell_type": "code",
   "execution_count": 11,
   "id": "48aac145-6a3b-4601-bb48-2b7a22a193d1",
   "metadata": {
    "tags": []
   },
   "outputs": [
    {
     "name": "stdout",
     "output_type": "stream",
     "text": [
      "<class 'pandas.core.frame.DataFrame'>\n",
      "Index: 21747371 entries, 0 to 21747375\n",
      "Data columns (total 22 columns):\n",
      " #   Column                          Dtype         \n",
      "---  ------                          -----         \n",
      " 0   app_id                          int64         \n",
      " 1   app_name                        object        \n",
      " 2   review_id                       int64         \n",
      " 3   language                        object        \n",
      " 4   review                          object        \n",
      " 5   timestamp_created               datetime64[ns]\n",
      " 6   timestamp_updated               datetime64[ns]\n",
      " 7   recommended                     bool          \n",
      " 8   votes_helpful                   int64         \n",
      " 9   votes_funny                     int64         \n",
      " 10  weighted_vote_score             float64       \n",
      " 11  comment_count                   int64         \n",
      " 12  steam_purchase                  bool          \n",
      " 13  received_for_free               bool          \n",
      " 14  written_during_early_access     bool          \n",
      " 15  author.steamid                  int64         \n",
      " 16  author.num_games_owned          int64         \n",
      " 17  author.num_reviews              int64         \n",
      " 18  author.playtime_forever         float64       \n",
      " 19  author.playtime_last_two_weeks  float64       \n",
      " 20  author.playtime_at_review       float64       \n",
      " 21  author.last_played              datetime64[ns]\n",
      "dtypes: bool(4), datetime64[ns](3), float64(4), int64(8), object(3)\n",
      "memory usage: 3.2+ GB\n"
     ]
    }
   ],
   "source": [
    "df.info()"
   ]
  },
  {
   "cell_type": "markdown",
   "id": "24d87126-d3e0-469a-9524-5eb2af457e38",
   "metadata": {},
   "source": [
    "## Optimizing Data Types \n",
    "\n",
    "### **Importance of Data Type Conversion**\n",
    "\n",
    "Converting int64 to int32 and float64 to float32 reduces memory usage and speeds up computations. This optimization is crucial for handling large datasets efficiently, saving resources, and improving performance."
   ]
  },
  {
   "cell_type": "code",
   "execution_count": 12,
   "id": "24c998cc-3759-42d9-a0bb-53409e3e81ce",
   "metadata": {
    "tags": []
   },
   "outputs": [
    {
     "data": {
      "text/plain": [
       "app_id                                     int32\n",
       "app_name                                  object\n",
       "review_id                                  int32\n",
       "language                                  object\n",
       "review                                    object\n",
       "timestamp_created                 datetime64[ns]\n",
       "timestamp_updated                 datetime64[ns]\n",
       "recommended                                 bool\n",
       "votes_helpful                              int32\n",
       "votes_funny                                int32\n",
       "weighted_vote_score                      float32\n",
       "comment_count                              int32\n",
       "steam_purchase                              bool\n",
       "received_for_free                           bool\n",
       "written_during_early_access                 bool\n",
       "author.steamid                             int32\n",
       "author.num_games_owned                     int32\n",
       "author.num_reviews                         int32\n",
       "author.playtime_forever                  float32\n",
       "author.playtime_last_two_weeks           float32\n",
       "author.playtime_at_review                float32\n",
       "author.last_played                datetime64[ns]\n",
       "dtype: object"
      ]
     },
     "execution_count": 12,
     "metadata": {},
     "output_type": "execute_result"
    }
   ],
   "source": [
    "for column in df.columns:\n",
    "    if df[column].dtype=='int64':\n",
    "        df[column]=df[column].astype(\"int32\")\n",
    "    elif df[column].dtype=='float64':\n",
    "        df[column]=df[column].astype(\"float32\")\n",
    "df.dtypes"
   ]
  },
  {
   "cell_type": "code",
   "execution_count": 13,
   "id": "aee16af2-5846-4007-9d36-9bcf7759aa73",
   "metadata": {
    "tags": []
   },
   "outputs": [
    {
     "name": "stdout",
     "output_type": "stream",
     "text": [
      "app_id                                0\n",
      "app_name                              0\n",
      "review_id                             0\n",
      "language                              0\n",
      "review                            33748\n",
      "timestamp_created                     0\n",
      "timestamp_updated                     0\n",
      "recommended                           0\n",
      "votes_helpful                         0\n",
      "votes_funny                           0\n",
      "weighted_vote_score                   0\n",
      "comment_count                         0\n",
      "steam_purchase                        0\n",
      "received_for_free                     0\n",
      "written_during_early_access           0\n",
      "author.steamid                        0\n",
      "author.num_games_owned                0\n",
      "author.num_reviews                    0\n",
      "author.playtime_forever               2\n",
      "author.playtime_last_two_weeks        2\n",
      "author.playtime_at_review         25682\n",
      "author.last_played                    2\n",
      "dtype: int64\n"
     ]
    }
   ],
   "source": [
    "# Count na values for each column\n",
    "print(df.isnull().sum())"
   ]
  },
  {
   "cell_type": "code",
   "execution_count": 14,
   "id": "207e696f-b9ac-4fec-9ab6-451e1efdff8e",
   "metadata": {
    "tags": []
   },
   "outputs": [
    {
     "name": "stdout",
     "output_type": "stream",
     "text": [
      "app_id                            0\n",
      "app_name                          0\n",
      "review_id                         0\n",
      "language                          0\n",
      "review                            0\n",
      "timestamp_created                 0\n",
      "timestamp_updated                 0\n",
      "recommended                       0\n",
      "votes_helpful                     0\n",
      "votes_funny                       0\n",
      "weighted_vote_score               0\n",
      "comment_count                     0\n",
      "steam_purchase                    0\n",
      "received_for_free                 0\n",
      "written_during_early_access       0\n",
      "author.steamid                    0\n",
      "author.num_games_owned            0\n",
      "author.num_reviews                0\n",
      "author.playtime_forever           0\n",
      "author.playtime_last_two_weeks    0\n",
      "author.playtime_at_review         0\n",
      "author.last_played                0\n",
      "dtype: int64\n"
     ]
    }
   ],
   "source": [
    "# clear the dataset \n",
    "df=df.dropna()\n",
    "print(df.isnull().sum())"
   ]
  },
  {
   "cell_type": "markdown",
   "id": "a16bd53c-eba8-4ade-9768-3e910bf6397c",
   "metadata": {},
   "source": [
    "### Descriptive Statistics for a DataFrame"
   ]
  },
  {
   "cell_type": "code",
   "execution_count": 15,
   "id": "7b08a332-37d9-4d87-beb5-263f7abf779a",
   "metadata": {
    "tags": []
   },
   "outputs": [
    {
     "data": {
      "text/html": [
       "<div>\n",
       "<style scoped>\n",
       "    .dataframe tbody tr th:only-of-type {\n",
       "        vertical-align: middle;\n",
       "    }\n",
       "\n",
       "    .dataframe tbody tr th {\n",
       "        vertical-align: top;\n",
       "    }\n",
       "\n",
       "    .dataframe thead th {\n",
       "        text-align: right;\n",
       "    }\n",
       "</style>\n",
       "<table border=\"1\" class=\"dataframe\">\n",
       "  <thead>\n",
       "    <tr style=\"text-align: right;\">\n",
       "      <th></th>\n",
       "      <th>app_id</th>\n",
       "      <th>review_id</th>\n",
       "      <th>timestamp_created</th>\n",
       "      <th>timestamp_updated</th>\n",
       "      <th>votes_helpful</th>\n",
       "      <th>votes_funny</th>\n",
       "      <th>weighted_vote_score</th>\n",
       "      <th>comment_count</th>\n",
       "      <th>author.steamid</th>\n",
       "      <th>author.num_games_owned</th>\n",
       "      <th>author.num_reviews</th>\n",
       "      <th>author.playtime_forever</th>\n",
       "      <th>author.playtime_last_two_weeks</th>\n",
       "      <th>author.playtime_at_review</th>\n",
       "      <th>author.last_played</th>\n",
       "    </tr>\n",
       "  </thead>\n",
       "  <tbody>\n",
       "    <tr>\n",
       "      <th>count</th>\n",
       "      <td>2.168794e+07</td>\n",
       "      <td>2.168794e+07</td>\n",
       "      <td>21687945</td>\n",
       "      <td>21687945</td>\n",
       "      <td>2.168794e+07</td>\n",
       "      <td>2.168794e+07</td>\n",
       "      <td>2.168794e+07</td>\n",
       "      <td>2.168794e+07</td>\n",
       "      <td>2.168794e+07</td>\n",
       "      <td>2.168794e+07</td>\n",
       "      <td>2.168794e+07</td>\n",
       "      <td>2.168794e+07</td>\n",
       "      <td>2.168794e+07</td>\n",
       "      <td>2.168794e+07</td>\n",
       "      <td>21687945</td>\n",
       "    </tr>\n",
       "    <tr>\n",
       "      <th>mean</th>\n",
       "      <td>3.929268e+05</td>\n",
       "      <td>5.188274e+07</td>\n",
       "      <td>2018-12-10 17:56:20.150121216</td>\n",
       "      <td>2019-01-15 22:56:17.220821760</td>\n",
       "      <td>1.899059e+00</td>\n",
       "      <td>8.148161e-01</td>\n",
       "      <td>1.655262e-01</td>\n",
       "      <td>1.309590e-01</td>\n",
       "      <td>3.406181e+08</td>\n",
       "      <td>1.327215e+02</td>\n",
       "      <td>1.051874e+01</td>\n",
       "      <td>1.611049e+04</td>\n",
       "      <td>1.555895e+02</td>\n",
       "      <td>8.809670e+03</td>\n",
       "      <td>2020-02-01 15:37:33.922483200</td>\n",
       "    </tr>\n",
       "    <tr>\n",
       "      <th>min</th>\n",
       "      <td>7.000000e+01</td>\n",
       "      <td>4.300000e+01</td>\n",
       "      <td>2010-11-19 20:17:16</td>\n",
       "      <td>2010-11-19 20:17:16</td>\n",
       "      <td>0.000000e+00</td>\n",
       "      <td>-1.500000e+01</td>\n",
       "      <td>0.000000e+00</td>\n",
       "      <td>0.000000e+00</td>\n",
       "      <td>2.000000e+00</td>\n",
       "      <td>0.000000e+00</td>\n",
       "      <td>1.000000e+00</td>\n",
       "      <td>0.000000e+00</td>\n",
       "      <td>0.000000e+00</td>\n",
       "      <td>1.000000e+00</td>\n",
       "      <td>1970-01-01 00:00:00</td>\n",
       "    </tr>\n",
       "    <tr>\n",
       "      <th>25%</th>\n",
       "      <td>2.427600e+05</td>\n",
       "      <td>3.642574e+07</td>\n",
       "      <td>2017-11-10 19:23:34</td>\n",
       "      <td>2017-11-27 03:32:55</td>\n",
       "      <td>0.000000e+00</td>\n",
       "      <td>0.000000e+00</td>\n",
       "      <td>0.000000e+00</td>\n",
       "      <td>0.000000e+00</td>\n",
       "      <td>1.110542e+08</td>\n",
       "      <td>2.200000e+01</td>\n",
       "      <td>2.000000e+00</td>\n",
       "      <td>1.253000e+03</td>\n",
       "      <td>0.000000e+00</td>\n",
       "      <td>5.590000e+02</td>\n",
       "      <td>2019-11-10 08:14:24</td>\n",
       "    </tr>\n",
       "    <tr>\n",
       "      <th>50%</th>\n",
       "      <td>3.595500e+05</td>\n",
       "      <td>5.383820e+07</td>\n",
       "      <td>2019-07-06 20:28:58</td>\n",
       "      <td>2019-10-27 11:48:18</td>\n",
       "      <td>0.000000e+00</td>\n",
       "      <td>0.000000e+00</td>\n",
       "      <td>0.000000e+00</td>\n",
       "      <td>0.000000e+00</td>\n",
       "      <td>2.163602e+08</td>\n",
       "      <td>6.100000e+01</td>\n",
       "      <td>4.000000e+00</td>\n",
       "      <td>4.315000e+03</td>\n",
       "      <td>0.000000e+00</td>\n",
       "      <td>1.881000e+03</td>\n",
       "      <td>2020-09-02 16:01:43</td>\n",
       "    </tr>\n",
       "    <tr>\n",
       "      <th>75%</th>\n",
       "      <td>5.780800e+05</td>\n",
       "      <td>6.928469e+07</td>\n",
       "      <td>2020-05-17 04:42:36</td>\n",
       "      <td>2020-06-05 21:29:39</td>\n",
       "      <td>1.000000e+00</td>\n",
       "      <td>0.000000e+00</td>\n",
       "      <td>4.829141e-01</td>\n",
       "      <td>0.000000e+00</td>\n",
       "      <td>4.192129e+08</td>\n",
       "      <td>1.460000e+02</td>\n",
       "      <td>1.000000e+01</td>\n",
       "      <td>1.493800e+04</td>\n",
       "      <td>0.000000e+00</td>\n",
       "      <td>6.825000e+03</td>\n",
       "      <td>2020-12-26 17:07:27</td>\n",
       "    </tr>\n",
       "    <tr>\n",
       "      <th>max</th>\n",
       "      <td>1.291340e+06</td>\n",
       "      <td>8.521867e+07</td>\n",
       "      <td>2021-01-23 18:24:47</td>\n",
       "      <td>2042-05-11 00:59:57</td>\n",
       "      <td>2.960800e+04</td>\n",
       "      <td>2.253200e+04</td>\n",
       "      <td>9.959868e-01</td>\n",
       "      <td>4.893000e+03</td>\n",
       "      <td>1.173000e+09</td>\n",
       "      <td>2.425800e+04</td>\n",
       "      <td>5.236000e+03</td>\n",
       "      <td>3.744943e+06</td>\n",
       "      <td>2.703900e+04</td>\n",
       "      <td>3.228103e+06</td>\n",
       "      <td>2021-01-23 20:35:42</td>\n",
       "    </tr>\n",
       "    <tr>\n",
       "      <th>std</th>\n",
       "      <td>2.481071e+05</td>\n",
       "      <td>2.083272e+07</td>\n",
       "      <td>NaN</td>\n",
       "      <td>NaN</td>\n",
       "      <td>3.988429e+01</td>\n",
       "      <td>2.791677e+01</td>\n",
       "      <td>2.238012e-01</td>\n",
       "      <td>2.201967e+00</td>\n",
       "      <td>3.179290e+08</td>\n",
       "      <td>2.815630e+02</td>\n",
       "      <td>3.422650e+01</td>\n",
       "      <td>3.594262e+04</td>\n",
       "      <td>7.156135e+02</td>\n",
       "      <td>2.309705e+04</td>\n",
       "      <td>NaN</td>\n",
       "    </tr>\n",
       "  </tbody>\n",
       "</table>\n",
       "</div>"
      ],
      "text/plain": [
       "             app_id     review_id              timestamp_created  \\\n",
       "count  2.168794e+07  2.168794e+07                       21687945   \n",
       "mean   3.929268e+05  5.188274e+07  2018-12-10 17:56:20.150121216   \n",
       "min    7.000000e+01  4.300000e+01            2010-11-19 20:17:16   \n",
       "25%    2.427600e+05  3.642574e+07            2017-11-10 19:23:34   \n",
       "50%    3.595500e+05  5.383820e+07            2019-07-06 20:28:58   \n",
       "75%    5.780800e+05  6.928469e+07            2020-05-17 04:42:36   \n",
       "max    1.291340e+06  8.521867e+07            2021-01-23 18:24:47   \n",
       "std    2.481071e+05  2.083272e+07                            NaN   \n",
       "\n",
       "                   timestamp_updated  votes_helpful   votes_funny  \\\n",
       "count                       21687945   2.168794e+07  2.168794e+07   \n",
       "mean   2019-01-15 22:56:17.220821760   1.899059e+00  8.148161e-01   \n",
       "min              2010-11-19 20:17:16   0.000000e+00 -1.500000e+01   \n",
       "25%              2017-11-27 03:32:55   0.000000e+00  0.000000e+00   \n",
       "50%              2019-10-27 11:48:18   0.000000e+00  0.000000e+00   \n",
       "75%              2020-06-05 21:29:39   1.000000e+00  0.000000e+00   \n",
       "max              2042-05-11 00:59:57   2.960800e+04  2.253200e+04   \n",
       "std                              NaN   3.988429e+01  2.791677e+01   \n",
       "\n",
       "       weighted_vote_score  comment_count  author.steamid  \\\n",
       "count         2.168794e+07   2.168794e+07    2.168794e+07   \n",
       "mean          1.655262e-01   1.309590e-01    3.406181e+08   \n",
       "min           0.000000e+00   0.000000e+00    2.000000e+00   \n",
       "25%           0.000000e+00   0.000000e+00    1.110542e+08   \n",
       "50%           0.000000e+00   0.000000e+00    2.163602e+08   \n",
       "75%           4.829141e-01   0.000000e+00    4.192129e+08   \n",
       "max           9.959868e-01   4.893000e+03    1.173000e+09   \n",
       "std           2.238012e-01   2.201967e+00    3.179290e+08   \n",
       "\n",
       "       author.num_games_owned  author.num_reviews  author.playtime_forever  \\\n",
       "count            2.168794e+07        2.168794e+07             2.168794e+07   \n",
       "mean             1.327215e+02        1.051874e+01             1.611049e+04   \n",
       "min              0.000000e+00        1.000000e+00             0.000000e+00   \n",
       "25%              2.200000e+01        2.000000e+00             1.253000e+03   \n",
       "50%              6.100000e+01        4.000000e+00             4.315000e+03   \n",
       "75%              1.460000e+02        1.000000e+01             1.493800e+04   \n",
       "max              2.425800e+04        5.236000e+03             3.744943e+06   \n",
       "std              2.815630e+02        3.422650e+01             3.594262e+04   \n",
       "\n",
       "       author.playtime_last_two_weeks  author.playtime_at_review  \\\n",
       "count                    2.168794e+07               2.168794e+07   \n",
       "mean                     1.555895e+02               8.809670e+03   \n",
       "min                      0.000000e+00               1.000000e+00   \n",
       "25%                      0.000000e+00               5.590000e+02   \n",
       "50%                      0.000000e+00               1.881000e+03   \n",
       "75%                      0.000000e+00               6.825000e+03   \n",
       "max                      2.703900e+04               3.228103e+06   \n",
       "std                      7.156135e+02               2.309705e+04   \n",
       "\n",
       "                  author.last_played  \n",
       "count                       21687945  \n",
       "mean   2020-02-01 15:37:33.922483200  \n",
       "min              1970-01-01 00:00:00  \n",
       "25%              2019-11-10 08:14:24  \n",
       "50%              2020-09-02 16:01:43  \n",
       "75%              2020-12-26 17:07:27  \n",
       "max              2021-01-23 20:35:42  \n",
       "std                              NaN  "
      ]
     },
     "execution_count": 15,
     "metadata": {},
     "output_type": "execute_result"
    }
   ],
   "source": [
    "df.describe()"
   ]
  },
  {
   "cell_type": "markdown",
   "id": "afb84464-226a-4221-bf48-ca873ad9cf79",
   "metadata": {},
   "source": [
    "View all languages ​​of user-written reviews on the Steam gaming platform :"
   ]
  },
  {
   "cell_type": "markdown",
   "id": "666bce22-cdcc-4cea-9f46-92b376fa4c66",
   "metadata": {},
   "source": [
    "## Language and Review Analysis "
   ]
  },
  {
   "cell_type": "code",
   "execution_count": 16,
   "id": "2311ba82-d243-4151-a911-635d2eb1ca83",
   "metadata": {
    "tags": []
   },
   "outputs": [
    {
     "data": {
      "text/plain": [
       "array(['schinese', 'english', 'turkish', 'spanish', 'russian', 'koreana',\n",
       "       'latam', 'brazilian', 'portuguese', 'vietnamese', 'polish',\n",
       "       'french', 'german', 'hungarian', 'ukrainian', 'tchinese',\n",
       "       'bulgarian', 'czech', 'italian', 'thai', 'greek', 'dutch',\n",
       "       'finnish', 'romanian', 'japanese', 'swedish', 'danish',\n",
       "       'norwegian'], dtype=object)"
      ]
     },
     "execution_count": 16,
     "metadata": {},
     "output_type": "execute_result"
    }
   ],
   "source": [
    "pd.unique(df.language)"
   ]
  },
  {
   "cell_type": "code",
   "execution_count": 17,
   "id": "c658f27e-47b7-4028-b4ad-ccc1833e381c",
   "metadata": {
    "tags": []
   },
   "outputs": [
    {
     "data": {
      "image/png": "[encoded data removed]",
      "text/plain": [
       "<Figure size 1000x600 with 1 Axes>"
      ]
     },
     "metadata": {},
     "output_type": "display_data"
    }
   ],
   "source": [
    "viridis = sns.color_palette(\"viridis\",len(df.language.value_counts()))\n",
    "plt.figure(figsize=(10,6))\n",
    "df.language.value_counts().sort_values(ascending=True).plot.barh(\n",
    "    width=0.5, \n",
    "    title=\"Number of reviews per language\", \n",
    "    color=viridis\n",
    ")\n",
    "plt.tight_layout()\n",
    "plt.grid()\n",
    "plt.show()"
   ]
  },
  {
   "cell_type": "markdown",
   "id": "62ccb8df-69ce-42d8-9905-db22e64f5c83",
   "metadata": {
    "tags": []
   },
   "source": [
    "From the barplot in the figure, it can be seen that the largest number of reviews written by users in 2021 are in English followed by Chinese and Russian.A possible reason for the largest number of reviews in English, followed by Chinese and Russian, could be the global prevalence of these languages among internet users. English remains the most widely used language online, enabling a larger base of users to engage with content and share reviews. Similarly, Chinese and Russian have large native-speaking populations, many of whom increasingly participate in global and local online platforms, contributing significantly to review counts. Additionally, these languages are commonly used on major review platforms, which may encourage users to write reviews in their native or most commonly used language."
   ]
  },
  {
   "cell_type": "code",
   "execution_count": 18,
   "id": "cb446f5a-0b6b-44d5-94b9-26b8c53ed1e2",
   "metadata": {
    "tags": []
   },
   "outputs": [
    {
     "data": {
      "text/html": [
       "<div>\n",
       "<style scoped>\n",
       "    .dataframe tbody tr th:only-of-type {\n",
       "        vertical-align: middle;\n",
       "    }\n",
       "\n",
       "    .dataframe tbody tr th {\n",
       "        vertical-align: top;\n",
       "    }\n",
       "\n",
       "    .dataframe thead th {\n",
       "        text-align: right;\n",
       "    }\n",
       "</style>\n",
       "<table border=\"1\" class=\"dataframe\">\n",
       "  <thead>\n",
       "    <tr style=\"text-align: right;\">\n",
       "      <th></th>\n",
       "      <th>review</th>\n",
       "    </tr>\n",
       "  </thead>\n",
       "  <tbody>\n",
       "    <tr>\n",
       "      <th>3</th>\n",
       "      <td>One of the best RPG's of all time, worthy of a...</td>\n",
       "    </tr>\n",
       "    <tr>\n",
       "      <th>5</th>\n",
       "      <td>good story, good graphics. lots to do.</td>\n",
       "    </tr>\n",
       "    <tr>\n",
       "      <th>6</th>\n",
       "      <td>dis gud,</td>\n",
       "    </tr>\n",
       "    <tr>\n",
       "      <th>18</th>\n",
       "      <td>favorite game of all time cant wait for the Ne...</td>\n",
       "    </tr>\n",
       "    <tr>\n",
       "      <th>20</th>\n",
       "      <td>Why wouldn't you get this</td>\n",
       "    </tr>\n",
       "  </tbody>\n",
       "</table>\n",
       "</div>"
      ],
      "text/plain": [
       "                                               review\n",
       "3   One of the best RPG's of all time, worthy of a...\n",
       "5              good story, good graphics. lots to do.\n",
       "6                                            dis gud,\n",
       "18  favorite game of all time cant wait for the Ne...\n",
       "20                          Why wouldn't you get this"
      ]
     },
     "execution_count": 18,
     "metadata": {},
     "output_type": "execute_result"
    }
   ],
   "source": [
    "english_reviews=df[[\"review\"]][df[\"language\"]==\"english\"][:100000]\n",
    "english_reviews.head()"
   ]
  },
  {
   "cell_type": "code",
   "execution_count": 19,
   "id": "34c415b4-7bf7-4be6-8b88-2432c976e244",
   "metadata": {
    "tags": []
   },
   "outputs": [],
   "source": [
    "def get_sentiment(text):\n",
    "    polarity = TextBlob(text).sentiment.polarity\n",
    "    return 'positive' if polarity > 0 else ('negative' if polarity < 0 else 'neutral')"
   ]
  },
  {
   "cell_type": "code",
   "execution_count": 20,
   "id": "aed75fab-6778-4e88-992c-7779d395c1f7",
   "metadata": {},
   "outputs": [
    {
     "data": {
      "text/plain": [
       "3     positive\n",
       "5     positive\n",
       "6      neutral\n",
       "18    positive\n",
       "20     neutral\n",
       "Name: sentiment, dtype: object"
      ]
     },
     "execution_count": 20,
     "metadata": {},
     "output_type": "execute_result"
    }
   ],
   "source": [
    "english_reviews['sentiment'] = english_reviews['review'].apply(get_sentiment)\n",
    "english_reviews['sentiment'].head()"
   ]
  },
  {
   "cell_type": "code",
   "execution_count": 21,
   "id": "3529c99a-ecfa-4864-8f91-cc4bfb2ab53c",
   "metadata": {
    "tags": []
   },
   "outputs": [
    {
     "data": {
      "text/plain": [
       "sentiment\n",
       "positive    68829\n",
       "neutral     18067\n",
       "negative    13104\n",
       "Name: count, dtype: int64"
      ]
     },
     "execution_count": 21,
     "metadata": {},
     "output_type": "execute_result"
    }
   ],
   "source": [
    "english_reviews['sentiment'].value_counts()"
   ]
  },
  {
   "cell_type": "code",
   "execution_count": 22,
   "id": "9fa6ebd3-fbad-40a0-b540-f4131aac154d",
   "metadata": {
    "tags": []
   },
   "outputs": [
    {
     "name": "stdout",
     "output_type": "stream",
     "text": [
      "The Positive percent is 68.83% Neutral percent is 18.07% Negative percent is 13.1%\n"
     ]
    }
   ],
   "source": [
    "Positive_percent=english_reviews['sentiment'].value_counts()[0]/100000 * 100\n",
    "Neutral_percent= english_reviews['sentiment'].value_counts()[1]/100000 * 100\n",
    "Negative_percent= english_reviews['sentiment'].value_counts()[2]/100000 * 100\n",
    "\n",
    "print(f\"The Positive percent is {str(round(Positive_percent,2))}% \"\n",
    "     f\"Neutral percent is {str(round(Neutral_percent,2))}% \"\n",
    "     f\"Negative percent is {str(round(Negative_percent,2))}%\")"
   ]
  },
  {
   "cell_type": "code",
   "execution_count": 23,
   "id": "39ebda84-8005-49cc-b40d-1e0f3c3739a9",
   "metadata": {
    "tags": []
   },
   "outputs": [
    {
     "data": {
      "image/png": "[encoded data removed]",
      "text/plain": [
       "<Figure size 640x480 with 1 Axes>"
      ]
     },
     "metadata": {},
     "output_type": "display_data"
    }
   ],
   "source": [
    "plt.hist(english_reviews['sentiment'], color='skyblue', edgecolor='black')\n",
    "plt.xlabel('Sentiment')\n",
    "plt.ylabel('Number of reviews')\n",
    "plt.title('Reviews sentiment distribution')\n",
    "plt.show()"
   ]
  },
  {
   "cell_type": "markdown",
   "id": "97585ed1-ade7-4628-a97a-2c0eb47ae345",
   "metadata": {},
   "source": [
    "## Steam game reviews sentiment Analysis\n",
    "\n",
    "The following analysis explores the sentiment distribution of Steam game reviews in **English**, which range from -1.0 (negative) to 1.0 (positive).\n",
    "\n",
    "### Dataset size information and implications\n",
    "\n",
    "- For this analysis we considered only 100000 reviews \n",
    "\n",
    "### Comments of the results\n",
    "\n",
    "- Steam community shows a **strong tendency** toward positive feedback\n",
    "- Only about 13% of reviews are negative\n",
    "- The number of neutral reviews is similar to the number of negative reviews\n",
    "\n",
    "### Considerations\n",
    "\n",
    "- Steam users generally provide **positive feedback**, indicating satisfaction with the games reviewed.\n",
    "- Extremely negative reviews are **uncommon**, suggesting that users are either content with their experiences or selective in their critiques.\n",
    "- **Moderate positivity** seems to be the norm rather than extreme opinions, reflecting a balanced perspective among reviewers.\n",
    "- The review system illustrates a **healthy and engaged community**, contributing to the overall success of games on the platform.\n"
   ]
  },
  {
   "cell_type": "markdown",
   "id": "2a8c9887-99e1-474a-af49-032e91bc788d",
   "metadata": {},
   "source": [
    "## Number of videogames owned per Steam utent "
   ]
  },
  {
   "cell_type": "code",
   "execution_count": 24,
   "id": "6f8112a0-59e4-4801-b87c-2bdbdc333e47",
   "metadata": {
    "tags": []
   },
   "outputs": [],
   "source": [
    "number_videogames_owned=df[\"author.num_games_owned\"].value_counts().sort_values(ascending=False)"
   ]
  },
  {
   "cell_type": "markdown",
   "id": "20d20344-3125-43d1-9ed9-5245311ca8e0",
   "metadata": {},
   "source": [
    "### **We create different categories of users based on the games they own in their Steam library**"
   ]
  },
  {
   "cell_type": "code",
   "execution_count": 25,
   "id": "5ab000f6-fed3-4b21-9de9-42f6acb783cf",
   "metadata": {
    "tags": []
   },
   "outputs": [],
   "source": [
    "bins = [1, 10, 20, 51, 201, float('inf')]  \n",
    "Gamer_categories = ['Occasional', 'Casual Gamer', 'Moderate Gamer', 'Passionate Gamer', 'Collector']  "
   ]
  },
  {
   "cell_type": "code",
   "execution_count": 26,
   "id": "7e93e1a2-77dc-4c7b-8c6f-c934c096c9ae",
   "metadata": {
    "tags": []
   },
   "outputs": [],
   "source": [
    "df['game_category'] = pd.cut(df['author.num_games_owned'], bins=bins, labels=Gamer_categories, right=True)\n",
    "category_counts = df['game_category'].value_counts()"
   ]
  },
  {
   "cell_type": "code",
   "execution_count": 27,
   "id": "d4100fb8-f2da-4e3d-a68f-a507741e03f6",
   "metadata": {
    "tags": []
   },
   "outputs": [
    {
     "data": {
      "image/png": "[encoded data removed]",
      "text/plain": [
       "<Figure size 600x600 with 1 Axes>"
      ]
     },
     "metadata": {},
     "output_type": "display_data"
    }
   ],
   "source": [
    "Spectral=sns.color_palette(\"Spectral\",5)\n",
    "plt.figure(figsize=(6, 6))\n",
    "plt.pie(category_counts, labels=category_counts.index, autopct='%1.1f%%', startangle=150, colors=Spectral)\n",
    "plt.title('Distribution of users based on number of Videogames owned',fontsize=12, fontweight='bold')\n",
    "plt.show()"
   ]
  },
  {
   "cell_type": "markdown",
   "id": "e3a46746-a2dd-4f14-bc30-26bd1cacbf5e",
   "metadata": {},
   "source": [
    "## User Distribution Analysis by Game Ownership \n",
    "\n",
    "The pie chart illustrates the distribution of Steam users by the number of games they own. **Users are divided into five distinct groups:**\n",
    "\n",
    "- **Passionate Gamer:** This is the largest category, comprising 38.1% of users. Avid gamers are likely to have a strong dedication to gaming, amassing a sizeable collection of games. This group may consist of users who are frequently active on the platform, who purchase and play a wide variety of games, such as streamers, YouTubers, and content creators from other platforms;\n",
    "\n",
    "- **Moderate Gamer:** The second largest group, comprising 22% of the user base, is likely to consist of gamers who enjoy gaming but have a small library. They may be selective in their purchases, purchasing only games they are particularly interested in;\n",
    "\n",
    "- **Collector:** The third group includes 17.6% of users who focus on building as large a game library as possible. They may not necessarily play all games extensively, but they enjoy accumulating games, perhaps out of interest in building a collection or taking advantage of discounts on the platform;\n",
    "\n",
    "- **Occasional Gamer:** This group, representing 12.4% of users, likely represents individuals who play games sporadically. Casual gamers may purchase games infrequently and play only occasionally, perhaps reflecting a more casual interest or limited play time.\n",
    "\n",
    "- **Casual Gamer:** The smallest group, representing 10.4% of users, are casual gamers. These users likely have a minimal collection of games and interact with the platform infrequently, using it primarily for occasional entertainment.\n",
    "\n",
    "### Considerations\n",
    "\n",
    "The chart shows a broad level of user activity on Steam, with nearly 60% of users classified as either avid or moderate gamers. This suggests that a significant portion of the user base is heavily engaged in gaming, while smaller segments use the platform more casually."
   ]
  },
  {
   "cell_type": "markdown",
   "id": "a6b4e3c9-741a-4101-ab15-edd560334369",
   "metadata": {},
   "source": [
    "## The bests and worsts selling games on Steam "
   ]
  },
  {
   "cell_type": "code",
   "execution_count": 28,
   "id": "905254cd-2658-44bf-81cd-43f0011af0e2",
   "metadata": {
    "tags": []
   },
   "outputs": [],
   "source": [
    "best_selling_games=df[\"app_name\"].value_counts().sort_values(ascending=False)/1000\n",
    "worst_selling_games=df[\"app_name\"].value_counts().sort_values(ascending=False)[-10:-1]"
   ]
  },
  {
   "cell_type": "code",
   "execution_count": 29,
   "id": "e3f4a116-9bfc-4947-86de-1add14bfa001",
   "metadata": {
    "tags": []
   },
   "outputs": [
    {
     "data": {
      "text/plain": [
       "app_name\n",
       "PLAYERUNKNOWN'S BATTLEGROUNDS     1642.631\n",
       "Grand Theft Auto V                1016.370\n",
       "Tom Clancy's Rainbow Six Siege     839.838\n",
       "Terraria                           671.425\n",
       "Garry's Mod                        653.815\n",
       "Rust                               548.020\n",
       "Rocket League                      497.249\n",
       "PAYDAY 2                           486.110\n",
       "Among Us                           483.393\n",
       "The Witcher 3: Wild Hunt           468.330\n",
       "Name: count, dtype: float64"
      ]
     },
     "execution_count": 29,
     "metadata": {},
     "output_type": "execute_result"
    }
   ],
   "source": [
    "best_selling_games[:10]"
   ]
  },
  {
   "cell_type": "code",
   "execution_count": 30,
   "id": "a6cdcafb-285c-48f4-82f5-774914a5f00c",
   "metadata": {
    "tags": []
   },
   "outputs": [
    {
     "data": {
      "text/plain": [
       "app_name\n",
       "Rapture Rejects                    1598\n",
       "WWE 2K17                           1496\n",
       "Budget Cuts                        1295\n",
       "Toukiden 2                         1199\n",
       "Slipstream                         1101\n",
       "Don't Escape: 4 Days to Survive    1011\n",
       "Out of the Park Baseball 19         699\n",
       "Shadow Complex Remastered           699\n",
       "Name: count, dtype: int64"
      ]
     },
     "execution_count": 30,
     "metadata": {},
     "output_type": "execute_result"
    }
   ],
   "source": [
    "worst_selling_games[-10:-1]"
   ]
  },
  {
   "cell_type": "code",
   "execution_count": 31,
   "id": "2c50ea45-ddd5-4ca5-b16b-6fb9d28457eb",
   "metadata": {
    "tags": []
   },
   "outputs": [
    {
     "data": {
      "image/png": "[encoded data removed]",
      "text/plain": [
       "<Figure size 1400x800 with 2 Axes>"
      ]
     },
     "metadata": {},
     "output_type": "display_data"
    }
   ],
   "source": [
    "fig, axs = plt.subplots(1, 2, figsize=(14, 8))\n",
    "best_selling_games[:10].plot.bar(y='Sales', ax=axs[0], color='purple',width=0.4)\n",
    "axs[0].set_title(\"Top 10 Games Sold in Thousands of Copies\",weight=\"bold\")\n",
    "axs[0].tick_params(axis='x', labelsize=7)\n",
    "axs[0].set_ylabel(\"Sales\")\n",
    "axs[0].set_xlabel(\"\")\n",
    "axs[0].grid()\n",
    "\n",
    "worst_selling_games.plot.bar(y='Sales', ax=axs[1], color='darkorange',width=0.4)\n",
    "axs[1].set_title(\"Worst 10 Games Sold\",weight=\"bold\")\n",
    "axs[1].tick_params(axis='x', labelsize=7)\n",
    "axs[1].set_ylabel(\"Sales\")\n",
    "axs[1].set_xlabel(\"\")\n",
    "axs[1].grid()  \n",
    "\n",
    "plt.tight_layout()\n",
    "plt.show()"
   ]
  },
  {
   "cell_type": "markdown",
   "id": "615f24e9-d407-4769-a109-941c7a6a6180",
   "metadata": {},
   "source": [
    "From the graphs shown, it can be highlighted that the game \"Playerunknown's Battlegrounds\" (PUBG) in 2021 is the best-selling with over 160,000 copies. On the other hand, the game \"Dragon Quest Heroes 2\" is the least sold with only 600 copies. The success of online multiplayer games like PUBG  likely stems from both their competitive nature and the gaming industry's growth during the COVID-19 pandemic, when people sought virtual social interactions and entertainment while staying at home. Additionally, the gap between top and lower sellers suggests that factors like online component, cross-platform availability and continuous game updates play crucial roles in commercial success."
   ]
  },
  {
   "cell_type": "markdown",
   "id": "7d38f6c6-e608-49f9-9b6c-f44d67c3c21d",
   "metadata": {},
   "source": [
    "# **ALGORITHM QUESTION**"
   ]
  },
  {
   "cell_type": "markdown",
   "id": "0022a5ca-13ca-4c5a-a0d2-b7c590fafead",
   "metadata": {},
   "source": [
    "## Information about the Algorithm"
   ]
  },
  {
   "cell_type": "markdown",
   "id": "8ca780f7-4dc9-41ff-9901-432f75bb9bb4",
   "metadata": {},
   "source": [
    "You are given two positive integers, ( n ) (where 1 ≤ n ≤ 10^9) and and k (where q ≤ k ≤ 100).Your task is to express n as the sum of k positive integers, all having the same parity (i.e., all have the same remainder when divided by 2, meaning they are either all even or all odd). In other words, find a₁, a₂, ..., aₖ, each aᵢ > 0, such that n = a₁ + a₂ + ... + aₖ, and all aᵢ simultaneously are either even or odd. If it's impossible to represent n in this way, report that no such representation exists.\n",
    "\n",
    "- ## Input\n",
    "In the first input line, you will receive a number t (where 1 ≤ t ≤ 100), representing the number of test cases. The following t lines will contain two values, n and k, corresponding to each test case.\n",
    "\n",
    "- ## Output\n",
    "For each test case, if it is possible to represent n as the sum of k positive integers, all of the same parity (either all even or all odd), print YES and provide the corresponding values of aᵢ in the next line. If there are multiple valid solutions, you can print any of them. If such a representation is not possible for a given test case, print NO."
   ]
  },
  {
   "cell_type": "code",
   "execution_count": 66,
   "id": "eddde525-1bd0-41e1-8dd1-8865323507df",
   "metadata": {
    "tags": []
   },
   "outputs": [],
   "source": [
    "def check_express_as_sum(n, k):\n",
    "    \n",
    "    # Check for all odd integers\n",
    "    if n >= k and (n % 2 == k % 2): \n",
    "        odd_sums = [1] * (k - 1) + [n - (k - 1)]\n",
    "        print(\"YES\")\n",
    "        print(*odd_sums)\n",
    "        return \"\"\n",
    "    \n",
    "    # Check for all even integers\n",
    "    if n >= 2 * k and (n % 2 == 0):  \n",
    "        even_sums = [2] * (k - 1) + [n - 2 * (k - 1)]\n",
    "        print(\"YES\")\n",
    "        print(*even_sums)\n",
    "        return \"\"\n",
    "    \n",
    "    # If neither condition met\n",
    "    print(\"NO\")\n",
    "    return \"\""
   ]
  },
  {
   "cell_type": "markdown",
   "id": "bbd72144-4562-4035-be95-b8e8c95e3b6d",
   "metadata": {},
   "source": [
    "# Computational Complexity of Algorithm\n",
    "\n",
    "The function is designed to determine if a positive integer **n** can be expressed as the sum of **k** positive integers, all of which share the same parity (either all odd or all even). Here's an analysis of its computational complexity.\n",
    "\n",
    "## Time Complexity\n",
    "\n",
    "1. **Input Conditions**:\n",
    "\n",
    "   - The function first checks if **n** can be expressed as the sum of **k** odd integers. This involves checking two conditions:\n",
    "     - \\( n $\\geq$ k \\): This check is  O(1) .\n",
    "     - \\( n % 2 = k % 2 \\): This check is also  O(1).\n",
    "   - If both conditions are satisfied, the function constructs a list of **k** odd integers, which takes  O(k) time, due to the creation of the list and the subsequent print operation.\n",
    "\n",
    "   - The function then checks if  **n** can be expressed as the sum of **k** even integers. This again involves:\n",
    "     - \\( n $\\geq$ 2k \\): This check is O(1) .\n",
    "     - \\( n % 2 = 0 \\): This check is O(1).\n",
    "   - If both conditions are met, it constructs a list of **k** even integers, which also takes O(k) time for the same reasons mentioned above.\n",
    "\n",
    "2. **Final Output**:\n",
    "   - In the worst-case scenario, if neither condition is met, the function simply outputs \"NO\", which is also O(1).\n",
    "\n",
    "### Summary of Time Complexity\n",
    "The overall time complexity can be summarized as:\n",
    "- **Best Case**: O(1) when **n** is small and conditions are not valid for both cases.\n",
    "- **Worst Case**: O(k) when constructing the list of integers."
   ]
  },
  {
   "cell_type": "markdown",
   "id": "58a7ef84-1e7e-4fe7-949a-b57922abf8a5",
   "metadata": {},
   "source": [
    "## Computational Complexity analysis by an LLM (Large Language Model)"
   ]
  },
  {
   "cell_type": "code",
   "execution_count": null,
   "id": "b81ad3f7-3d1d-4ea8-bbc6-7309fbebf4aa",
   "metadata": {},
   "outputs": [],
   "source": []
  },
  {
   "cell_type": "markdown",
   "id": "7418d1dc-e394-4182-8cdc-f11a41382bf5",
   "metadata": {},
   "source": [
    "## EXAMPLE"
   ]
  },
  {
   "cell_type": "markdown",
   "id": "7e74e250-1649-4097-a9bb-33d936c0cebe",
   "metadata": {},
   "source": [
    "### **input and output**"
   ]
  },
  {
   "cell_type": "code",
   "execution_count": 67,
   "id": "20732dcb-6680-40dc-bcbc-9637cf4e0e90",
   "metadata": {
    "tags": []
   },
   "outputs": [
    {
     "name": "stdout",
     "output_type": "stream",
     "text": [
      "YES\n",
      "2 2 6\n",
      "\n"
     ]
    }
   ],
   "source": [
    "n,k= 10, 3\n",
    "print(check_express_as_sum(n, k))"
   ]
  },
  {
   "cell_type": "code",
   "execution_count": 68,
   "id": "0508ee59-fd29-4174-b951-58f93ccee3e5",
   "metadata": {
    "tags": []
   },
   "outputs": [
    {
     "name": "stdout",
     "output_type": "stream",
     "text": [
      "NO\n",
      "\n"
     ]
    }
   ],
   "source": [
    "n,k= 8, 7\n",
    "print(check_express_as_sum(n, k))\n"
   ]
  },
  {
   "cell_type": "code",
   "execution_count": 69,
   "id": "c2d62bf3-edcd-4ec9-9597-cc91ea7828ac",
   "metadata": {
    "tags": []
   },
   "outputs": [
    {
     "name": "stdout",
     "output_type": "stream",
     "text": [
      "NO\n",
      "\n"
     ]
    }
   ],
   "source": [
    "n,k= 97, 2\n",
    "print(check_express_as_sum(n, k))"
   ]
  },
  {
   "cell_type": "code",
   "execution_count": 70,
   "id": "2652df35-87e7-4721-88fc-f6592cffeaf2",
   "metadata": {
    "tags": []
   },
   "outputs": [
    {
     "name": "stdout",
     "output_type": "stream",
     "text": [
      "YES\n",
      "1 1 1 1 1 1 1 1\n",
      "\n"
     ]
    }
   ],
   "source": [
    "n,k= 8, 8\n",
    "print(check_express_as_sum(n, k))"
   ]
  },
  {
   "cell_type": "code",
   "execution_count": 71,
   "id": "59ba7882-fc6a-4981-9263-a265001b7a59",
   "metadata": {
    "tags": []
   },
   "outputs": [
    {
     "name": "stdout",
     "output_type": "stream",
     "text": [
      "NO\n",
      "\n"
     ]
    }
   ],
   "source": [
    "n,k= 3, 10\n",
    "print(check_express_as_sum(n, k))"
   ]
  },
  {
   "cell_type": "code",
   "execution_count": 72,
   "id": "78843751-deaf-47c5-a6f6-b30c28480c13",
   "metadata": {
    "tags": []
   },
   "outputs": [
    {
     "name": "stdout",
     "output_type": "stream",
     "text": [
      "YES\n",
      "1 1 3\n",
      "\n"
     ]
    }
   ],
   "source": [
    "n,k= 5, 3\n",
    "print(check_express_as_sum(n, k))"
   ]
  }
 ],
 "metadata": {
  "kernelspec": {
   "display_name": "Python 3 (ipykernel)",
   "language": "python",
   "name": "python3"
  },
  "language_info": {
   "codemirror_mode": {
    "name": "ipython",
    "version": 3
   },
   "file_extension": ".py",
   "mimetype": "text/x-python",
   "name": "python",
   "nbconvert_exporter": "python",
   "pygments_lexer": "ipython3",
   "version": "3.11.5"
  }
 },
 "nbformat": 4,
 "nbformat_minor": 5
}
