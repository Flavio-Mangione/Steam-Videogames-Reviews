{
 "cells": [
  {
   "cell_type": "markdown",
   "id": "0636c01c-d6af-4b86-963f-16b9e59db8b5",
   "metadata": {
    "tags": []
   },
   "source": [
    "<h1><img src=\"https://cdn.freebiesupply.com/images/large/2x/steam-logo-transparent.png\" width=40 style=\"vertical-align: middle\"> Steam Reviews 2021 Dataset Analysis</h1>"
   ]
  },
  {
   "cell_type": "markdown",
   "id": "1575e8b4-4c42-4eac-b3ad-d773eb6cb32d",
   "metadata": {},
   "source": [
    "### Import libraries "
   ]
  },
  {
   "cell_type": "code",
   "execution_count": 1,
   "id": "2cd756bb-477f-4ac7-b303-4b63d0b16ae0",
   "metadata": {
    "tags": []
   },
   "outputs": [
    {
     "name": "stdout",
     "output_type": "stream",
     "text": [
      "Requirement already satisfied: textblob in c:\\users\\flavi\\anaconda3\\lib\\site-packages (0.18.0.post0)Note: you may need to restart the kernel to use updated packages.\n",
      "\n",
      "Requirement already satisfied: numpy in c:\\users\\flavi\\anaconda3\\lib\\site-packages (1.24.3)\n",
      "Requirement already satisfied: matplotlib in c:\\users\\flavi\\anaconda3\\lib\\site-packages (3.7.2)\n",
      "Requirement already satisfied: seaborn in c:\\users\\flavi\\anaconda3\\lib\\site-packages (0.12.2)\n",
      "Requirement already satisfied: pandas in c:\\users\\flavi\\anaconda3\\lib\\site-packages (2.0.3)\n",
      "Requirement already satisfied: swifter in c:\\users\\flavi\\anaconda3\\lib\\site-packages (1.4.0)\n",
      "Requirement already satisfied: nltk in c:\\users\\flavi\\anaconda3\\lib\\site-packages (3.8.1)\n",
      "Requirement already satisfied: contourpy>=1.0.1 in c:\\users\\flavi\\anaconda3\\lib\\site-packages (from matplotlib) (1.0.5)\n",
      "Requirement already satisfied: cycler>=0.10 in c:\\users\\flavi\\anaconda3\\lib\\site-packages (from matplotlib) (0.11.0)\n",
      "Requirement already satisfied: fonttools>=4.22.0 in c:\\users\\flavi\\anaconda3\\lib\\site-packages (from matplotlib) (4.25.0)\n",
      "Requirement already satisfied: kiwisolver>=1.0.1 in c:\\users\\flavi\\anaconda3\\lib\\site-packages (from matplotlib) (1.4.4)\n",
      "Requirement already satisfied: packaging>=20.0 in c:\\users\\flavi\\anaconda3\\lib\\site-packages (from matplotlib) (23.1)\n",
      "Requirement already satisfied: pillow>=6.2.0 in c:\\users\\flavi\\anaconda3\\lib\\site-packages (from matplotlib) (10.2.0)\n",
      "Requirement already satisfied: pyparsing<3.1,>=2.3.1 in c:\\users\\flavi\\anaconda3\\lib\\site-packages (from matplotlib) (3.0.9)\n",
      "Requirement already satisfied: python-dateutil>=2.7 in c:\\users\\flavi\\anaconda3\\lib\\site-packages (from matplotlib) (2.8.2)\n",
      "Requirement already satisfied: pytz>=2020.1 in c:\\users\\flavi\\anaconda3\\lib\\site-packages (from pandas) (2023.3.post1)\n",
      "Requirement already satisfied: tzdata>=2022.1 in c:\\users\\flavi\\anaconda3\\lib\\site-packages (from pandas) (2023.3)\n",
      "Requirement already satisfied: psutil>=5.6.6 in c:\\users\\flavi\\anaconda3\\lib\\site-packages (from swifter) (5.9.0)\n",
      "Requirement already satisfied: dask[dataframe]>=2.10.0 in c:\\users\\flavi\\anaconda3\\lib\\site-packages (from swifter) (2023.6.0)\n",
      "Requirement already satisfied: tqdm>=4.33.0 in c:\\users\\flavi\\anaconda3\\lib\\site-packages (from swifter) (4.65.0)\n",
      "Requirement already satisfied: click in c:\\users\\flavi\\anaconda3\\lib\\site-packages (from nltk) (8.0.4)\n",
      "Requirement already satisfied: joblib in c:\\users\\flavi\\anaconda3\\lib\\site-packages (from nltk) (1.2.0)\n",
      "Requirement already satisfied: regex>=2021.8.3 in c:\\users\\flavi\\anaconda3\\lib\\site-packages (from nltk) (2022.7.9)\n",
      "Requirement already satisfied: cloudpickle>=1.5.0 in c:\\users\\flavi\\anaconda3\\lib\\site-packages (from dask[dataframe]>=2.10.0->swifter) (2.2.1)\n",
      "Requirement already satisfied: fsspec>=2021.09.0 in c:\\users\\flavi\\anaconda3\\lib\\site-packages (from dask[dataframe]>=2.10.0->swifter) (2023.4.0)\n",
      "Requirement already satisfied: partd>=1.2.0 in c:\\users\\flavi\\anaconda3\\lib\\site-packages (from dask[dataframe]>=2.10.0->swifter) (1.4.0)\n",
      "Requirement already satisfied: pyyaml>=5.3.1 in c:\\users\\flavi\\anaconda3\\lib\\site-packages (from dask[dataframe]>=2.10.0->swifter) (6.0)\n",
      "Requirement already satisfied: toolz>=0.10.0 in c:\\users\\flavi\\anaconda3\\lib\\site-packages (from dask[dataframe]>=2.10.0->swifter) (0.12.0)\n",
      "Requirement already satisfied: importlib-metadata>=4.13.0 in c:\\users\\flavi\\anaconda3\\lib\\site-packages (from dask[dataframe]>=2.10.0->swifter) (6.0.0)\n",
      "Requirement already satisfied: colorama in c:\\users\\flavi\\anaconda3\\lib\\site-packages (from click->nltk) (0.4.6)\n",
      "Requirement already satisfied: six>=1.5 in c:\\users\\flavi\\anaconda3\\lib\\site-packages (from python-dateutil>=2.7->matplotlib) (1.16.0)\n",
      "Requirement already satisfied: zipp>=0.5 in c:\\users\\flavi\\anaconda3\\lib\\site-packages (from importlib-metadata>=4.13.0->dask[dataframe]>=2.10.0->swifter) (3.11.0)\n",
      "Requirement already satisfied: locket in c:\\users\\flavi\\anaconda3\\lib\\site-packages (from partd>=1.2.0->dask[dataframe]>=2.10.0->swifter) (1.0.0)\n"
     ]
    }
   ],
   "source": [
    "pip install textblob numpy matplotlib seaborn pandas swifter nltk"
   ]
  },
  {
   "cell_type": "code",
   "execution_count": 2,
   "id": "b65e348c-6b51-4741-8022-053b91f0196a",
   "metadata": {
    "tags": []
   },
   "outputs": [],
   "source": [
    "import kagglehub\n",
    "import pandas as pd\n",
    "import numpy as np\n",
    "import matplotlib.pyplot as plt\n",
    "import seaborn as sns\n",
    "import nltk\n",
    "import swifter"
   ]
  },
  {
   "cell_type": "markdown",
   "id": "0c4a0540-ebbf-4096-8f97-934fff73ed88",
   "metadata": {},
   "source": [
    "### Download the dataset from Kaggle"
   ]
  },
  {
   "cell_type": "code",
   "execution_count": 3,
   "id": "c2bf3075-b9f8-40ea-9ee8-862c5ba74b88",
   "metadata": {
    "tags": []
   },
   "outputs": [
    {
     "name": "stdout",
     "output_type": "stream",
     "text": [
      "Path to dataset files: C:\\Users\\flavi\\.cache\\kagglehub\\datasets\\najzeko\\steam-reviews-2021\\versions\\1\n"
     ]
    }
   ],
   "source": [
    "path = kagglehub.dataset_download(\"najzeko/steam-reviews-2021\")\n",
    "\n",
    "print(\"Path to dataset files:\", path)"
   ]
  },
  {
   "cell_type": "markdown",
   "id": "171e4fba-4d8c-4450-96cc-4cc657a96085",
   "metadata": {},
   "source": [
    "# Step 1. **Exploratory Data Analysis (EDA)**"
   ]
  },
  {
   "cell_type": "markdown",
   "id": "e4270053-432d-4797-ade9-4486f9eaa447",
   "metadata": {},
   "source": [
    " #### Before diving deep into the dataset provided, it is crucial to understand its structure and main features. "
   ]
  },
  {
   "cell_type": "code",
   "execution_count": 4,
   "id": "f4195cc7-c98b-44a2-8776-65d7e1af6820",
   "metadata": {
    "tags": []
   },
   "outputs": [],
   "source": [
    "# Define a function to parse a timestamp in seconds to a datetime format\n",
    "def dateparse(time_in_sec):\n",
    "    return pd.to_datetime(time_in_sec, unit=\"s\") # Convert time in seconds to datetime format"
   ]
  },
  {
   "cell_type": "markdown",
   "id": "6d89e2b6-b848-4b6d-be8b-53a16f87a833",
   "metadata": {},
   "source": [
    "## Read file in format csv"
   ]
  },
  {
   "cell_type": "code",
   "execution_count": 5,
   "id": "c36ede9b-3b89-485e-a71e-bca2fd0c25a0",
   "metadata": {
    "tags": []
   },
   "outputs": [],
   "source": [
    "df= pd.read_csv(\"steam_reviews.csv\",index_col=0)"
   ]
  },
  {
   "cell_type": "code",
   "execution_count": 6,
   "id": "9caf0e3d-2c87-4a23-a06e-512e7f21551f",
   "metadata": {
    "tags": []
   },
   "outputs": [
    {
     "name": "stdout",
     "output_type": "stream",
     "text": [
      "Dataset rows number: 21747371\n",
      "Dataset columns number: 22\n"
     ]
    }
   ],
   "source": [
    "print(f\"Dataset rows number: {df.shape[0]}\\nDataset columns number: {df.shape[1]}\") "
   ]
  },
  {
   "cell_type": "code",
   "execution_count": 7,
   "id": "8b16e2e2-3ee0-42a7-8f52-e46ede562975",
   "metadata": {
    "tags": []
   },
   "outputs": [
    {
     "data": {
      "text/html": [
       "<div>\n",
       "<style scoped>\n",
       "    .dataframe tbody tr th:only-of-type {\n",
       "        vertical-align: middle;\n",
       "    }\n",
       "\n",
       "    .dataframe tbody tr th {\n",
       "        vertical-align: top;\n",
       "    }\n",
       "\n",
       "    .dataframe thead th {\n",
       "        text-align: right;\n",
       "    }\n",
       "</style>\n",
       "<table border=\"1\" class=\"dataframe\">\n",
       "  <thead>\n",
       "    <tr style=\"text-align: right;\">\n",
       "      <th></th>\n",
       "      <th>app_id</th>\n",
       "      <th>app_name</th>\n",
       "      <th>review_id</th>\n",
       "      <th>language</th>\n",
       "      <th>review</th>\n",
       "      <th>timestamp_created</th>\n",
       "      <th>timestamp_updated</th>\n",
       "      <th>recommended</th>\n",
       "      <th>votes_helpful</th>\n",
       "      <th>votes_funny</th>\n",
       "      <th>...</th>\n",
       "      <th>steam_purchase</th>\n",
       "      <th>received_for_free</th>\n",
       "      <th>written_during_early_access</th>\n",
       "      <th>author.steamid</th>\n",
       "      <th>author.num_games_owned</th>\n",
       "      <th>author.num_reviews</th>\n",
       "      <th>author.playtime_forever</th>\n",
       "      <th>author.playtime_last_two_weeks</th>\n",
       "      <th>author.playtime_at_review</th>\n",
       "      <th>author.last_played</th>\n",
       "    </tr>\n",
       "  </thead>\n",
       "  <tbody>\n",
       "    <tr>\n",
       "      <th>0</th>\n",
       "      <td>292030</td>\n",
       "      <td>The Witcher 3: Wild Hunt</td>\n",
       "      <td>85185598</td>\n",
       "      <td>schinese</td>\n",
       "      <td>不玩此生遗憾，RPG游戏里的天花板，太吸引人了</td>\n",
       "      <td>1611381629</td>\n",
       "      <td>1611381629</td>\n",
       "      <td>True</td>\n",
       "      <td>0</td>\n",
       "      <td>0</td>\n",
       "      <td>...</td>\n",
       "      <td>True</td>\n",
       "      <td>False</td>\n",
       "      <td>False</td>\n",
       "      <td>76561199095369542</td>\n",
       "      <td>6</td>\n",
       "      <td>2</td>\n",
       "      <td>1909.0</td>\n",
       "      <td>1448.0</td>\n",
       "      <td>1909.0</td>\n",
       "      <td>1.611343e+09</td>\n",
       "    </tr>\n",
       "    <tr>\n",
       "      <th>1</th>\n",
       "      <td>292030</td>\n",
       "      <td>The Witcher 3: Wild Hunt</td>\n",
       "      <td>85185250</td>\n",
       "      <td>schinese</td>\n",
       "      <td>拔DIAO无情打桩机--杰洛特!!!</td>\n",
       "      <td>1611381030</td>\n",
       "      <td>1611381030</td>\n",
       "      <td>True</td>\n",
       "      <td>0</td>\n",
       "      <td>0</td>\n",
       "      <td>...</td>\n",
       "      <td>True</td>\n",
       "      <td>False</td>\n",
       "      <td>False</td>\n",
       "      <td>76561198949504115</td>\n",
       "      <td>30</td>\n",
       "      <td>10</td>\n",
       "      <td>2764.0</td>\n",
       "      <td>2743.0</td>\n",
       "      <td>2674.0</td>\n",
       "      <td>1.611386e+09</td>\n",
       "    </tr>\n",
       "    <tr>\n",
       "      <th>2</th>\n",
       "      <td>292030</td>\n",
       "      <td>The Witcher 3: Wild Hunt</td>\n",
       "      <td>85185111</td>\n",
       "      <td>schinese</td>\n",
       "      <td>巫师3NB</td>\n",
       "      <td>1611380800</td>\n",
       "      <td>1611380800</td>\n",
       "      <td>True</td>\n",
       "      <td>0</td>\n",
       "      <td>0</td>\n",
       "      <td>...</td>\n",
       "      <td>True</td>\n",
       "      <td>False</td>\n",
       "      <td>False</td>\n",
       "      <td>76561199090098988</td>\n",
       "      <td>5</td>\n",
       "      <td>1</td>\n",
       "      <td>1061.0</td>\n",
       "      <td>1061.0</td>\n",
       "      <td>1060.0</td>\n",
       "      <td>1.611384e+09</td>\n",
       "    </tr>\n",
       "    <tr>\n",
       "      <th>3</th>\n",
       "      <td>292030</td>\n",
       "      <td>The Witcher 3: Wild Hunt</td>\n",
       "      <td>85184605</td>\n",
       "      <td>english</td>\n",
       "      <td>One of the best RPG's of all time, worthy of a...</td>\n",
       "      <td>1611379970</td>\n",
       "      <td>1611379970</td>\n",
       "      <td>True</td>\n",
       "      <td>0</td>\n",
       "      <td>0</td>\n",
       "      <td>...</td>\n",
       "      <td>True</td>\n",
       "      <td>False</td>\n",
       "      <td>False</td>\n",
       "      <td>76561199054755373</td>\n",
       "      <td>5</td>\n",
       "      <td>3</td>\n",
       "      <td>5587.0</td>\n",
       "      <td>3200.0</td>\n",
       "      <td>5524.0</td>\n",
       "      <td>1.611384e+09</td>\n",
       "    </tr>\n",
       "    <tr>\n",
       "      <th>4</th>\n",
       "      <td>292030</td>\n",
       "      <td>The Witcher 3: Wild Hunt</td>\n",
       "      <td>85184287</td>\n",
       "      <td>schinese</td>\n",
       "      <td>大作</td>\n",
       "      <td>1611379427</td>\n",
       "      <td>1611379427</td>\n",
       "      <td>True</td>\n",
       "      <td>0</td>\n",
       "      <td>0</td>\n",
       "      <td>...</td>\n",
       "      <td>True</td>\n",
       "      <td>False</td>\n",
       "      <td>False</td>\n",
       "      <td>76561199028326951</td>\n",
       "      <td>7</td>\n",
       "      <td>4</td>\n",
       "      <td>217.0</td>\n",
       "      <td>42.0</td>\n",
       "      <td>217.0</td>\n",
       "      <td>1.610788e+09</td>\n",
       "    </tr>\n",
       "  </tbody>\n",
       "</table>\n",
       "<p>5 rows × 22 columns</p>\n",
       "</div>"
      ],
      "text/plain": [
       "   app_id                  app_name  review_id  language  \\\n",
       "0  292030  The Witcher 3: Wild Hunt   85185598  schinese   \n",
       "1  292030  The Witcher 3: Wild Hunt   85185250  schinese   \n",
       "2  292030  The Witcher 3: Wild Hunt   85185111  schinese   \n",
       "3  292030  The Witcher 3: Wild Hunt   85184605   english   \n",
       "4  292030  The Witcher 3: Wild Hunt   85184287  schinese   \n",
       "\n",
       "                                              review  timestamp_created  \\\n",
       "0                            不玩此生遗憾，RPG游戏里的天花板，太吸引人了         1611381629   \n",
       "1                                 拔DIAO无情打桩机--杰洛特!!!         1611381030   \n",
       "2                                              巫师3NB         1611380800   \n",
       "3  One of the best RPG's of all time, worthy of a...         1611379970   \n",
       "4                                                 大作         1611379427   \n",
       "\n",
       "   timestamp_updated  recommended  votes_helpful  votes_funny  ...  \\\n",
       "0         1611381629         True              0            0  ...   \n",
       "1         1611381030         True              0            0  ...   \n",
       "2         1611380800         True              0            0  ...   \n",
       "3         1611379970         True              0            0  ...   \n",
       "4         1611379427         True              0            0  ...   \n",
       "\n",
       "   steam_purchase  received_for_free  written_during_early_access  \\\n",
       "0            True              False                        False   \n",
       "1            True              False                        False   \n",
       "2            True              False                        False   \n",
       "3            True              False                        False   \n",
       "4            True              False                        False   \n",
       "\n",
       "      author.steamid  author.num_games_owned  author.num_reviews  \\\n",
       "0  76561199095369542                       6                   2   \n",
       "1  76561198949504115                      30                  10   \n",
       "2  76561199090098988                       5                   1   \n",
       "3  76561199054755373                       5                   3   \n",
       "4  76561199028326951                       7                   4   \n",
       "\n",
       "   author.playtime_forever  author.playtime_last_two_weeks  \\\n",
       "0                   1909.0                          1448.0   \n",
       "1                   2764.0                          2743.0   \n",
       "2                   1061.0                          1061.0   \n",
       "3                   5587.0                          3200.0   \n",
       "4                    217.0                            42.0   \n",
       "\n",
       "   author.playtime_at_review  author.last_played  \n",
       "0                     1909.0        1.611343e+09  \n",
       "1                     2674.0        1.611386e+09  \n",
       "2                     1060.0        1.611384e+09  \n",
       "3                     5524.0        1.611384e+09  \n",
       "4                      217.0        1.610788e+09  \n",
       "\n",
       "[5 rows x 22 columns]"
      ]
     },
     "execution_count": 7,
     "metadata": {},
     "output_type": "execute_result"
    }
   ],
   "source": [
    "df.head() # visualize the first five values of each column"
   ]
  },
  {
   "cell_type": "code",
   "execution_count": 8,
   "id": "2c070eb6-869b-4212-8cef-0eb229fd8042",
   "metadata": {
    "tags": []
   },
   "outputs": [
    {
     "data": {
      "text/plain": [
       "Index(['app_id', 'app_name', 'review_id', 'language', 'review',\n",
       "       'timestamp_created', 'timestamp_updated', 'recommended',\n",
       "       'votes_helpful', 'votes_funny', 'weighted_vote_score', 'comment_count',\n",
       "       'steam_purchase', 'received_for_free', 'written_during_early_access',\n",
       "       'author.steamid', 'author.num_games_owned', 'author.num_reviews',\n",
       "       'author.playtime_forever', 'author.playtime_last_two_weeks',\n",
       "       'author.playtime_at_review', 'author.last_played'],\n",
       "      dtype='object')"
      ]
     },
     "execution_count": 8,
     "metadata": {},
     "output_type": "execute_result"
    }
   ],
   "source": [
    "df.columns"
   ]
  },
  {
   "cell_type": "markdown",
   "id": "7061862f-30ad-475b-b497-f5d261fa60bc",
   "metadata": {},
   "source": [
    "## Dataset Information\n",
    "\n",
    "This dataset contains information about user reviews on the Steam gaming platform in 2021. Below is a brief description of each variable:\n",
    "\n",
    "- **app_id**: Unique identifier for the application.\n",
    "- **app_name**: Name of the application.\n",
    "- **review_id**: Unique identifier for the review.\n",
    "- **language**: Language in which the review is written.\n",
    "- **review**: The text content of the review.\n",
    "- **timestamp_created**: Date and time when the review was created.\n",
    "- **timestamp_updated**: Date and time when the review was last updated.\n",
    "- **recommended**: Indicates whether the reviewer recommends the application (e.g., yes/no).\n",
    "- **votes_helpful**: Number of users who found the review helpful.\n",
    "- **votes_funny**: Number of users who found the review funny.\n",
    "- **weighted_vote_score**: A score reflecting the review's overall helpfulness, accounting for the reviewer's history.\n",
    "- **comment_count**: Number of comments on the review.\n",
    "- **steam_purchase**: Indicates if the game was purchased on Steam.\n",
    "- **received_for_free**: Indicates if the reviewer received the game for free.\n",
    "- **written_during_early_access**: Indicates if the review was written during the early access phase of the game.\n",
    "- **author.steamid**: Unique identifier for the review author (user).\n",
    "- **author.num_games_owned**: Number of games owned by the reviewer.\n",
    "- **author.num_reviews**: Total number of reviews written by the reviewer.\n",
    "- **author.playtime_forever**: Total playtime of all games owned by the reviewer.\n",
    "- **author.playtime_last_two_weeks**: Total playtime of games owned by the reviewer in the last two weeks.\n",
    "- **author.playtime_at_review**: Playtime of the game at the time the review was written.\n",
    "- **author.last_played**: Date when the reviewer last played the game.\n"
   ]
  },
  {
   "cell_type": "code",
   "execution_count": 9,
   "id": "48aac145-6a3b-4601-bb48-2b7a22a193d1",
   "metadata": {
    "tags": []
   },
   "outputs": [
    {
     "name": "stdout",
     "output_type": "stream",
     "text": [
      "<class 'pandas.core.frame.DataFrame'>\n",
      "Index: 21747371 entries, 0 to 21747375\n",
      "Data columns (total 22 columns):\n",
      " #   Column                          Dtype  \n",
      "---  ------                          -----  \n",
      " 0   app_id                          int64  \n",
      " 1   app_name                        object \n",
      " 2   review_id                       int64  \n",
      " 3   language                        object \n",
      " 4   review                          object \n",
      " 5   timestamp_created               int64  \n",
      " 6   timestamp_updated               int64  \n",
      " 7   recommended                     bool   \n",
      " 8   votes_helpful                   int64  \n",
      " 9   votes_funny                     int64  \n",
      " 10  weighted_vote_score             float64\n",
      " 11  comment_count                   int64  \n",
      " 12  steam_purchase                  bool   \n",
      " 13  received_for_free               bool   \n",
      " 14  written_during_early_access     bool   \n",
      " 15  author.steamid                  int64  \n",
      " 16  author.num_games_owned          int64  \n",
      " 17  author.num_reviews              int64  \n",
      " 18  author.playtime_forever         float64\n",
      " 19  author.playtime_last_two_weeks  float64\n",
      " 20  author.playtime_at_review       float64\n",
      " 21  author.last_played              float64\n",
      "dtypes: bool(4), float64(5), int64(10), object(3)\n",
      "memory usage: 3.2+ GB\n"
     ]
    }
   ],
   "source": [
    "df.info()"
   ]
  },
  {
   "cell_type": "code",
   "execution_count": 10,
   "id": "68603fc7-ead0-4c60-a2c0-05a6b0fc00e9",
   "metadata": {},
   "outputs": [
    {
     "data": {
      "text/html": [
       "<div>\n",
       "<style scoped>\n",
       "    .dataframe tbody tr th:only-of-type {\n",
       "        vertical-align: middle;\n",
       "    }\n",
       "\n",
       "    .dataframe tbody tr th {\n",
       "        vertical-align: top;\n",
       "    }\n",
       "\n",
       "    .dataframe thead th {\n",
       "        text-align: right;\n",
       "    }\n",
       "</style>\n",
       "<table border=\"1\" class=\"dataframe\">\n",
       "  <thead>\n",
       "    <tr style=\"text-align: right;\">\n",
       "      <th></th>\n",
       "      <th>timestamp_created</th>\n",
       "      <th>timestamp_updated</th>\n",
       "      <th>author.last_played</th>\n",
       "    </tr>\n",
       "  </thead>\n",
       "  <tbody>\n",
       "    <tr>\n",
       "      <th>0</th>\n",
       "      <td>1611381629</td>\n",
       "      <td>1611381629</td>\n",
       "      <td>1.611343e+09</td>\n",
       "    </tr>\n",
       "    <tr>\n",
       "      <th>1</th>\n",
       "      <td>1611381030</td>\n",
       "      <td>1611381030</td>\n",
       "      <td>1.611386e+09</td>\n",
       "    </tr>\n",
       "    <tr>\n",
       "      <th>2</th>\n",
       "      <td>1611380800</td>\n",
       "      <td>1611380800</td>\n",
       "      <td>1.611384e+09</td>\n",
       "    </tr>\n",
       "    <tr>\n",
       "      <th>3</th>\n",
       "      <td>1611379970</td>\n",
       "      <td>1611379970</td>\n",
       "      <td>1.611384e+09</td>\n",
       "    </tr>\n",
       "    <tr>\n",
       "      <th>4</th>\n",
       "      <td>1611379427</td>\n",
       "      <td>1611379427</td>\n",
       "      <td>1.610788e+09</td>\n",
       "    </tr>\n",
       "    <tr>\n",
       "      <th>...</th>\n",
       "      <td>...</td>\n",
       "      <td>...</td>\n",
       "      <td>...</td>\n",
       "    </tr>\n",
       "    <tr>\n",
       "      <th>21747371</th>\n",
       "      <td>1584986704</td>\n",
       "      <td>1584986704</td>\n",
       "      <td>1.586628e+09</td>\n",
       "    </tr>\n",
       "    <tr>\n",
       "      <th>21747372</th>\n",
       "      <td>1584986693</td>\n",
       "      <td>1584986693</td>\n",
       "      <td>1.611080e+09</td>\n",
       "    </tr>\n",
       "    <tr>\n",
       "      <th>21747373</th>\n",
       "      <td>1584986673</td>\n",
       "      <td>1584986673</td>\n",
       "      <td>1.591634e+09</td>\n",
       "    </tr>\n",
       "    <tr>\n",
       "      <th>21747374</th>\n",
       "      <td>1584986631</td>\n",
       "      <td>1586382422</td>\n",
       "      <td>1.589715e+09</td>\n",
       "    </tr>\n",
       "    <tr>\n",
       "      <th>21747375</th>\n",
       "      <td>1584986505</td>\n",
       "      <td>1592060800</td>\n",
       "      <td>1.602858e+09</td>\n",
       "    </tr>\n",
       "  </tbody>\n",
       "</table>\n",
       "<p>21747371 rows × 3 columns</p>\n",
       "</div>"
      ],
      "text/plain": [
       "          timestamp_created  timestamp_updated  author.last_played\n",
       "0                1611381629         1611381629        1.611343e+09\n",
       "1                1611381030         1611381030        1.611386e+09\n",
       "2                1611380800         1611380800        1.611384e+09\n",
       "3                1611379970         1611379970        1.611384e+09\n",
       "4                1611379427         1611379427        1.610788e+09\n",
       "...                     ...                ...                 ...\n",
       "21747371         1584986704         1584986704        1.586628e+09\n",
       "21747372         1584986693         1584986693        1.611080e+09\n",
       "21747373         1584986673         1584986673        1.591634e+09\n",
       "21747374         1584986631         1586382422        1.589715e+09\n",
       "21747375         1584986505         1592060800        1.602858e+09\n",
       "\n",
       "[21747371 rows x 3 columns]"
      ]
     },
     "execution_count": 10,
     "metadata": {},
     "output_type": "execute_result"
    }
   ],
   "source": [
    "# Define the columns which we'll apply the dateparse function \n",
    "date_columns = [\"timestamp_created\", \"timestamp_updated\", \"author.last_played\"]\n",
    "df[date_columns]"
   ]
  },
  {
   "cell_type": "code",
   "execution_count": 11,
   "id": "0f0745f2-c8ba-46d0-88d5-d69214d7f184",
   "metadata": {
    "tags": []
   },
   "outputs": [
    {
     "data": {
      "text/html": [
       "<div>\n",
       "<style scoped>\n",
       "    .dataframe tbody tr th:only-of-type {\n",
       "        vertical-align: middle;\n",
       "    }\n",
       "\n",
       "    .dataframe tbody tr th {\n",
       "        vertical-align: top;\n",
       "    }\n",
       "\n",
       "    .dataframe thead th {\n",
       "        text-align: right;\n",
       "    }\n",
       "</style>\n",
       "<table border=\"1\" class=\"dataframe\">\n",
       "  <thead>\n",
       "    <tr style=\"text-align: right;\">\n",
       "      <th></th>\n",
       "      <th>timestamp_created</th>\n",
       "      <th>timestamp_updated</th>\n",
       "      <th>author.last_played</th>\n",
       "    </tr>\n",
       "  </thead>\n",
       "  <tbody>\n",
       "    <tr>\n",
       "      <th>0</th>\n",
       "      <td>2021-01-23 06:00:29</td>\n",
       "      <td>2021-01-23 06:00:29</td>\n",
       "      <td>2021-01-22 19:23:03</td>\n",
       "    </tr>\n",
       "    <tr>\n",
       "      <th>1</th>\n",
       "      <td>2021-01-23 05:50:30</td>\n",
       "      <td>2021-01-23 05:50:30</td>\n",
       "      <td>2021-01-23 07:18:27</td>\n",
       "    </tr>\n",
       "    <tr>\n",
       "      <th>2</th>\n",
       "      <td>2021-01-23 05:46:40</td>\n",
       "      <td>2021-01-23 05:46:40</td>\n",
       "      <td>2021-01-23 06:36:17</td>\n",
       "    </tr>\n",
       "    <tr>\n",
       "      <th>3</th>\n",
       "      <td>2021-01-23 05:32:50</td>\n",
       "      <td>2021-01-23 05:32:50</td>\n",
       "      <td>2021-01-23 06:35:44</td>\n",
       "    </tr>\n",
       "    <tr>\n",
       "      <th>4</th>\n",
       "      <td>2021-01-23 05:23:47</td>\n",
       "      <td>2021-01-23 05:23:47</td>\n",
       "      <td>2021-01-16 09:10:49</td>\n",
       "    </tr>\n",
       "    <tr>\n",
       "      <th>...</th>\n",
       "      <td>...</td>\n",
       "      <td>...</td>\n",
       "      <td>...</td>\n",
       "    </tr>\n",
       "    <tr>\n",
       "      <th>21747371</th>\n",
       "      <td>2020-03-23 18:05:04</td>\n",
       "      <td>2020-03-23 18:05:04</td>\n",
       "      <td>2020-04-11 17:56:56</td>\n",
       "    </tr>\n",
       "    <tr>\n",
       "      <th>21747372</th>\n",
       "      <td>2020-03-23 18:04:53</td>\n",
       "      <td>2020-03-23 18:04:53</td>\n",
       "      <td>2021-01-19 18:17:11</td>\n",
       "    </tr>\n",
       "    <tr>\n",
       "      <th>21747373</th>\n",
       "      <td>2020-03-23 18:04:33</td>\n",
       "      <td>2020-03-23 18:04:33</td>\n",
       "      <td>2020-06-08 16:29:13</td>\n",
       "    </tr>\n",
       "    <tr>\n",
       "      <th>21747374</th>\n",
       "      <td>2020-03-23 18:03:51</td>\n",
       "      <td>2020-04-08 21:47:02</td>\n",
       "      <td>2020-05-17 11:36:55</td>\n",
       "    </tr>\n",
       "    <tr>\n",
       "      <th>21747375</th>\n",
       "      <td>2020-03-23 18:01:45</td>\n",
       "      <td>2020-06-13 15:06:40</td>\n",
       "      <td>2020-10-16 14:12:23</td>\n",
       "    </tr>\n",
       "  </tbody>\n",
       "</table>\n",
       "<p>21747371 rows × 3 columns</p>\n",
       "</div>"
      ],
      "text/plain": [
       "           timestamp_created   timestamp_updated  author.last_played\n",
       "0        2021-01-23 06:00:29 2021-01-23 06:00:29 2021-01-22 19:23:03\n",
       "1        2021-01-23 05:50:30 2021-01-23 05:50:30 2021-01-23 07:18:27\n",
       "2        2021-01-23 05:46:40 2021-01-23 05:46:40 2021-01-23 06:36:17\n",
       "3        2021-01-23 05:32:50 2021-01-23 05:32:50 2021-01-23 06:35:44\n",
       "4        2021-01-23 05:23:47 2021-01-23 05:23:47 2021-01-16 09:10:49\n",
       "...                      ...                 ...                 ...\n",
       "21747371 2020-03-23 18:05:04 2020-03-23 18:05:04 2020-04-11 17:56:56\n",
       "21747372 2020-03-23 18:04:53 2020-03-23 18:04:53 2021-01-19 18:17:11\n",
       "21747373 2020-03-23 18:04:33 2020-03-23 18:04:33 2020-06-08 16:29:13\n",
       "21747374 2020-03-23 18:03:51 2020-04-08 21:47:02 2020-05-17 11:36:55\n",
       "21747375 2020-03-23 18:01:45 2020-06-13 15:06:40 2020-10-16 14:12:23\n",
       "\n",
       "[21747371 rows x 3 columns]"
      ]
     },
     "execution_count": 11,
     "metadata": {},
     "output_type": "execute_result"
    }
   ],
   "source": [
    "# Apply dateparse function to specific datetime types column of Dataset\n",
    "df[date_columns]= df[date_columns].apply(dateparse)\n",
    "df[date_columns]"
   ]
  },
  {
   "cell_type": "markdown",
   "id": "24d87126-d3e0-469a-9524-5eb2af457e38",
   "metadata": {},
   "source": [
    "## Optimizing Data Types \n",
    "\n",
    "### **Importance of Data Type Conversion**\n",
    "\n",
    "Converting int64 to int32 and float64 to float32 reduces memory usage and speeds up computations. This optimization is crucial for handling large datasets efficiently, saving resources, and improving performance."
   ]
  },
  {
   "cell_type": "code",
   "execution_count": 12,
   "id": "24c998cc-3759-42d9-a0bb-53409e3e81ce",
   "metadata": {
    "tags": []
   },
   "outputs": [
    {
     "data": {
      "text/plain": [
       "app_id                                     int32\n",
       "app_name                                  object\n",
       "review_id                                  int32\n",
       "language                                  object\n",
       "review                                    object\n",
       "timestamp_created                 datetime64[ns]\n",
       "timestamp_updated                 datetime64[ns]\n",
       "recommended                                 bool\n",
       "votes_helpful                              int32\n",
       "votes_funny                                int32\n",
       "weighted_vote_score                      float32\n",
       "comment_count                              int32\n",
       "steam_purchase                              bool\n",
       "received_for_free                           bool\n",
       "written_during_early_access                 bool\n",
       "author.steamid                             int32\n",
       "author.num_games_owned                     int32\n",
       "author.num_reviews                         int32\n",
       "author.playtime_forever                  float32\n",
       "author.playtime_last_two_weeks           float32\n",
       "author.playtime_at_review                float32\n",
       "author.last_played                datetime64[ns]\n",
       "dtype: object"
      ]
     },
     "execution_count": 12,
     "metadata": {},
     "output_type": "execute_result"
    }
   ],
   "source": [
    "for column in df.columns:\n",
    "    if df[column].dtype=='int64':\n",
    "        df[column]=df[column].astype(\"int32\")\n",
    "    elif df[column].dtype=='float64':\n",
    "        df[column]=df[column].astype(\"float32\")\n",
    "df.dtypes"
   ]
  },
  {
   "cell_type": "markdown",
   "id": "308b08e5-a5de-4ca0-b21f-0c3b46b9b429",
   "metadata": {},
   "source": [
    "## Data cleaning process\n",
    "\n",
    "#### Removing null values is indeed an essential step in data cleaning, as it helps to improve the quality and reliability of the analysis. Null values can cause inaccurate results, errors in calculations, and biased insights."
   ]
  },
  {
   "cell_type": "code",
   "execution_count": 13,
   "id": "aee16af2-5846-4007-9d36-9bcf7759aa73",
   "metadata": {
    "tags": []
   },
   "outputs": [
    {
     "name": "stdout",
     "output_type": "stream",
     "text": [
      "app_id                                0\n",
      "app_name                              0\n",
      "review_id                             0\n",
      "language                              0\n",
      "review                            33748\n",
      "timestamp_created                     0\n",
      "timestamp_updated                     0\n",
      "recommended                           0\n",
      "votes_helpful                         0\n",
      "votes_funny                           0\n",
      "weighted_vote_score                   0\n",
      "comment_count                         0\n",
      "steam_purchase                        0\n",
      "received_for_free                     0\n",
      "written_during_early_access           0\n",
      "author.steamid                        0\n",
      "author.num_games_owned                0\n",
      "author.num_reviews                    0\n",
      "author.playtime_forever               2\n",
      "author.playtime_last_two_weeks        2\n",
      "author.playtime_at_review         25682\n",
      "author.last_played                    2\n",
      "dtype: int64\n"
     ]
    }
   ],
   "source": [
    "# Count na values for each column\n",
    "print(df.isnull().sum())"
   ]
  },
  {
   "cell_type": "code",
   "execution_count": 14,
   "id": "207e696f-b9ac-4fec-9ab6-451e1efdff8e",
   "metadata": {
    "tags": []
   },
   "outputs": [
    {
     "name": "stdout",
     "output_type": "stream",
     "text": [
      "app_id                            0\n",
      "app_name                          0\n",
      "review_id                         0\n",
      "language                          0\n",
      "review                            0\n",
      "timestamp_created                 0\n",
      "timestamp_updated                 0\n",
      "recommended                       0\n",
      "votes_helpful                     0\n",
      "votes_funny                       0\n",
      "weighted_vote_score               0\n",
      "comment_count                     0\n",
      "steam_purchase                    0\n",
      "received_for_free                 0\n",
      "written_during_early_access       0\n",
      "author.steamid                    0\n",
      "author.num_games_owned            0\n",
      "author.num_reviews                0\n",
      "author.playtime_forever           0\n",
      "author.playtime_last_two_weeks    0\n",
      "author.playtime_at_review         0\n",
      "author.last_played                0\n",
      "dtype: int64\n"
     ]
    }
   ],
   "source": [
    "# clear the dataset from \n",
    "df=df.dropna()\n",
    "print(df.isnull().sum())"
   ]
  },
  {
   "cell_type": "markdown",
   "id": "a16bd53c-eba8-4ade-9768-3e910bf6397c",
   "metadata": {},
   "source": [
    "### Descriptive Statistics for a DataFrame"
   ]
  },
  {
   "cell_type": "code",
   "execution_count": 15,
   "id": "7b08a332-37d9-4d87-beb5-263f7abf779a",
   "metadata": {
    "tags": []
   },
   "outputs": [
    {
     "data": {
      "text/html": [
       "<div>\n",
       "<style scoped>\n",
       "    .dataframe tbody tr th:only-of-type {\n",
       "        vertical-align: middle;\n",
       "    }\n",
       "\n",
       "    .dataframe tbody tr th {\n",
       "        vertical-align: top;\n",
       "    }\n",
       "\n",
       "    .dataframe thead th {\n",
       "        text-align: right;\n",
       "    }\n",
       "</style>\n",
       "<table border=\"1\" class=\"dataframe\">\n",
       "  <thead>\n",
       "    <tr style=\"text-align: right;\">\n",
       "      <th></th>\n",
       "      <th>app_id</th>\n",
       "      <th>review_id</th>\n",
       "      <th>timestamp_created</th>\n",
       "      <th>timestamp_updated</th>\n",
       "      <th>votes_helpful</th>\n",
       "      <th>votes_funny</th>\n",
       "      <th>weighted_vote_score</th>\n",
       "      <th>comment_count</th>\n",
       "      <th>author.steamid</th>\n",
       "      <th>author.num_games_owned</th>\n",
       "      <th>author.num_reviews</th>\n",
       "      <th>author.playtime_forever</th>\n",
       "      <th>author.playtime_last_two_weeks</th>\n",
       "      <th>author.playtime_at_review</th>\n",
       "      <th>author.last_played</th>\n",
       "    </tr>\n",
       "  </thead>\n",
       "  <tbody>\n",
       "    <tr>\n",
       "      <th>count</th>\n",
       "      <td>2.168794e+07</td>\n",
       "      <td>2.168794e+07</td>\n",
       "      <td>21687945</td>\n",
       "      <td>21687945</td>\n",
       "      <td>2.168794e+07</td>\n",
       "      <td>2.168794e+07</td>\n",
       "      <td>2.168794e+07</td>\n",
       "      <td>2.168794e+07</td>\n",
       "      <td>2.168794e+07</td>\n",
       "      <td>2.168794e+07</td>\n",
       "      <td>2.168794e+07</td>\n",
       "      <td>2.168794e+07</td>\n",
       "      <td>2.168794e+07</td>\n",
       "      <td>2.168794e+07</td>\n",
       "      <td>21687945</td>\n",
       "    </tr>\n",
       "    <tr>\n",
       "      <th>mean</th>\n",
       "      <td>3.929268e+05</td>\n",
       "      <td>5.188274e+07</td>\n",
       "      <td>2018-12-10 17:56:20.150121216</td>\n",
       "      <td>2019-01-15 22:56:17.220821760</td>\n",
       "      <td>1.899059e+00</td>\n",
       "      <td>8.148161e-01</td>\n",
       "      <td>1.655262e-01</td>\n",
       "      <td>1.309590e-01</td>\n",
       "      <td>3.406181e+08</td>\n",
       "      <td>1.327215e+02</td>\n",
       "      <td>1.051874e+01</td>\n",
       "      <td>1.611049e+04</td>\n",
       "      <td>1.555895e+02</td>\n",
       "      <td>8.809670e+03</td>\n",
       "      <td>2020-02-01 15:37:33.922483200</td>\n",
       "    </tr>\n",
       "    <tr>\n",
       "      <th>min</th>\n",
       "      <td>7.000000e+01</td>\n",
       "      <td>4.300000e+01</td>\n",
       "      <td>2010-11-19 20:17:16</td>\n",
       "      <td>2010-11-19 20:17:16</td>\n",
       "      <td>0.000000e+00</td>\n",
       "      <td>-1.500000e+01</td>\n",
       "      <td>0.000000e+00</td>\n",
       "      <td>0.000000e+00</td>\n",
       "      <td>2.000000e+00</td>\n",
       "      <td>0.000000e+00</td>\n",
       "      <td>1.000000e+00</td>\n",
       "      <td>0.000000e+00</td>\n",
       "      <td>0.000000e+00</td>\n",
       "      <td>1.000000e+00</td>\n",
       "      <td>1970-01-01 00:00:00</td>\n",
       "    </tr>\n",
       "    <tr>\n",
       "      <th>25%</th>\n",
       "      <td>2.427600e+05</td>\n",
       "      <td>3.642574e+07</td>\n",
       "      <td>2017-11-10 19:23:34</td>\n",
       "      <td>2017-11-27 03:32:55</td>\n",
       "      <td>0.000000e+00</td>\n",
       "      <td>0.000000e+00</td>\n",
       "      <td>0.000000e+00</td>\n",
       "      <td>0.000000e+00</td>\n",
       "      <td>1.110542e+08</td>\n",
       "      <td>2.200000e+01</td>\n",
       "      <td>2.000000e+00</td>\n",
       "      <td>1.253000e+03</td>\n",
       "      <td>0.000000e+00</td>\n",
       "      <td>5.590000e+02</td>\n",
       "      <td>2019-11-10 08:14:24</td>\n",
       "    </tr>\n",
       "    <tr>\n",
       "      <th>50%</th>\n",
       "      <td>3.595500e+05</td>\n",
       "      <td>5.383820e+07</td>\n",
       "      <td>2019-07-06 20:28:58</td>\n",
       "      <td>2019-10-27 11:48:18</td>\n",
       "      <td>0.000000e+00</td>\n",
       "      <td>0.000000e+00</td>\n",
       "      <td>0.000000e+00</td>\n",
       "      <td>0.000000e+00</td>\n",
       "      <td>2.163602e+08</td>\n",
       "      <td>6.100000e+01</td>\n",
       "      <td>4.000000e+00</td>\n",
       "      <td>4.315000e+03</td>\n",
       "      <td>0.000000e+00</td>\n",
       "      <td>1.881000e+03</td>\n",
       "      <td>2020-09-02 16:01:43</td>\n",
       "    </tr>\n",
       "    <tr>\n",
       "      <th>75%</th>\n",
       "      <td>5.780800e+05</td>\n",
       "      <td>6.928469e+07</td>\n",
       "      <td>2020-05-17 04:42:36</td>\n",
       "      <td>2020-06-05 21:29:39</td>\n",
       "      <td>1.000000e+00</td>\n",
       "      <td>0.000000e+00</td>\n",
       "      <td>4.829141e-01</td>\n",
       "      <td>0.000000e+00</td>\n",
       "      <td>4.192129e+08</td>\n",
       "      <td>1.460000e+02</td>\n",
       "      <td>1.000000e+01</td>\n",
       "      <td>1.493800e+04</td>\n",
       "      <td>0.000000e+00</td>\n",
       "      <td>6.825000e+03</td>\n",
       "      <td>2020-12-26 17:07:27</td>\n",
       "    </tr>\n",
       "    <tr>\n",
       "      <th>max</th>\n",
       "      <td>1.291340e+06</td>\n",
       "      <td>8.521867e+07</td>\n",
       "      <td>2021-01-23 18:24:47</td>\n",
       "      <td>2042-05-11 00:59:57</td>\n",
       "      <td>2.960800e+04</td>\n",
       "      <td>2.253200e+04</td>\n",
       "      <td>9.959868e-01</td>\n",
       "      <td>4.893000e+03</td>\n",
       "      <td>1.173000e+09</td>\n",
       "      <td>2.425800e+04</td>\n",
       "      <td>5.236000e+03</td>\n",
       "      <td>3.744943e+06</td>\n",
       "      <td>2.703900e+04</td>\n",
       "      <td>3.228103e+06</td>\n",
       "      <td>2021-01-23 20:35:42</td>\n",
       "    </tr>\n",
       "    <tr>\n",
       "      <th>std</th>\n",
       "      <td>2.481071e+05</td>\n",
       "      <td>2.083272e+07</td>\n",
       "      <td>NaN</td>\n",
       "      <td>NaN</td>\n",
       "      <td>3.988429e+01</td>\n",
       "      <td>2.791677e+01</td>\n",
       "      <td>2.238012e-01</td>\n",
       "      <td>2.201967e+00</td>\n",
       "      <td>3.179290e+08</td>\n",
       "      <td>2.815630e+02</td>\n",
       "      <td>3.422650e+01</td>\n",
       "      <td>3.594262e+04</td>\n",
       "      <td>7.156135e+02</td>\n",
       "      <td>2.309705e+04</td>\n",
       "      <td>NaN</td>\n",
       "    </tr>\n",
       "  </tbody>\n",
       "</table>\n",
       "</div>"
      ],
      "text/plain": [
       "             app_id     review_id              timestamp_created  \\\n",
       "count  2.168794e+07  2.168794e+07                       21687945   \n",
       "mean   3.929268e+05  5.188274e+07  2018-12-10 17:56:20.150121216   \n",
       "min    7.000000e+01  4.300000e+01            2010-11-19 20:17:16   \n",
       "25%    2.427600e+05  3.642574e+07            2017-11-10 19:23:34   \n",
       "50%    3.595500e+05  5.383820e+07            2019-07-06 20:28:58   \n",
       "75%    5.780800e+05  6.928469e+07            2020-05-17 04:42:36   \n",
       "max    1.291340e+06  8.521867e+07            2021-01-23 18:24:47   \n",
       "std    2.481071e+05  2.083272e+07                            NaN   \n",
       "\n",
       "                   timestamp_updated  votes_helpful   votes_funny  \\\n",
       "count                       21687945   2.168794e+07  2.168794e+07   \n",
       "mean   2019-01-15 22:56:17.220821760   1.899059e+00  8.148161e-01   \n",
       "min              2010-11-19 20:17:16   0.000000e+00 -1.500000e+01   \n",
       "25%              2017-11-27 03:32:55   0.000000e+00  0.000000e+00   \n",
       "50%              2019-10-27 11:48:18   0.000000e+00  0.000000e+00   \n",
       "75%              2020-06-05 21:29:39   1.000000e+00  0.000000e+00   \n",
       "max              2042-05-11 00:59:57   2.960800e+04  2.253200e+04   \n",
       "std                              NaN   3.988429e+01  2.791677e+01   \n",
       "\n",
       "       weighted_vote_score  comment_count  author.steamid  \\\n",
       "count         2.168794e+07   2.168794e+07    2.168794e+07   \n",
       "mean          1.655262e-01   1.309590e-01    3.406181e+08   \n",
       "min           0.000000e+00   0.000000e+00    2.000000e+00   \n",
       "25%           0.000000e+00   0.000000e+00    1.110542e+08   \n",
       "50%           0.000000e+00   0.000000e+00    2.163602e+08   \n",
       "75%           4.829141e-01   0.000000e+00    4.192129e+08   \n",
       "max           9.959868e-01   4.893000e+03    1.173000e+09   \n",
       "std           2.238012e-01   2.201967e+00    3.179290e+08   \n",
       "\n",
       "       author.num_games_owned  author.num_reviews  author.playtime_forever  \\\n",
       "count            2.168794e+07        2.168794e+07             2.168794e+07   \n",
       "mean             1.327215e+02        1.051874e+01             1.611049e+04   \n",
       "min              0.000000e+00        1.000000e+00             0.000000e+00   \n",
       "25%              2.200000e+01        2.000000e+00             1.253000e+03   \n",
       "50%              6.100000e+01        4.000000e+00             4.315000e+03   \n",
       "75%              1.460000e+02        1.000000e+01             1.493800e+04   \n",
       "max              2.425800e+04        5.236000e+03             3.744943e+06   \n",
       "std              2.815630e+02        3.422650e+01             3.594262e+04   \n",
       "\n",
       "       author.playtime_last_two_weeks  author.playtime_at_review  \\\n",
       "count                    2.168794e+07               2.168794e+07   \n",
       "mean                     1.555895e+02               8.809670e+03   \n",
       "min                      0.000000e+00               1.000000e+00   \n",
       "25%                      0.000000e+00               5.590000e+02   \n",
       "50%                      0.000000e+00               1.881000e+03   \n",
       "75%                      0.000000e+00               6.825000e+03   \n",
       "max                      2.703900e+04               3.228103e+06   \n",
       "std                      7.156135e+02               2.309705e+04   \n",
       "\n",
       "                  author.last_played  \n",
       "count                       21687945  \n",
       "mean   2020-02-01 15:37:33.922483200  \n",
       "min              1970-01-01 00:00:00  \n",
       "25%              2019-11-10 08:14:24  \n",
       "50%              2020-09-02 16:01:43  \n",
       "75%              2020-12-26 17:07:27  \n",
       "max              2021-01-23 20:35:42  \n",
       "std                              NaN  "
      ]
     },
     "execution_count": 15,
     "metadata": {},
     "output_type": "execute_result"
    }
   ],
   "source": [
    "df.describe()"
   ]
  },
  {
   "cell_type": "markdown",
   "id": "ab1f7a63-3683-45e0-9d40-182b5e8f4734",
   "metadata": {},
   "source": [
    "## Correlation Matrix"
   ]
  },
  {
   "cell_type": "markdown",
   "id": "3824b973-3856-4f90-8314-5e7038fba36a",
   "metadata": {},
   "source": [
    "#### Before creating the correlation matrix, it is important to convert columns with only two unique values (such as True/False) to integers (0 and 1) so that the binary columns are interpretable in the correlation matrix, allowing you to correctly evaluate relationships between binary and continuous variables."
   ]
  },
  {
   "cell_type": "code",
   "execution_count": 16,
   "id": "b011db55-6739-4630-95ee-2ed6d2c5edc0",
   "metadata": {
    "tags": []
   },
   "outputs": [
    {
     "data": {
      "text/plain": [
       "Index(['app_name', 'language', 'review', 'timestamp_created',\n",
       "       'timestamp_updated', 'recommended', 'votes_helpful', 'votes_funny',\n",
       "       'weighted_vote_score', 'comment_count', 'steam_purchase',\n",
       "       'received_for_free', 'written_during_early_access',\n",
       "       'author.num_games_owned', 'author.num_reviews',\n",
       "       'author.playtime_forever', 'author.playtime_last_two_weeks',\n",
       "       'author.playtime_at_review', 'author.last_played'],\n",
       "      dtype='object')"
      ]
     },
     "execution_count": 16,
     "metadata": {},
     "output_type": "execute_result"
    }
   ],
   "source": [
    "# Let's create a filter dataset that does not include the numeric variables that we are not interested\n",
    "df_filtered = df.drop(['app_id', 'review_id',\"author.steamid\"],axis=1)\n",
    "df_filtered.columns"
   ]
  },
  {
   "cell_type": "code",
   "execution_count": 17,
   "id": "fb8e030c-61f6-48a2-b087-089d1a7a980b",
   "metadata": {
    "tags": []
   },
   "outputs": [
    {
     "data": {
      "text/html": [
       "<div>\n",
       "<style scoped>\n",
       "    .dataframe tbody tr th:only-of-type {\n",
       "        vertical-align: middle;\n",
       "    }\n",
       "\n",
       "    .dataframe tbody tr th {\n",
       "        vertical-align: top;\n",
       "    }\n",
       "\n",
       "    .dataframe thead th {\n",
       "        text-align: right;\n",
       "    }\n",
       "</style>\n",
       "<table border=\"1\" class=\"dataframe\">\n",
       "  <thead>\n",
       "    <tr style=\"text-align: right;\">\n",
       "      <th></th>\n",
       "      <th>app_id</th>\n",
       "      <th>app_name</th>\n",
       "      <th>review_id</th>\n",
       "      <th>language</th>\n",
       "      <th>review</th>\n",
       "      <th>timestamp_created</th>\n",
       "      <th>timestamp_updated</th>\n",
       "      <th>recommended</th>\n",
       "      <th>votes_helpful</th>\n",
       "      <th>votes_funny</th>\n",
       "      <th>...</th>\n",
       "      <th>steam_purchase</th>\n",
       "      <th>received_for_free</th>\n",
       "      <th>written_during_early_access</th>\n",
       "      <th>author.steamid</th>\n",
       "      <th>author.num_games_owned</th>\n",
       "      <th>author.num_reviews</th>\n",
       "      <th>author.playtime_forever</th>\n",
       "      <th>author.playtime_last_two_weeks</th>\n",
       "      <th>author.playtime_at_review</th>\n",
       "      <th>author.last_played</th>\n",
       "    </tr>\n",
       "  </thead>\n",
       "  <tbody>\n",
       "    <tr>\n",
       "      <th>0</th>\n",
       "      <td>292030</td>\n",
       "      <td>The Witcher 3: Wild Hunt</td>\n",
       "      <td>85185598</td>\n",
       "      <td>schinese</td>\n",
       "      <td>不玩此生遗憾，RPG游戏里的天花板，太吸引人了</td>\n",
       "      <td>2021-01-23 06:00:29</td>\n",
       "      <td>2021-01-23 06:00:29</td>\n",
       "      <td>True</td>\n",
       "      <td>0</td>\n",
       "      <td>0</td>\n",
       "      <td>...</td>\n",
       "      <td>True</td>\n",
       "      <td>False</td>\n",
       "      <td>False</td>\n",
       "      <td>1135103814</td>\n",
       "      <td>6</td>\n",
       "      <td>2</td>\n",
       "      <td>1909.0</td>\n",
       "      <td>1448.0</td>\n",
       "      <td>1909.0</td>\n",
       "      <td>2021-01-22 19:23:03</td>\n",
       "    </tr>\n",
       "    <tr>\n",
       "      <th>1</th>\n",
       "      <td>292030</td>\n",
       "      <td>The Witcher 3: Wild Hunt</td>\n",
       "      <td>85185250</td>\n",
       "      <td>schinese</td>\n",
       "      <td>拔DIAO无情打桩机--杰洛特!!!</td>\n",
       "      <td>2021-01-23 05:50:30</td>\n",
       "      <td>2021-01-23 05:50:30</td>\n",
       "      <td>True</td>\n",
       "      <td>0</td>\n",
       "      <td>0</td>\n",
       "      <td>...</td>\n",
       "      <td>True</td>\n",
       "      <td>False</td>\n",
       "      <td>False</td>\n",
       "      <td>989238387</td>\n",
       "      <td>30</td>\n",
       "      <td>10</td>\n",
       "      <td>2764.0</td>\n",
       "      <td>2743.0</td>\n",
       "      <td>2674.0</td>\n",
       "      <td>2021-01-23 07:18:27</td>\n",
       "    </tr>\n",
       "    <tr>\n",
       "      <th>2</th>\n",
       "      <td>292030</td>\n",
       "      <td>The Witcher 3: Wild Hunt</td>\n",
       "      <td>85185111</td>\n",
       "      <td>schinese</td>\n",
       "      <td>巫师3NB</td>\n",
       "      <td>2021-01-23 05:46:40</td>\n",
       "      <td>2021-01-23 05:46:40</td>\n",
       "      <td>True</td>\n",
       "      <td>0</td>\n",
       "      <td>0</td>\n",
       "      <td>...</td>\n",
       "      <td>True</td>\n",
       "      <td>False</td>\n",
       "      <td>False</td>\n",
       "      <td>1129833260</td>\n",
       "      <td>5</td>\n",
       "      <td>1</td>\n",
       "      <td>1061.0</td>\n",
       "      <td>1061.0</td>\n",
       "      <td>1060.0</td>\n",
       "      <td>2021-01-23 06:36:17</td>\n",
       "    </tr>\n",
       "    <tr>\n",
       "      <th>3</th>\n",
       "      <td>292030</td>\n",
       "      <td>The Witcher 3: Wild Hunt</td>\n",
       "      <td>85184605</td>\n",
       "      <td>english</td>\n",
       "      <td>One of the best RPG's of all time, worthy of a...</td>\n",
       "      <td>2021-01-23 05:32:50</td>\n",
       "      <td>2021-01-23 05:32:50</td>\n",
       "      <td>True</td>\n",
       "      <td>0</td>\n",
       "      <td>0</td>\n",
       "      <td>...</td>\n",
       "      <td>True</td>\n",
       "      <td>False</td>\n",
       "      <td>False</td>\n",
       "      <td>1094489645</td>\n",
       "      <td>5</td>\n",
       "      <td>3</td>\n",
       "      <td>5587.0</td>\n",
       "      <td>3200.0</td>\n",
       "      <td>5524.0</td>\n",
       "      <td>2021-01-23 06:35:44</td>\n",
       "    </tr>\n",
       "    <tr>\n",
       "      <th>4</th>\n",
       "      <td>292030</td>\n",
       "      <td>The Witcher 3: Wild Hunt</td>\n",
       "      <td>85184287</td>\n",
       "      <td>schinese</td>\n",
       "      <td>大作</td>\n",
       "      <td>2021-01-23 05:23:47</td>\n",
       "      <td>2021-01-23 05:23:47</td>\n",
       "      <td>True</td>\n",
       "      <td>0</td>\n",
       "      <td>0</td>\n",
       "      <td>...</td>\n",
       "      <td>True</td>\n",
       "      <td>False</td>\n",
       "      <td>False</td>\n",
       "      <td>1068061223</td>\n",
       "      <td>7</td>\n",
       "      <td>4</td>\n",
       "      <td>217.0</td>\n",
       "      <td>42.0</td>\n",
       "      <td>217.0</td>\n",
       "      <td>2021-01-16 09:10:49</td>\n",
       "    </tr>\n",
       "  </tbody>\n",
       "</table>\n",
       "<p>5 rows × 22 columns</p>\n",
       "</div>"
      ],
      "text/plain": [
       "   app_id                  app_name  review_id  language  \\\n",
       "0  292030  The Witcher 3: Wild Hunt   85185598  schinese   \n",
       "1  292030  The Witcher 3: Wild Hunt   85185250  schinese   \n",
       "2  292030  The Witcher 3: Wild Hunt   85185111  schinese   \n",
       "3  292030  The Witcher 3: Wild Hunt   85184605   english   \n",
       "4  292030  The Witcher 3: Wild Hunt   85184287  schinese   \n",
       "\n",
       "                                              review   timestamp_created  \\\n",
       "0                            不玩此生遗憾，RPG游戏里的天花板，太吸引人了 2021-01-23 06:00:29   \n",
       "1                                 拔DIAO无情打桩机--杰洛特!!! 2021-01-23 05:50:30   \n",
       "2                                              巫师3NB 2021-01-23 05:46:40   \n",
       "3  One of the best RPG's of all time, worthy of a... 2021-01-23 05:32:50   \n",
       "4                                                 大作 2021-01-23 05:23:47   \n",
       "\n",
       "    timestamp_updated  recommended  votes_helpful  votes_funny  ...  \\\n",
       "0 2021-01-23 06:00:29         True              0            0  ...   \n",
       "1 2021-01-23 05:50:30         True              0            0  ...   \n",
       "2 2021-01-23 05:46:40         True              0            0  ...   \n",
       "3 2021-01-23 05:32:50         True              0            0  ...   \n",
       "4 2021-01-23 05:23:47         True              0            0  ...   \n",
       "\n",
       "   steam_purchase  received_for_free  written_during_early_access  \\\n",
       "0            True              False                        False   \n",
       "1            True              False                        False   \n",
       "2            True              False                        False   \n",
       "3            True              False                        False   \n",
       "4            True              False                        False   \n",
       "\n",
       "   author.steamid  author.num_games_owned  author.num_reviews  \\\n",
       "0      1135103814                       6                   2   \n",
       "1       989238387                      30                  10   \n",
       "2      1129833260                       5                   1   \n",
       "3      1094489645                       5                   3   \n",
       "4      1068061223                       7                   4   \n",
       "\n",
       "   author.playtime_forever  author.playtime_last_two_weeks  \\\n",
       "0                   1909.0                          1448.0   \n",
       "1                   2764.0                          2743.0   \n",
       "2                   1061.0                          1061.0   \n",
       "3                   5587.0                          3200.0   \n",
       "4                    217.0                            42.0   \n",
       "\n",
       "   author.playtime_at_review  author.last_played  \n",
       "0                     1909.0 2021-01-22 19:23:03  \n",
       "1                     2674.0 2021-01-23 07:18:27  \n",
       "2                     1060.0 2021-01-23 06:36:17  \n",
       "3                     5524.0 2021-01-23 06:35:44  \n",
       "4                      217.0 2021-01-16 09:10:49  \n",
       "\n",
       "[5 rows x 22 columns]"
      ]
     },
     "execution_count": 17,
     "metadata": {},
     "output_type": "execute_result"
    }
   ],
   "source": [
    "for col in df.columns:\n",
    "    if len(df[col].unique())==2:\n",
    "        df_filtered[col] = df_filtered[col].astype(int)  # Transform True in 1 e False in 0\n",
    "df.head()"
   ]
  },
  {
   "cell_type": "code",
   "execution_count": 18,
   "id": "e4b0b24d-da61-4dc7-848e-1f3ef8fd40ef",
   "metadata": {
    "tags": []
   },
   "outputs": [
    {
     "data": {
      "image/png": "[encoded data removed]",
      "text/plain": [
       "<Figure size 1000x800 with 2 Axes>"
      ]
     },
     "metadata": {},
     "output_type": "display_data"
    }
   ],
   "source": [
    "plt.figure(figsize=(10, 8))  \n",
    "sns.heatmap(\n",
    "    df_filtered.corr(numeric_only=True),\n",
    "    annot=True,\n",
    "    fmt=\".2f\",\n",
    "    cmap=\"coolwarm\",      \n",
    "    vmin=-1, vmax=1,      \n",
    "    linewidths=0.5,       \n",
    "    annot_kws={\"size\": 8})\n",
    "\n",
    "plt.xticks(rotation=45, ha=\"right\")            \n",
    "plt.title(\"Correlation Matrix\", fontsize=14,weight=\"bold\")  \n",
    "plt.tight_layout()                   \n",
    "plt.show()"
   ]
  },
  {
   "cell_type": "markdown",
   "id": "837e49c0-7fae-47a3-ac5e-7718878708e0",
   "metadata": {},
   "source": [
    "## Correlation Matrix Analysis\n",
    "\n",
    "This correlation matrix displays the relationships between the different variables in the dataset, with values ranging from -1 to 1 indicating whether or not there is a negative correlation (less than 0) or a positive correlation (greater than 0), or neither. \n",
    "Here is an analysis of some correlations between the different variables:\n",
    "\n",
    "- **Positive Correlations**:\n",
    "\n",
    "    - `author.playtime_forever` and `author.playtime_at_review` show a strong positive correlation (**0.83**), indicating that the total playtime correlates well with the playtime at review, as expected.\n",
    "    - `author.num_games_owned` and `author.num_reviews` have a moderate positive correlation (**0.33**), suggesting that users who own more games tend to leave more reviews.\n",
    "    - `votes_funny` and `votes_helpful`: There is a moderate positive correlation (0.47), suggesting that reviews marked as funny are also likely to be found helpful. This could imply that humorous reviews tend to engage users more,        leading them to vote both \"funny\" and \"helpful.\"\n",
    "    - `votes_funny` and `comment_count`: There is a small positive correlation (0.26) indicates that funny reviews tend to attract more comments. This may suggest that humorous content sparks discussion or interaction among users.\n",
    "    - `votes_helpful` and `comment_count`: There is a moderate positive correlation (0.47), suggesting that if a review had receive a high number of helpful votes, it may indicate that users find it informative or insightful. This can lead to more players commenting on the review to discuss their own experiences, ask questions, or provide additional insights about the game.\n",
    "\n",
    "- **Negative Correlations**:\n",
    "\n",
    "    - `written_during_early_access` and `author.num_games_owned` show a moderate negative correlation (**-0.26**), implying that users who participate in early access reviews may own fewer games on average.\n",
    "    - `written_during_early_access` and `author.playtime_forever` also have a moderate negative correlation (**-0.26**), which could indicate that early access reviewers might have lower total playtime as expected.\n",
    "\n",
    "- **Weak or Near-Zero Correlations**:\n",
    "\n",
    "    - Binary variables like `steam_purchase` and `received_for_free` show very weak correlations with other features, which may indicate that whether a game was purchased or received for free has little impact on other user.\n"
   ]
  },
  {
   "cell_type": "markdown",
   "id": "a6209dfe-c746-48a4-9948-1d5e90fd9fc5",
   "metadata": {},
   "source": [
    "## App names based on last played time "
   ]
  },
  {
   "cell_type": "code",
   "execution_count": 19,
   "id": "6f09b2f6-50b2-4c58-b8cf-c4a8ff73e32f",
   "metadata": {
    "tags": []
   },
   "outputs": [
    {
     "data": {
      "text/plain": [
       "author.last_played\n",
       "1970-01-02 00:00:00    2228\n",
       "2013-03-30 07:00:00      96\n",
       "2013-04-02 07:00:00      96\n",
       "2013-04-01 07:00:00      94\n",
       "2013-03-31 07:00:00      94\n",
       "                       ... \n",
       "2020-12-07 08:13:10       1\n",
       "2020-12-14 17:16:39       1\n",
       "2020-12-11 23:43:28       1\n",
       "2020-12-09 19:38:41       1\n",
       "2020-10-16 14:12:23       1\n",
       "Name: count, Length: 15973404, dtype: int64"
      ]
     },
     "execution_count": 19,
     "metadata": {},
     "output_type": "execute_result"
    }
   ],
   "source": [
    "df[\"author.last_played\"].value_counts()"
   ]
  },
  {
   "cell_type": "code",
   "execution_count": 20,
   "id": "cdacbe6e-3148-4654-9c7a-80d8b5d9f2cf",
   "metadata": {
    "tags": []
   },
   "outputs": [
    {
     "data": {
      "text/html": [
       "<div>\n",
       "<style scoped>\n",
       "    .dataframe tbody tr th:only-of-type {\n",
       "        vertical-align: middle;\n",
       "    }\n",
       "\n",
       "    .dataframe tbody tr th {\n",
       "        vertical-align: top;\n",
       "    }\n",
       "\n",
       "    .dataframe thead th {\n",
       "        text-align: right;\n",
       "    }\n",
       "</style>\n",
       "<table border=\"1\" class=\"dataframe\">\n",
       "  <thead>\n",
       "    <tr style=\"text-align: right;\">\n",
       "      <th></th>\n",
       "      <th>app_name</th>\n",
       "      <th>author.last_played</th>\n",
       "    </tr>\n",
       "  </thead>\n",
       "  <tbody>\n",
       "    <tr>\n",
       "      <th>21746605</th>\n",
       "      <td>Half-Life: Alyx</td>\n",
       "      <td>2021-01-23 20:35:42</td>\n",
       "    </tr>\n",
       "  </tbody>\n",
       "</table>\n",
       "</div>"
      ],
      "text/plain": [
       "                 app_name  author.last_played\n",
       "21746605  Half-Life: Alyx 2021-01-23 20:35:42"
      ]
     },
     "execution_count": 20,
     "metadata": {},
     "output_type": "execute_result"
    }
   ],
   "source": [
    "df[[\"app_name\",\"author.last_played\"]].loc[df[\"author.last_played\"]==df[\"author.last_played\"].max()] "
   ]
  },
  {
   "cell_type": "markdown",
   "id": "9889bc3b-18b1-4501-86ef-56daff3ac959",
   "metadata": {},
   "source": [
    "<img src=\"https://shared.akamai.steamstatic.com/store_item_assets/steam/apps/546560/capsule_616x353.jpg\" width=\"400\"/>\n",
    "\n",
    "**Half-Life: Alyx**: Released on March 23, 2020, is a virtual reality (VR) first-person shooter. "
   ]
  },
  {
   "cell_type": "code",
   "execution_count": 21,
   "id": "24818f77-cdd4-49e9-b3fa-78e5373f4bb3",
   "metadata": {},
   "outputs": [
    {
     "data": {
      "text/html": [
       "<div>\n",
       "<style scoped>\n",
       "    .dataframe tbody tr th:only-of-type {\n",
       "        vertical-align: middle;\n",
       "    }\n",
       "\n",
       "    .dataframe tbody tr th {\n",
       "        vertical-align: top;\n",
       "    }\n",
       "\n",
       "    .dataframe thead th {\n",
       "        text-align: right;\n",
       "    }\n",
       "</style>\n",
       "<table border=\"1\" class=\"dataframe\">\n",
       "  <thead>\n",
       "    <tr style=\"text-align: right;\">\n",
       "      <th></th>\n",
       "      <th>app_name</th>\n",
       "      <th>author.last_played</th>\n",
       "    </tr>\n",
       "  </thead>\n",
       "  <tbody>\n",
       "    <tr>\n",
       "      <th>3226433</th>\n",
       "      <td>Takedown: Red Sabre</td>\n",
       "      <td>1970-01-01</td>\n",
       "    </tr>\n",
       "    <tr>\n",
       "      <th>9668507</th>\n",
       "      <td>Undertale</td>\n",
       "      <td>1970-01-01</td>\n",
       "    </tr>\n",
       "    <tr>\n",
       "      <th>10358093</th>\n",
       "      <td>Dead Cells</td>\n",
       "      <td>1970-01-01</td>\n",
       "    </tr>\n",
       "    <tr>\n",
       "      <th>10358094</th>\n",
       "      <td>Dead Cells</td>\n",
       "      <td>1970-01-01</td>\n",
       "    </tr>\n",
       "    <tr>\n",
       "      <th>10358138</th>\n",
       "      <td>Dead Cells</td>\n",
       "      <td>1970-01-01</td>\n",
       "    </tr>\n",
       "    <tr>\n",
       "      <th>10359026</th>\n",
       "      <td>Dead Cells</td>\n",
       "      <td>1970-01-01</td>\n",
       "    </tr>\n",
       "    <tr>\n",
       "      <th>10359199</th>\n",
       "      <td>Dead Cells</td>\n",
       "      <td>1970-01-01</td>\n",
       "    </tr>\n",
       "    <tr>\n",
       "      <th>10362104</th>\n",
       "      <td>Dead Cells</td>\n",
       "      <td>1970-01-01</td>\n",
       "    </tr>\n",
       "    <tr>\n",
       "      <th>10363027</th>\n",
       "      <td>Dead Cells</td>\n",
       "      <td>1970-01-01</td>\n",
       "    </tr>\n",
       "    <tr>\n",
       "      <th>10364433</th>\n",
       "      <td>Dead Cells</td>\n",
       "      <td>1970-01-01</td>\n",
       "    </tr>\n",
       "    <tr>\n",
       "      <th>10365312</th>\n",
       "      <td>Dead Cells</td>\n",
       "      <td>1970-01-01</td>\n",
       "    </tr>\n",
       "    <tr>\n",
       "      <th>10365469</th>\n",
       "      <td>Dead Cells</td>\n",
       "      <td>1970-01-01</td>\n",
       "    </tr>\n",
       "  </tbody>\n",
       "</table>\n",
       "</div>"
      ],
      "text/plain": [
       "                     app_name author.last_played\n",
       "3226433   Takedown: Red Sabre         1970-01-01\n",
       "9668507             Undertale         1970-01-01\n",
       "10358093           Dead Cells         1970-01-01\n",
       "10358094           Dead Cells         1970-01-01\n",
       "10358138           Dead Cells         1970-01-01\n",
       "10359026           Dead Cells         1970-01-01\n",
       "10359199           Dead Cells         1970-01-01\n",
       "10362104           Dead Cells         1970-01-01\n",
       "10363027           Dead Cells         1970-01-01\n",
       "10364433           Dead Cells         1970-01-01\n",
       "10365312           Dead Cells         1970-01-01\n",
       "10365469           Dead Cells         1970-01-01"
      ]
     },
     "execution_count": 21,
     "metadata": {},
     "output_type": "execute_result"
    }
   ],
   "source": [
    "df[[\"app_name\", \"author.last_played\"]].loc[df['author.last_played'] == df['author.last_played'].min()]"
   ]
  },
  {
   "cell_type": "markdown",
   "id": "277a52ec-087d-45d5-8eea-488fec6e4d5e",
   "metadata": {},
   "source": [
    "<img src=\"https://imgcdn.agendadigitale.eu/wp-content/uploads/2020/07/14155539/undertale.jpg\" alt=\"Undertale\" width=\"400\"/> <img src=\"https://shared.fastly.steamstatic.com/store_item_assets/steam/apps/588650/capsule_616x353.jpg\" width=\"400\"/><img src=\"https://shared.cloudflare.steamstatic.com/store_item_assets/steam/apps/236510/capsule_616x353.jpg\" width=\"400\"/>\n",
    "\n",
    "- **Undertale** : Released on Sep 15, 2015, is an RPG (role-playing game);\n",
    "- **Dead Cells** : Released on Aug 7, 2018, is an Action-Adventure Roguelike;\n",
    "- **Takedown: Red Sabre** : Released on Dec 12, 2013, is a Tactical Shooter. "
   ]
  },
  {
   "cell_type": "markdown",
   "id": "ab83dbb4-b509-4cba-a866-e78916d73ac1",
   "metadata": {},
   "source": [
    "**The previous three videogames were released after 1970. There was probably a problem in the conversion with `dateparse function` and they were assigned that date because their value before was 0. In fact, January 1, 1970 represents the starting point of the system of measuring time in numbers of seconds.** "
   ]
  },
  {
   "cell_type": "code",
   "execution_count": 22,
   "id": "695a358a-522a-4aa5-83a0-ae69a70aec7a",
   "metadata": {
    "tags": []
   },
   "outputs": [
    {
     "data": {
      "text/html": [
       "<div>\n",
       "<style scoped>\n",
       "    .dataframe tbody tr th:only-of-type {\n",
       "        vertical-align: middle;\n",
       "    }\n",
       "\n",
       "    .dataframe tbody tr th {\n",
       "        vertical-align: top;\n",
       "    }\n",
       "\n",
       "    .dataframe thead th {\n",
       "        text-align: right;\n",
       "    }\n",
       "</style>\n",
       "<table border=\"1\" class=\"dataframe\">\n",
       "  <thead>\n",
       "    <tr style=\"text-align: right;\">\n",
       "      <th></th>\n",
       "      <th>app_name</th>\n",
       "      <th>author.last_played</th>\n",
       "    </tr>\n",
       "  </thead>\n",
       "  <tbody>\n",
       "    <tr>\n",
       "      <th>588847</th>\n",
       "      <td>Counter-Strike: Source</td>\n",
       "      <td>2007-02-04 08:00:00</td>\n",
       "    </tr>\n",
       "  </tbody>\n",
       "</table>\n",
       "</div>"
      ],
      "text/plain": [
       "                      app_name  author.last_played\n",
       "588847  Counter-Strike: Source 2007-02-04 08:00:00"
      ]
     },
     "execution_count": 22,
     "metadata": {},
     "output_type": "execute_result"
    }
   ],
   "source": [
    "#To resolve this problem we can filter the 'author.last_played' column with the dates after than January 1, 2000 :\n",
    "\n",
    "valid_entries_time = df.loc[(df['author.last_played'] > pd.Timestamp('2000-01-01'))]\n",
    "df[[\"app_name\", \"author.last_played\"]].loc[df['author.last_played'] == valid_entries_time['author.last_played'].min()]"
   ]
  },
  {
   "cell_type": "markdown",
   "id": "fa56ec87-2a07-41b6-8363-12fe5721c65f",
   "metadata": {},
   "source": [
    "<img src=\"https://shared.akamai.steamstatic.com/store_item_assets/steam/apps/240/header.jpg\" width=\"400\"/> \n",
    "\n",
    "**Counter-Strike: Source** : Released on Nov 1, 2004, is a Tactical shooter game\n",
    " \n"
   ]
  },
  {
   "cell_type": "markdown",
   "id": "666bce22-cdcc-4cea-9f46-92b376fa4c66",
   "metadata": {},
   "source": [
    "## Language and Review Analysis "
   ]
  },
  {
   "cell_type": "markdown",
   "id": "afb84464-226a-4221-bf48-ca873ad9cf79",
   "metadata": {},
   "source": [
    "### View all languages of user-written reviews on the Steam gaming platform :"
   ]
  },
  {
   "cell_type": "code",
   "execution_count": 23,
   "id": "2311ba82-d243-4151-a911-635d2eb1ca83",
   "metadata": {
    "tags": []
   },
   "outputs": [
    {
     "data": {
      "text/plain": [
       "array(['schinese', 'english', 'turkish', 'spanish', 'russian', 'koreana',\n",
       "       'latam', 'brazilian', 'portuguese', 'vietnamese', 'polish',\n",
       "       'french', 'german', 'hungarian', 'ukrainian', 'tchinese',\n",
       "       'bulgarian', 'czech', 'italian', 'thai', 'greek', 'dutch',\n",
       "       'finnish', 'romanian', 'japanese', 'swedish', 'danish',\n",
       "       'norwegian'], dtype=object)"
      ]
     },
     "execution_count": 23,
     "metadata": {},
     "output_type": "execute_result"
    }
   ],
   "source": [
    "pd.unique(df.language)"
   ]
  },
  {
   "cell_type": "code",
   "execution_count": 24,
   "id": "a4078858-69b0-4185-8e45-b3b96d35ef95",
   "metadata": {
    "tags": []
   },
   "outputs": [
    {
     "name": "stdout",
     "output_type": "stream",
     "text": [
      "The number of different languages used in reviews on the Steam platform is: 28\n"
     ]
    }
   ],
   "source": [
    "print(f\"The number of different languages used in reviews on the Steam platform is: {len(pd.unique(df.language))}\")"
   ]
  },
  {
   "cell_type": "code",
   "execution_count": 25,
   "id": "c658f27e-47b7-4028-b4ad-ccc1833e381c",
   "metadata": {
    "tags": []
   },
   "outputs": [
    {
     "data": {
      "image/png": "[encoded data removed]",
      "text/plain": [
       "<Figure size 1000x600 with 1 Axes>"
      ]
     },
     "metadata": {},
     "output_type": "display_data"
    }
   ],
   "source": [
    "viridis = sns.color_palette(\"viridis\",len(df.language.value_counts()))\n",
    "plt.figure(figsize=(10,6))\n",
    "df.language.value_counts().sort_values(ascending=True).plot.barh(\n",
    "    width=0.5, \n",
    "    title=\"Number of reviews per language\", \n",
    "    color=viridis,\n",
    "    edgecolor=\"black\"\n",
    ")\n",
    "plt.tight_layout()\n",
    "plt.grid()\n",
    "plt.show()"
   ]
  },
  {
   "cell_type": "markdown",
   "id": "62ccb8df-69ce-42d8-9905-db22e64f5c83",
   "metadata": {
    "tags": []
   },
   "source": [
    "From the barplot in the figure, it can be seen that the largest number of reviews written by users in 2021 are in English followed by Chinese and Russian.A possible reason for the largest number of reviews in English, followed by Chinese and Russian, could be the global prevalence of these languages among internet users. English remains the most widely used language online, enabling a larger base of users to engage with content and share reviews. Similarly, Chinese and Russian have large native-speaking populations, many of whom increasingly participate in global and local online platforms, contributing significantly to review counts. Additionally, these languages are commonly used on major review platforms, which may encourage users to write reviews in their native or most commonly used language."
   ]
  },
  {
   "cell_type": "code",
   "execution_count": 26,
   "id": "ef06050e-0364-4125-9dc3-cbe864d5a9ff",
   "metadata": {
    "tags": []
   },
   "outputs": [
    {
     "data": {
      "text/plain": [
       "Index(['english', 'schinese', 'russian'], dtype='object', name='language')"
      ]
     },
     "execution_count": 26,
     "metadata": {},
     "output_type": "execute_result"
    }
   ],
   "source": [
    "top3_languages=df.language.value_counts().index[:3]\n",
    "top3_languages # save the top three index in one variable called top3_languages"
   ]
  },
  {
   "cell_type": "code",
   "execution_count": 27,
   "id": "a6fbf4a2-b656-47de-9c16-ea13b9748b2d",
   "metadata": {
    "tags": []
   },
   "outputs": [
    {
     "data": {
      "text/plain": [
       "language\n",
       "english            9606838\n",
       "other languages    5980058\n",
       "schinese           3758221\n",
       "russian            2342828\n",
       "Name: count, dtype: int64"
      ]
     },
     "execution_count": 27,
     "metadata": {},
     "output_type": "execute_result"
    }
   ],
   "source": [
    "language= df[\"language\"].copy() # define a copy of language column\n",
    "# Replaces values in 'language' that are NOT in 'top3_languages' with \"other languages\"\n",
    "language.loc[~language.isin(top3_languages)] = \"other languages\"\n",
    "language.value_counts()"
   ]
  },
  {
   "cell_type": "code",
   "execution_count": 91,
   "id": "e19b2f1f-2b2a-49f5-815c-9ad93574bfd8",
   "metadata": {
    "tags": []
   },
   "outputs": [
    {
     "data": {
      "image/png": "[encoded data removed]",
      "text/plain": [
       "<Figure size 600x600 with 1 Axes>"
      ]
     },
     "metadata": {},
     "output_type": "display_data"
    }
   ],
   "source": [
    "# Create a pie chart to visualize the percentage distribution of languages in the dataset\n",
    "plt.figure(figsize=(6, 6))\n",
    "plt.pie(language.value_counts(), labels=language.value_counts().index, autopct='%1.1f%%', startangle=90, colors=sns.color_palette(\"crest\", len(language.value_counts())),\n",
    "         wedgeprops={'edgecolor': 'black', 'linewidth': 0.5})\n",
    "plt.title('Pie chart of most used languages in reviews',fontsize=12, fontweight='bold')\n",
    "plt.show()"
   ]
  },
  {
   "cell_type": "markdown",
   "id": "09194a16-355a-4971-a2e2-cff519728f4c",
   "metadata": {},
   "source": [
    "This pie chart shows the distribution of languages used in reviews. English dominates with 44.3% of all reviews, making it the most used language in reviews as highlighted in the previous chat bar, followed by Chinese and Russian with significantly lower percentages. Other languages occupy a good percentage of the distribution at 27.6%. **Given the large influx of English into the dataset, we can continue the analysis only on that language to reduce the memory space in future data manipulation**."
   ]
  },
  {
   "cell_type": "markdown",
   "id": "bd0406ee-5acd-448d-8530-da45a866619a",
   "metadata": {},
   "source": [
    "## Playtime distribution of Steam users"
   ]
  },
  {
   "cell_type": "code",
   "execution_count": 29,
   "id": "68a9d587-b59a-48fc-af37-228b1f132115",
   "metadata": {
    "tags": []
   },
   "outputs": [],
   "source": [
    "hour=3600  # in terms of second one hour is composed 3600 seconds\n",
    "playtime_intervals = [0,hour*3,hour*6,hour*12, hour*24, float('inf')]  # let's define some intervals\n",
    "playtime_names = ['Less than 3 hours','3-6 hours','6-12 hours', '12-24 hours', '1+ days']  # define the names of intervals based by hours that player played \n",
    "playtime_df = pd.cut(df['author.playtime_forever'], bins=playtime_intervals, labels=playtime_names, right=True)"
   ]
  },
  {
   "cell_type": "code",
   "execution_count": 30,
   "id": "1d05c929-3dc0-48ca-9a3f-e9bc4715c95d",
   "metadata": {
    "tags": []
   },
   "outputs": [
    {
     "data": {
      "text/plain": [
       "author.playtime_forever\n",
       "Less than 3 hours    14976088\n",
       "3-6 hours             2612766\n",
       "6-12 hours            2015197\n",
       "12-24 hours           1307504\n",
       "1+ days                776378\n",
       "Name: count, dtype: int64"
      ]
     },
     "execution_count": 30,
     "metadata": {},
     "output_type": "execute_result"
    }
   ],
   "source": [
    "playtime_counts=playtime_df.value_counts()\n",
    "playtime_counts"
   ]
  },
  {
   "cell_type": "code",
   "execution_count": 31,
   "id": "8720d6c4-ffd8-4859-b7a4-ef1a6b69b521",
   "metadata": {
    "tags": []
   },
   "outputs": [
    {
     "name": "stdout",
     "output_type": "stream",
     "text": [
      "Less than 3 hours: 69.05%\n",
      "3-6 hours: 12.05%\n",
      "6-12 hours: 9.29%\n",
      "12-24 hours: 6.03%\n",
      "1+ days: 3.58%\n"
     ]
    }
   ],
   "source": [
    "# Show the percentages\n",
    "for value,index in zip(playtime_counts,playtime_counts.index):\n",
    "    print(f\"{index}: {value/sum(playtime_counts) * 100:.2f}%\")\n",
    "    "
   ]
  },
  {
   "cell_type": "code",
   "execution_count": 32,
   "id": "2ae07fe8-3e02-4cfb-9202-7ec2c8fb2456",
   "metadata": {
    "tags": []
   },
   "outputs": [
    {
     "data": {
      "image/png": "[encoded data removed]",
      "text/plain": [
       "<Figure size 1000x600 with 1 Axes>"
      ]
     },
     "metadata": {},
     "output_type": "display_data"
    }
   ],
   "source": [
    "magma=sns.color_palette(\"magma\", 5)\n",
    "plt.figure(figsize=(10, 6))\n",
    "\n",
    "playtime_df.value_counts().plot.bar(color=magma, edgecolor='black')\n",
    "\n",
    "plt.xlabel('Playtime categories')\n",
    "plt.ylabel('Number of users')\n",
    "plt.title('Playtime distribution',fontsize=14,weight=\"bold\")\n",
    "plt.xticks(rotation=360)  \n",
    "plt.grid(alpha=0.3)\n",
    "plt.tight_layout()\n",
    "plt.show()"
   ]
  },
  {
   "cell_type": "markdown",
   "id": "e6b62f36-3462-40e4-a98f-f22ad609327f",
   "metadata": {},
   "source": [
    "## Playtime distribution analysis: \n",
    "The distribution bar chart shows a large predominance in the number of users who play for short sessions: \n",
    "- Approximately 15 million people dedicate less than 3 hours to the game, representing the highest segment. \n",
    "- A drastic drop is then noted in the subsequent bands, with approximately 2.6 million users who play between 3-6 hours, followed by a gradual decline through the 6-12 hour categories (2 million), 12-24 hour categories (1.3 million), until reaching approximately 800,000 users who play for more than a day. \n",
    "## Considerations:\n",
    "- This distribution suggests that the Steam platform is mainly dominated by a casual audience, with a modest player base investing longer periods in their gaming sessions.\n",
    "- The high number of gamers who play for short sessions could represent the segment of people with limited gaming time, such as students or workers who seek short but frequent moments of leisure.\n",
    "- Analysis of play time can be influenced by seasonal trends, with peaks during holidays, weekends, or when new games or a new updates are launched."
   ]
  },
  {
   "cell_type": "markdown",
   "id": "d096cb5c-afee-4b03-a97b-6c38a3e1da38",
   "metadata": {},
   "source": [
    "## Analysis of Playtime and Game Recommendations"
   ]
  },
  {
   "cell_type": "code",
   "execution_count": 33,
   "id": "5dbf892f-1f2a-41ba-8bd3-48c6cb623666",
   "metadata": {
    "tags": []
   },
   "outputs": [
    {
     "data": {
      "text/html": [
       "<div>\n",
       "<style scoped>\n",
       "    .dataframe tbody tr th:only-of-type {\n",
       "        vertical-align: middle;\n",
       "    }\n",
       "\n",
       "    .dataframe tbody tr th {\n",
       "        vertical-align: top;\n",
       "    }\n",
       "\n",
       "    .dataframe thead th {\n",
       "        text-align: right;\n",
       "    }\n",
       "</style>\n",
       "<table border=\"1\" class=\"dataframe\">\n",
       "  <thead>\n",
       "    <tr style=\"text-align: right;\">\n",
       "      <th></th>\n",
       "      <th>author.playtime_forever</th>\n",
       "      <th>recommended</th>\n",
       "    </tr>\n",
       "  </thead>\n",
       "  <tbody>\n",
       "    <tr>\n",
       "      <th>0</th>\n",
       "      <td>Less than 3 hours</td>\n",
       "      <td>True</td>\n",
       "    </tr>\n",
       "    <tr>\n",
       "      <th>1</th>\n",
       "      <td>Less than 3 hours</td>\n",
       "      <td>True</td>\n",
       "    </tr>\n",
       "    <tr>\n",
       "      <th>2</th>\n",
       "      <td>Less than 3 hours</td>\n",
       "      <td>True</td>\n",
       "    </tr>\n",
       "    <tr>\n",
       "      <th>3</th>\n",
       "      <td>Less than 3 hours</td>\n",
       "      <td>True</td>\n",
       "    </tr>\n",
       "    <tr>\n",
       "      <th>4</th>\n",
       "      <td>Less than 3 hours</td>\n",
       "      <td>True</td>\n",
       "    </tr>\n",
       "    <tr>\n",
       "      <th>...</th>\n",
       "      <td>...</td>\n",
       "      <td>...</td>\n",
       "    </tr>\n",
       "    <tr>\n",
       "      <th>21747371</th>\n",
       "      <td>Less than 3 hours</td>\n",
       "      <td>True</td>\n",
       "    </tr>\n",
       "    <tr>\n",
       "      <th>21747372</th>\n",
       "      <td>Less than 3 hours</td>\n",
       "      <td>True</td>\n",
       "    </tr>\n",
       "    <tr>\n",
       "      <th>21747373</th>\n",
       "      <td>Less than 3 hours</td>\n",
       "      <td>True</td>\n",
       "    </tr>\n",
       "    <tr>\n",
       "      <th>21747374</th>\n",
       "      <td>Less than 3 hours</td>\n",
       "      <td>True</td>\n",
       "    </tr>\n",
       "    <tr>\n",
       "      <th>21747375</th>\n",
       "      <td>Less than 3 hours</td>\n",
       "      <td>True</td>\n",
       "    </tr>\n",
       "  </tbody>\n",
       "</table>\n",
       "<p>21687945 rows × 2 columns</p>\n",
       "</div>"
      ],
      "text/plain": [
       "         author.playtime_forever  recommended\n",
       "0              Less than 3 hours         True\n",
       "1              Less than 3 hours         True\n",
       "2              Less than 3 hours         True\n",
       "3              Less than 3 hours         True\n",
       "4              Less than 3 hours         True\n",
       "...                          ...          ...\n",
       "21747371       Less than 3 hours         True\n",
       "21747372       Less than 3 hours         True\n",
       "21747373       Less than 3 hours         True\n",
       "21747374       Less than 3 hours         True\n",
       "21747375       Less than 3 hours         True\n",
       "\n",
       "[21687945 rows x 2 columns]"
      ]
     },
     "execution_count": 33,
     "metadata": {},
     "output_type": "execute_result"
    }
   ],
   "source": [
    "# Let's see if there is a connection between the hours played and whether the game is recommended or not\n",
    "recommendations_playtime=pd.concat([playtime_df,df[\"recommended\"]],axis=1)  # union two column of different data\n",
    "\n",
    "# show the table\n",
    "recommendations_playtime"
   ]
  },
  {
   "cell_type": "code",
   "execution_count": 82,
   "id": "62a5e41f-a777-4d72-bccc-eaa50431c365",
   "metadata": {
    "tags": []
   },
   "outputs": [
    {
     "data": {
      "text/html": [
       "<div>\n",
       "<style scoped>\n",
       "    .dataframe tbody tr th:only-of-type {\n",
       "        vertical-align: middle;\n",
       "    }\n",
       "\n",
       "    .dataframe tbody tr th {\n",
       "        vertical-align: top;\n",
       "    }\n",
       "\n",
       "    .dataframe thead th {\n",
       "        text-align: right;\n",
       "    }\n",
       "</style>\n",
       "<table border=\"1\" class=\"dataframe\">\n",
       "  <thead>\n",
       "    <tr style=\"text-align: right;\">\n",
       "      <th>author.playtime_forever</th>\n",
       "      <th>Less than 3 hours</th>\n",
       "      <th>3-6 hours</th>\n",
       "      <th>6-12 hours</th>\n",
       "      <th>12-24 hours</th>\n",
       "      <th>1+ days</th>\n",
       "    </tr>\n",
       "    <tr>\n",
       "      <th>recommended</th>\n",
       "      <th></th>\n",
       "      <th></th>\n",
       "      <th></th>\n",
       "      <th></th>\n",
       "      <th></th>\n",
       "    </tr>\n",
       "  </thead>\n",
       "  <tbody>\n",
       "    <tr>\n",
       "      <th>True</th>\n",
       "      <td>13272291</td>\n",
       "      <td>2296279</td>\n",
       "      <td>1695215</td>\n",
       "      <td>1065347</td>\n",
       "      <td>639507</td>\n",
       "    </tr>\n",
       "    <tr>\n",
       "      <th>False</th>\n",
       "      <td>1703797</td>\n",
       "      <td>316487</td>\n",
       "      <td>319982</td>\n",
       "      <td>242157</td>\n",
       "      <td>136871</td>\n",
       "    </tr>\n",
       "  </tbody>\n",
       "</table>\n",
       "</div>"
      ],
      "text/plain": [
       "author.playtime_forever  Less than 3 hours  3-6 hours  6-12 hours  \\\n",
       "recommended                                                         \n",
       "True                              13272291    2296279     1695215   \n",
       "False                              1703797     316487      319982   \n",
       "\n",
       "author.playtime_forever  12-24 hours  1+ days  \n",
       "recommended                                    \n",
       "True                         1065347   639507  \n",
       "False                         242157   136871  "
      ]
     },
     "execution_count": 82,
     "metadata": {},
     "output_type": "execute_result"
    }
   ],
   "source": [
    "# Grouping the DataFrame 'recommendations_playtime' by the 'recommended' column\n",
    "# This separates the data into two groups: those who recommended (True) and those who did not (False)\n",
    "\n",
    "groupby_recommendations = recommendations_playtime.groupby(['recommended','author.playtime_forever']).value_counts().unstack()\n",
    "groupby_recommendations.sort_index(ascending=False)"
   ]
  },
  {
   "cell_type": "markdown",
   "id": "9ba5c86f-c8c3-4a4d-885c-11a6d54791e8",
   "metadata": {},
   "source": [
    "## Considerations\n",
    "- As highlighted in the correlation matrix, there is no significant correlation between the hours played and whether the game is recommended or not. This information suggests that the amount of time a player spends in the game does not necessarily influence their likelihood of recommending it to others.\n",
    "\n",
    "- It is important to note that while players may invest many hours into a game, this does not automatically translate into a positive recommendation. Factors such as individual preferences, expectations, and experiences with the game's mechanics, narrative, or other factos can all play a crucial role in shaping a player's overall perception."
   ]
  },
  {
   "cell_type": "markdown",
   "id": "2a8c9887-99e1-474a-af49-032e91bc788d",
   "metadata": {},
   "source": [
    "## Number of videogames owned per Steam utent "
   ]
  },
  {
   "cell_type": "code",
   "execution_count": 35,
   "id": "6f8112a0-59e4-4801-b87c-2bdbdc333e47",
   "metadata": {
    "tags": []
   },
   "outputs": [],
   "source": [
    "number_videogames_owned=df[\"author.num_games_owned\"].value_counts().sort_values(ascending=False)"
   ]
  },
  {
   "cell_type": "code",
   "execution_count": 36,
   "id": "2d85a2af-3646-4094-ba94-f2dc50ef2360",
   "metadata": {
    "tags": []
   },
   "outputs": [
    {
     "data": {
      "image/png": "[encoded data removed]",
      "text/plain": [
       "<Figure size 640x480 with 1 Axes>"
      ]
     },
     "metadata": {},
     "output_type": "display_data"
    }
   ],
   "source": [
    "number_videogames_owned.plot.hist(color=\"aqua\",edgecolor=\"black\",bins=50,title=\"Distribution of number of videogames owned\")\n",
    "plt.show()"
   ]
  },
  {
   "cell_type": "markdown",
   "id": "c0cbbffa-a273-4122-b725-93508b14d0fd",
   "metadata": {},
   "source": [
    "#### The first histogram with all the data relating to the number of games owned by Steam users shows that most of them own very few games, with some outliers owning a very high number."
   ]
  },
  {
   "cell_type": "code",
   "execution_count": 37,
   "id": "40288dbe-9574-4d51-993a-6be6106dca35",
   "metadata": {
    "tags": []
   },
   "outputs": [
    {
     "data": {
      "image/png": "[encoded data removed]",
      "text/plain": [
       "<Figure size 1000x600 with 1 Axes>"
      ]
     },
     "metadata": {},
     "output_type": "display_data"
    }
   ],
   "source": [
    "# Focus on users with 200 or fewer games owned to improve visualization and remove possible outliers\n",
    "\n",
    "fig= number_videogames_owned.loc[number_videogames_owned<=200].plot.hist(color=\"aqua\",edgecolor=\"black\",bins=100,title=\"Distribution of number of videogames owned\",figsize=(10,6))\n",
    "fig.set_xticks(range(0, 201, 10)) # Divide into intervals of 10, making it easier to interpret the frequency \n",
    "plt.show()"
   ]
  },
  {
   "cell_type": "markdown",
   "id": "b297f938-3250-4806-930f-24193de8e097",
   "metadata": {},
   "source": [
    "The histogram illustrates the distribution of the number of videogames owned by users, focusing on those with 200 or fewer games.\n",
    "\n",
    "- The distribution is highly skewed to the left, with the majority of users owning a small number of games. Especially a significant number of users own fewer than 10 games.\n",
    "- As the number of games owned increases, the frequency **decreases rapidly**, showing that only a small proportion of users own a larger collection of these."
   ]
  },
  {
   "cell_type": "markdown",
   "id": "20d20344-3125-43d1-9ed9-5245311ca8e0",
   "metadata": {},
   "source": [
    "### **We create different categories of users based on the games they own in their Steam library**"
   ]
  },
  {
   "cell_type": "code",
   "execution_count": 38,
   "id": "5ab000f6-fed3-4b21-9de9-42f6acb783cf",
   "metadata": {
    "tags": []
   },
   "outputs": [],
   "source": [
    "bins = [1, 10, 20, 51, 201, float('inf')]  \n",
    "Gamer_categories = ['Occasional', 'Casual Gamer', 'Moderate Gamer', 'Passionate Gamer', 'Collector']  "
   ]
  },
  {
   "cell_type": "code",
   "execution_count": 39,
   "id": "7e93e1a2-77dc-4c7b-8c6f-c934c096c9ae",
   "metadata": {
    "tags": []
   },
   "outputs": [],
   "source": [
    "df['game_category'] = pd.cut(df['author.num_games_owned'], bins=bins, labels=Gamer_categories, right=True)\n",
    "category_counts = df['game_category'].value_counts()"
   ]
  },
  {
   "cell_type": "code",
   "execution_count": 40,
   "id": "d4100fb8-f2da-4e3d-a68f-a507741e03f6",
   "metadata": {
    "tags": []
   },
   "outputs": [
    {
     "data": {
      "image/png": "[encoded data removed]",
      "text/plain": [
       "<Figure size 600x600 with 1 Axes>"
      ]
     },
     "metadata": {},
     "output_type": "display_data"
    }
   ],
   "source": [
    "Spectral=sns.color_palette(\"Spectral\",5)\n",
    "plt.figure(figsize=(6, 6))\n",
    "plt.pie(category_counts, labels=category_counts.index, autopct='%1.1f%%', startangle=150, colors=Spectral)\n",
    "plt.title('Pie chart of number of videogames owned by users',fontsize=12, fontweight='bold')\n",
    "plt.show()"
   ]
  },
  {
   "cell_type": "markdown",
   "id": "e3a46746-a2dd-4f14-bc30-26bd1cacbf5e",
   "metadata": {},
   "source": [
    "## User Distribution Analysis by Game Ownership\n",
    "\n",
    "The pie chart illustrates the distribution of Steam users by the number of games they own. **Users are divided into five distinct groups:**\n",
    "\n",
    "- **Passionate Gamer (201+ games):** This is the largest category, comprising 38.1% of users. Avid gamers are likely to have a strong dedication to gaming, amassing a sizeable collection of games. This group may consist of users who are frequently active on the platform, who purchase and play a wide variety of games, such as streamers, YouTubers, and content creators from other platforms.\n",
    "\n",
    "- **Moderate Gamer (51-200 games):** The second largest group, comprising 22% of the user base, is likely to consist of gamers who enjoy gaming but have a small library. They may be selective in their purchases, purchasing only games they are particularly interested in.\n",
    "\n",
    "- **Collector (21-50 games):** The third group includes 17.6% of users who focus on building as large a game library as possible. They may not necessarily play all games extensively, but they enjoy accumulating games, perhaps out of interest in building a collection or taking advantage of discounts on the platform.\n",
    "\n",
    "- **Occasional Gamer (11-20 games):** This group, representing 12.4% of users, likely represents individuals who play games sporadically. Occasional gamers may purchase games infrequently and play only occasionally, perhaps reflecting a more casual interest or limited play time.\n",
    "\n",
    "- **Casual Gamer (1-10 games):** The smallest group, representing 10.4% of users, are casual gamers. These users likely have a minimal collection of games and interact with the platform infrequently, using it primarily for occasional entertainment.\n",
    "\n",
    "### Considerations\n",
    "\n",
    "The chart shows a broad level of user activity on Steam, with nearly 60% of users classified as either passionate or moderate gamers. This suggests that a significant portion of the user base is heavily engaged in gaming, while smaller segments use the platform more casually.\n"
   ]
  },
  {
   "cell_type": "markdown",
   "id": "a6b4e3c9-741a-4101-ab15-edd560334369",
   "metadata": {},
   "source": [
    "## The bests and worsts selling games on Steam "
   ]
  },
  {
   "cell_type": "code",
   "execution_count": 41,
   "id": "905254cd-2658-44bf-81cd-43f0011af0e2",
   "metadata": {
    "tags": []
   },
   "outputs": [],
   "source": [
    "best_selling_games=df[\"app_name\"].value_counts().sort_values(ascending=False)/1000\n",
    "worst_selling_games=df[\"app_name\"].value_counts().sort_values(ascending=False)[-10:-1]"
   ]
  },
  {
   "cell_type": "code",
   "execution_count": 42,
   "id": "e3f4a116-9bfc-4947-86de-1add14bfa001",
   "metadata": {
    "tags": []
   },
   "outputs": [
    {
     "data": {
      "text/plain": [
       "app_name\n",
       "PLAYERUNKNOWN'S BATTLEGROUNDS     1642.631\n",
       "Grand Theft Auto V                1016.370\n",
       "Tom Clancy's Rainbow Six Siege     839.838\n",
       "Terraria                           671.425\n",
       "Garry's Mod                        653.815\n",
       "Rust                               548.020\n",
       "Rocket League                      497.249\n",
       "PAYDAY 2                           486.110\n",
       "Among Us                           483.393\n",
       "The Witcher 3: Wild Hunt           468.330\n",
       "Name: count, dtype: float64"
      ]
     },
     "execution_count": 42,
     "metadata": {},
     "output_type": "execute_result"
    }
   ],
   "source": [
    "best_selling_games[:10]"
   ]
  },
  {
   "cell_type": "code",
   "execution_count": 43,
   "id": "a6cdcafb-285c-48f4-82f5-774914a5f00c",
   "metadata": {
    "tags": []
   },
   "outputs": [
    {
     "data": {
      "text/plain": [
       "app_name\n",
       "Rapture Rejects                    1598\n",
       "WWE 2K17                           1496\n",
       "Budget Cuts                        1295\n",
       "Toukiden 2                         1199\n",
       "Slipstream                         1101\n",
       "Don't Escape: 4 Days to Survive    1011\n",
       "Out of the Park Baseball 19         699\n",
       "Shadow Complex Remastered           699\n",
       "Name: count, dtype: int64"
      ]
     },
     "execution_count": 43,
     "metadata": {},
     "output_type": "execute_result"
    }
   ],
   "source": [
    "worst_selling_games[-10:-1]"
   ]
  },
  {
   "cell_type": "code",
   "execution_count": 44,
   "id": "2c50ea45-ddd5-4ca5-b16b-6fb9d28457eb",
   "metadata": {
    "tags": []
   },
   "outputs": [
    {
     "data": {
      "image/png": "[encoded data removed]",
      "text/plain": [
       "<Figure size 1400x800 with 2 Axes>"
      ]
     },
     "metadata": {},
     "output_type": "display_data"
    }
   ],
   "source": [
    "fig, axs = plt.subplots(1, 2, figsize=(14, 8))\n",
    "best_selling_games[:10].plot.bar(y='Sales', ax=axs[0], color='purple',edgecolor=\"black\",width=0.4)\n",
    "axs[0].set_title(\"Top 10 Games Sold in Thousands of Copies\",weight=\"bold\")\n",
    "axs[0].tick_params(axis='x', labelsize=7)\n",
    "axs[0].set_ylabel(\"Sales\")\n",
    "axs[0].set_xlabel(\"\")\n",
    "axs[0].grid()\n",
    "\n",
    "worst_selling_games.plot.bar(y='Sales', ax=axs[1], color='darkorange',edgecolor=\"black\",width=0.4)\n",
    "axs[1].set_title(\"Worst 10 Games Sold\",weight=\"bold\")\n",
    "axs[1].tick_params(axis='x', labelsize=7)\n",
    "axs[1].set_ylabel(\"Sales\")\n",
    "axs[1].set_xlabel(\"\")\n",
    "axs[1].grid()  \n",
    "\n",
    "plt.tight_layout()\n",
    "plt.show()"
   ]
  },
  {
   "cell_type": "markdown",
   "id": "615f24e9-d407-4769-a109-941c7a6a6180",
   "metadata": {},
   "source": [
    "From the graphs shown, it can be highlighted that the game \"Playerunknown's Battlegrounds\" (PUBG) in 2021 is the best-selling with over 160,000 copies. On the other hand, the game \"Dragon Quest Heroes 2\" is the least sold with only 600 copies. The success of online multiplayer games like PUBG  likely stems from both their competitive nature and the gaming industry's growth during the COVID-19 pandemic, when people sought virtual social interactions and entertainment while staying at home. Additionally, the gap between top and lower sellers suggests that factors like online component, cross-platform availability and continuous game updates play crucial roles in commercial success."
   ]
  },
  {
   "cell_type": "markdown",
   "id": "2d72cb04-69bc-4c3c-92b3-351795e76ca3",
   "metadata": {},
   "source": [
    "# BONUS. Sentiment analysis of english reviews by users in Steam platform"
   ]
  },
  {
   "cell_type": "markdown",
   "id": "3c624b45-6b5f-4c32-a7a9-333234e6f37f",
   "metadata": {},
   "source": [
    "## Why only english reviews were considered\n",
    "\n",
    "The decision to focus exclusively on english reviews was made for both convenience and accuracy. Translating millions of reviews written in a multitude of languages into english presents significant challenges that would impact the quality and consistency of the analysis. Here is a breakdown of the main issues involved:\n",
    "\n",
    "1. Machine translation tools, while powerful, often struggle with nuances, colloquialisms, and slang unique to each language. This can lead to mistranslations or loss of context, especially with game-specific terminology or culturally specific references;\n",
    "\n",
    "2. Processing and translating millions of reviews from multiple languages is a resource-intensive task. It would not only require significant computational power, but also additional layers of advanced error checking to ensure accuracy;\n",
    "\n",
    "3. Sentiment analysis algorithms often perform best when trained in a specific language due to linguistic and cultural nuances. By focusing only on English reviews, the analysis will be more reliable and accurate, as it avoids the complexities and potential inaccuracies of machine translation;\n",
    "\n",
    "4. The English review dataset comprises nearly 50% of all entries in the `language` column, providing a substantial and representative sample size. This large portion of data helps ensure that the analysis results offer a reliable reflection of overall user sentiments."
   ]
  },
  {
   "cell_type": "code",
   "execution_count": 45,
   "id": "6d414f85-8a41-4bbd-929c-33d862c4ab50",
   "metadata": {
    "tags": []
   },
   "outputs": [
    {
     "data": {
      "text/html": [
       "<div>\n",
       "<style scoped>\n",
       "    .dataframe tbody tr th:only-of-type {\n",
       "        vertical-align: middle;\n",
       "    }\n",
       "\n",
       "    .dataframe tbody tr th {\n",
       "        vertical-align: top;\n",
       "    }\n",
       "\n",
       "    .dataframe thead th {\n",
       "        text-align: right;\n",
       "    }\n",
       "</style>\n",
       "<table border=\"1\" class=\"dataframe\">\n",
       "  <thead>\n",
       "    <tr style=\"text-align: right;\">\n",
       "      <th></th>\n",
       "      <th>review</th>\n",
       "      <th>recommended</th>\n",
       "      <th>votes_helpful</th>\n",
       "    </tr>\n",
       "  </thead>\n",
       "  <tbody>\n",
       "    <tr>\n",
       "      <th>3</th>\n",
       "      <td>One of the best RPG's of all time, worthy of a...</td>\n",
       "      <td>True</td>\n",
       "      <td>0</td>\n",
       "    </tr>\n",
       "    <tr>\n",
       "      <th>5</th>\n",
       "      <td>good story, good graphics. lots to do.</td>\n",
       "      <td>True</td>\n",
       "      <td>0</td>\n",
       "    </tr>\n",
       "    <tr>\n",
       "      <th>6</th>\n",
       "      <td>dis gud,</td>\n",
       "      <td>True</td>\n",
       "      <td>0</td>\n",
       "    </tr>\n",
       "    <tr>\n",
       "      <th>18</th>\n",
       "      <td>favorite game of all time cant wait for the Ne...</td>\n",
       "      <td>True</td>\n",
       "      <td>0</td>\n",
       "    </tr>\n",
       "    <tr>\n",
       "      <th>20</th>\n",
       "      <td>Why wouldn't you get this</td>\n",
       "      <td>True</td>\n",
       "      <td>0</td>\n",
       "    </tr>\n",
       "    <tr>\n",
       "      <th>...</th>\n",
       "      <td>...</td>\n",
       "      <td>...</td>\n",
       "      <td>...</td>\n",
       "    </tr>\n",
       "    <tr>\n",
       "      <th>21747369</th>\n",
       "      <td>best game ever\\n</td>\n",
       "      <td>True</td>\n",
       "      <td>0</td>\n",
       "    </tr>\n",
       "    <tr>\n",
       "      <th>21747371</th>\n",
       "      <td>Holy balls</td>\n",
       "      <td>True</td>\n",
       "      <td>0</td>\n",
       "    </tr>\n",
       "    <tr>\n",
       "      <th>21747372</th>\n",
       "      <td>A tripod thing bears down on you, it looks imm...</td>\n",
       "      <td>True</td>\n",
       "      <td>0</td>\n",
       "    </tr>\n",
       "    <tr>\n",
       "      <th>21747373</th>\n",
       "      <td>Honestly this is the best vr game ever</td>\n",
       "      <td>True</td>\n",
       "      <td>0</td>\n",
       "    </tr>\n",
       "    <tr>\n",
       "      <th>21747374</th>\n",
       "      <td>Smooth turning is not working right now.\\nIt a...</td>\n",
       "      <td>True</td>\n",
       "      <td>0</td>\n",
       "    </tr>\n",
       "  </tbody>\n",
       "</table>\n",
       "<p>9606838 rows × 3 columns</p>\n",
       "</div>"
      ],
      "text/plain": [
       "                                                     review  recommended  \\\n",
       "3         One of the best RPG's of all time, worthy of a...         True   \n",
       "5                    good story, good graphics. lots to do.         True   \n",
       "6                                                  dis gud,         True   \n",
       "18        favorite game of all time cant wait for the Ne...         True   \n",
       "20                                Why wouldn't you get this         True   \n",
       "...                                                     ...          ...   \n",
       "21747369                                   best game ever\\n         True   \n",
       "21747371                                         Holy balls         True   \n",
       "21747372  A tripod thing bears down on you, it looks imm...         True   \n",
       "21747373             Honestly this is the best vr game ever         True   \n",
       "21747374  Smooth turning is not working right now.\\nIt a...         True   \n",
       "\n",
       "          votes_helpful  \n",
       "3                     0  \n",
       "5                     0  \n",
       "6                     0  \n",
       "18                    0  \n",
       "20                    0  \n",
       "...                 ...  \n",
       "21747369              0  \n",
       "21747371              0  \n",
       "21747372              0  \n",
       "21747373              0  \n",
       "21747374              0  \n",
       "\n",
       "[9606838 rows x 3 columns]"
      ]
     },
     "execution_count": 45,
     "metadata": {},
     "output_type": "execute_result"
    }
   ],
   "source": [
    "# Only consider specific column for this analysis\n",
    "english_reviews = df[[\"review\", \"recommended\", \"votes_helpful\"]].loc[df[\"language\"] == \"english\"]\n",
    "english_reviews"
   ]
  },
  {
   "cell_type": "markdown",
   "id": "1f9e56d6-ae38-404a-af07-64adefdd81b3",
   "metadata": {},
   "source": [
    "## VADER Lexicon for Sentiment Analysis\n",
    "\n",
    "VADER (Valence Aware Dictionary and sEntiment Reasoner) is a sentiment analysis tool designed for analyzing social media text and short user-generated content. By downloading the VADER lexicon using `nltk.download('vader_lexicon')`, users can access a pre-built dictionary that provides sentiment scores for words, allowing for efficient sentiment analysis of text data through the Natural Language Toolkit (NLTK) library."
   ]
  },
  {
   "cell_type": "code",
   "execution_count": 46,
   "id": "a0eec7c2-b880-4507-ae42-af57149352da",
   "metadata": {},
   "outputs": [
    {
     "name": "stderr",
     "output_type": "stream",
     "text": [
      "[nltk_data] Downloading package vader_lexicon to\n",
      "[nltk_data]     C:\\Users\\flavi\\AppData\\Roaming\\nltk_data...\n",
      "[nltk_data]   Package vader_lexicon is already up-to-date!\n"
     ]
    },
    {
     "data": {
      "text/plain": [
       "True"
      ]
     },
     "execution_count": 46,
     "metadata": {},
     "output_type": "execute_result"
    }
   ],
   "source": [
    "nltk.download('vader_lexicon')"
   ]
  },
  {
   "cell_type": "code",
   "execution_count": 47,
   "id": "c8140532-8efb-4bf6-aca2-dd43adf78675",
   "metadata": {},
   "outputs": [],
   "source": [
    "from nltk.sentiment.vader import SentimentIntensityAnalyzer\n",
    "\n",
    "# Create an instance of SentimentIntensityAnalyzer\n",
    "text_analyzer = SentimentIntensityAnalyzer()\n",
    "\n",
    "# Define a function to analyze the sentiment of a given text\n",
    "def get_sentiment(text):\n",
    "    # Use the analyzer to get the polarity scores of the input text\n",
    "    # The 'compound' score represents the overall sentiment, ranging from -1 (negative) to 1 (positive)\n",
    "    score = text_analyzer.polarity_scores(text)['compound']\n",
    "    \n",
    "    # Return the compound sentiment score\n",
    "    return score"
   ]
  },
  {
   "cell_type": "markdown",
   "id": "dced3c04-6877-4af1-9ace-7aff85d028fe",
   "metadata": {},
   "source": [
    "# Swifter Library Overview\n",
    "\n",
    "The **Swifter** library in Python is used to optimize to makes data processing in pandas DataFrames faster and more efficient, especially for functions that require complex processing on large datasets.\n",
    "\n",
    "## Main function:\n",
    "\n",
    "- **Parallelization:** The library allows you to apply the get_sentiment function to each element of the review column in parallel, using multiple CPU cores. This results in a significant reduction in execution time compared to using the pandas apply() function alone.\n",
    "\n"
   ]
  },
  {
   "cell_type": "code",
   "execution_count": 48,
   "id": "a9f803ae-e808-4e84-897e-4902cf8fcb79",
   "metadata": {},
   "outputs": [
    {
     "data": {
      "application/vnd.jupyter.widget-view+json": {
       "model_id": "b8784b258b3a48baa7e29bf26a13262c",
       "version_major": 2,
       "version_minor": 0
      },
      "text/plain": [
       "Pandas Apply:   0%|          | 0/9606838 [00:00<?, ?it/s]"
      ]
     },
     "metadata": {},
     "output_type": "display_data"
    },
    {
     "data": {
      "text/plain": [
       "3     0.7964\n",
       "5     0.7003\n",
       "6     0.0000\n",
       "18    0.4588\n",
       "20    0.0000\n",
       "Name: sentiment, dtype: float64"
      ]
     },
     "execution_count": 48,
     "metadata": {},
     "output_type": "execute_result"
    }
   ],
   "source": [
    "english_reviews['sentiment'] = english_reviews['review'].swifter.apply(get_sentiment)\n",
    "english_reviews['sentiment'].head()"
   ]
  },
  {
   "cell_type": "code",
   "execution_count": 49,
   "id": "2df1716e-01ca-4e33-884b-3817f1dbc1d2",
   "metadata": {
    "tags": []
   },
   "outputs": [
    {
     "data": {
      "text/plain": [
       "count    9.606838e+06\n",
       "mean     3.850793e-01\n",
       "std      5.012389e-01\n",
       "min     -1.000000e+00\n",
       "25%      0.000000e+00\n",
       "50%      5.095000e-01\n",
       "75%      8.020000e-01\n",
       "max      1.000000e+00\n",
       "Name: sentiment, dtype: float64"
      ]
     },
     "execution_count": 49,
     "metadata": {},
     "output_type": "execute_result"
    }
   ],
   "source": [
    "english_reviews['sentiment'].describe()"
   ]
  },
  {
   "cell_type": "markdown",
   "id": "8968e789-2e34-4d4a-a7ff-8092f4d8a7f0",
   "metadata": {},
   "source": [
    "## Classify the scores as positive, negative, or neutral"
   ]
  },
  {
   "cell_type": "code",
   "execution_count": 50,
   "id": "78251279-0528-45f8-a64b-7e8a44b25823",
   "metadata": {},
   "outputs": [
    {
     "data": {
      "text/plain": [
       "sentiment_names\n",
       "positive    6700339\n",
       "neutral     1478270\n",
       "negative    1428229\n",
       "Name: count, dtype: int64"
      ]
     },
     "execution_count": 50,
     "metadata": {},
     "output_type": "execute_result"
    }
   ],
   "source": [
    "english_reviews['sentiment_names'] = np.where(english_reviews['sentiment'] < 0, 'negative', np.where(english_reviews['sentiment'] == 0, 'neutral', 'positive'))\n",
    "\n",
    "# count the values for eache sentiment group\n",
    "english_reviews['sentiment_names'].value_counts()"
   ]
  },
  {
   "cell_type": "markdown",
   "id": "004014c1-287f-4161-b136-4d1f9f309cab",
   "metadata": {},
   "source": [
    "## Example of reviews with **positive** sentiment"
   ]
  },
  {
   "cell_type": "code",
   "execution_count": 51,
   "id": "653c0017-a235-4725-a542-d3a6b31225ec",
   "metadata": {},
   "outputs": [
    {
     "name": "stdout",
     "output_type": "stream",
     "text": [
      "1. Review: One of the best RPG's of all time, worthy of any collection\n",
      "2. Review: good story, good graphics. lots to do.\n",
      "3. Review: favorite game of all time cant wait for the NexGen Versiion\n",
      "4. Review: it is ok\n",
      "\n",
      "5. Review: worth\n",
      "\n"
     ]
    }
   ],
   "source": [
    "for i, review in enumerate(english_reviews[\"review\"][english_reviews['sentiment_names'] == \"positive\"][:5], start=1):\n",
    "    print(f\"{i}. Review: {review}\")"
   ]
  },
  {
   "cell_type": "markdown",
   "id": "d0353eaa-8d8b-4e60-abd8-5d4e51f75ba9",
   "metadata": {
    "tags": []
   },
   "source": [
    "## Example of reviews with **neutral** sentiment"
   ]
  },
  {
   "cell_type": "code",
   "execution_count": 52,
   "id": "66786953-5a0f-4637-b460-b1cecd6c9462",
   "metadata": {},
   "outputs": [
    {
     "name": "stdout",
     "output_type": "stream",
     "text": [
      "1. Review: dis gud,\n",
      "2. Review: Why wouldn't you get this\n",
      "3. Review: Isn't Geralt hot enough to get both Yennefer and Triss ? I guess I watched too much harem anime...\n",
      "4. Review: The only thing bigger than the world map is ur mom\n",
      "5. Review: .\n"
     ]
    }
   ],
   "source": [
    "for i, review in enumerate(english_reviews[\"review\"][english_reviews['sentiment_names'] == \"neutral\"][:5], start=1):\n",
    "    print(f\"{i}. Review: {review}\")"
   ]
  },
  {
   "cell_type": "markdown",
   "id": "c2107c13-5c41-4562-9617-6807f5421e90",
   "metadata": {},
   "source": [
    "## Example of reviews with **negative** sentiment"
   ]
  },
  {
   "cell_type": "code",
   "execution_count": 53,
   "id": "65516775-b29d-4da9-95a2-8ea115162778",
   "metadata": {},
   "outputs": [
    {
     "name": "stdout",
     "output_type": "stream",
     "text": [
      "1. Review: The game is enjoyable enough but...\n",
      "-Combat has plenty of options but the game will play for you at times, takes away from player achievements.\n",
      "-The Story is good so far but so much of it, listening to every nagging thought is getting old fast.\n",
      "-The swords and armor having a level is retarded, how is it that this legendary warrior cannot use the same sword of the 8 guys he just killed. This feature is killing the game for me.\n",
      "-The repairs and crafting I hate, its not my thing. never is.\n",
      "2. Review: They certainly dumbed down the series since the last release. Sure it raked in a larger audience but it sacrificed what is was previously in the process, which was once well written and unique instead became copy-paste and bland. The game completely omits that Triss did nothing but screw Geralt over with everything she's done involving for the Sorceresses Lodge, most likely just to have her as a romance option. This isn't the only thing it omits either.\n",
      "\n",
      "Nothing says player hand holding like Geralt's *detective vision* removing any player involvement in questing, and Geralt's permanent monologuing to ensure the player knows what they're seeing scene to scene on the rollercoaster. Most quests will follow the same formula of: Talk to person > get told to go somewhere > while at somewhere, learn the person you talked to first is morally dubious > but so is the new person you meet in the quest > get money from either person and move on to next quest.\n",
      "\n",
      "The combat isn't as good as the predecessor, there's very little thought put into it, which isn't really Witcher-like. Unsure how many variants of \"x time of day\" wraith there really are, but they're overused in this. \n",
      "\n",
      "Gwent was a good minigame, and the minigame shouldn't be more enjoyable than the actual game. Unfortunately, Gwent was also poorly balanced. Fixed by the spin off expansion of Gwent that you can play instead with more balance, but more child friendly too, because swearing is bad.\n",
      "\n",
      "All in all it's a shame, they had some fantastic ideas in the game that were ruined by trying to dumb everything else down as much as possible. It's also a great and interesting world. The gameplay is dull and generic. Quite the \"meh\" experience, for what could have been so much more.\n",
      "3. Review: terribly bugs, keeps kicking me out to home screen, takes many tries to get it to stay up.\n",
      "4. Review: The Raven says you should of already beaten this ... Thrice\n",
      "5. Review: Pretty decent, kinda boring sometimes, didnt really care for the combat personally or the weapons system.\n"
     ]
    }
   ],
   "source": [
    "for i, review in enumerate(english_reviews[\"review\"][english_reviews['sentiment_names'] == \"negative\"][:5], start=1):\n",
    "    print(f\"{i}. Review: {review}\")"
   ]
  },
  {
   "cell_type": "code",
   "execution_count": 54,
   "id": "f6d3d9df-51c4-46b3-b281-a38f4849f18f",
   "metadata": {},
   "outputs": [],
   "source": [
    "total= sum(english_reviews['sentiment'].value_counts())"
   ]
  },
  {
   "cell_type": "code",
   "execution_count": 55,
   "id": "3daddb2c-9938-43a3-ad06-383016ed2b3d",
   "metadata": {},
   "outputs": [
    {
     "name": "stdout",
     "output_type": "stream",
     "text": [
      "The Positive percent is 69.75% Neutral percent is 15.39% Negative percent is 14.87%\n"
     ]
    }
   ],
   "source": [
    "# Calculate the percentage of each group\n",
    "Positive_percent=english_reviews['sentiment_names'].value_counts()[0]/total * 100\n",
    "Neutral_percent= english_reviews['sentiment_names'].value_counts()[1]/total * 100\n",
    "Negative_percent= english_reviews['sentiment_names'].value_counts()[2]/total * 100\n",
    "\n",
    "print(f\"The Positive percent is {str(round(Positive_percent,2))}% \"\n",
    "     f\"Neutral percent is {str(round(Neutral_percent,2))}% \"\n",
    "     f\"Negative percent is {str(round(Negative_percent,2))}%\")"
   ]
  },
  {
   "cell_type": "markdown",
   "id": "62f2f032-f4fd-4657-bc09-e52275daa4f8",
   "metadata": {},
   "source": [
    "## Plot a histogram of **Sentiment** distribution"
   ]
  },
  {
   "cell_type": "code",
   "execution_count": 56,
   "id": "a060f4f9-4cb1-4912-b37d-09b9822088b8",
   "metadata": {},
   "outputs": [
    {
     "data": {
      "image/png": "[encoded data removed]",
      "text/plain": [
       "<Figure size 640x480 with 1 Axes>"
      ]
     },
     "metadata": {},
     "output_type": "display_data"
    }
   ],
   "source": [
    "plt.hist(english_reviews['sentiment_names'], edgecolor='black')\n",
    "plt.xlabel('Sentiment')\n",
    "plt.ylabel('Number of reviews')\n",
    "plt.title('Reviews sentiment distribution')\n",
    "plt.show()"
   ]
  },
  {
   "cell_type": "markdown",
   "id": "d78601a5-0080-4e59-9487-ad3db6602af0",
   "metadata": {},
   "source": [
    "## Steam game reviews sentiment Analysis\n",
    "\n",
    "The following analysis explores the sentiment distribution of Steam game reviews in **English**, which range from -1.0 (negative) to 1.0 (positive).\n",
    "\n",
    "### Dataset size information and implications\n",
    "\n",
    "- For this analysis we considered almost 10 milion text ☠\n",
    "\n",
    "### Comments of the results\n",
    "\n",
    "- Steam community shows a **strong tendency** toward positive feedback\n",
    "- Only about 14.87% of reviews are negative\n",
    "- The number of neutral reviews is similar to the number of negative reviews\n",
    "\n",
    "### Considerations\n",
    "\n",
    "- Steam users generally provide **positive feedback**, indicating satisfaction with the games reviewed.\n",
    "- Extremely negative reviews are **uncommon**, suggesting that users are either content with their experiences or selective in their critiques.\n",
    "- **Moderate positivity** seems to be the norm rather than extreme opinions, reflecting a balanced perspective among reviewers.\n",
    "- The review system illustrates a **healthy and engaged community**, contributing to the overall success of games on the platform."
   ]
  },
  {
   "cell_type": "markdown",
   "id": "5198329b-7358-4668-b2cb-f1b7dc2bbac6",
   "metadata": {
    "tags": []
   },
   "source": [
    "## Does the sentiment analysis align with whether the application is recommended or not ?"
   ]
  },
  {
   "cell_type": "code",
   "execution_count": 57,
   "id": "b34130bb-b5ef-43cf-bada-1455e67bd3eb",
   "metadata": {
    "tags": []
   },
   "outputs": [
    {
     "data": {
      "text/plain": [
       "sentiment_names  recommended\n",
       "negative         True            896358\n",
       "                 False           531871\n",
       "neutral          True           1340362\n",
       "                 False           137908\n",
       "positive         True           6321899\n",
       "                 False           378440\n",
       "Name: count, dtype: int64"
      ]
     },
     "execution_count": 57,
     "metadata": {},
     "output_type": "execute_result"
    }
   ],
   "source": [
    "# Group by 'sentiment' and count occurrences of 'recommended' values\n",
    "groupby_sentiment = english_reviews.groupby('sentiment_names')['recommended']\n",
    "groupby_sentiment.value_counts()"
   ]
  },
  {
   "cell_type": "code",
   "execution_count": 58,
   "id": "9f8e96da-1543-45c1-802a-be242586b2c9",
   "metadata": {
    "tags": []
   },
   "outputs": [
    {
     "data": {
      "text/html": [
       "<div>\n",
       "<style scoped>\n",
       "    .dataframe tbody tr th:only-of-type {\n",
       "        vertical-align: middle;\n",
       "    }\n",
       "\n",
       "    .dataframe tbody tr th {\n",
       "        vertical-align: top;\n",
       "    }\n",
       "\n",
       "    .dataframe thead th {\n",
       "        text-align: right;\n",
       "    }\n",
       "</style>\n",
       "<table border=\"1\" class=\"dataframe\">\n",
       "  <thead>\n",
       "    <tr style=\"text-align: right;\">\n",
       "      <th></th>\n",
       "      <th>Not Recommended (%)</th>\n",
       "      <th>Recommended (%)</th>\n",
       "    </tr>\n",
       "    <tr>\n",
       "      <th>sentiment_names</th>\n",
       "      <th></th>\n",
       "      <th></th>\n",
       "    </tr>\n",
       "  </thead>\n",
       "  <tbody>\n",
       "    <tr>\n",
       "      <th>negative</th>\n",
       "      <td>37.2</td>\n",
       "      <td>62.8</td>\n",
       "    </tr>\n",
       "    <tr>\n",
       "      <th>neutral</th>\n",
       "      <td>9.3</td>\n",
       "      <td>90.7</td>\n",
       "    </tr>\n",
       "    <tr>\n",
       "      <th>positive</th>\n",
       "      <td>5.6</td>\n",
       "      <td>94.4</td>\n",
       "    </tr>\n",
       "  </tbody>\n",
       "</table>\n",
       "</div>"
      ],
      "text/plain": [
       "                 Not Recommended (%)  Recommended (%)\n",
       "sentiment_names                                      \n",
       "negative                        37.2             62.8\n",
       "neutral                          9.3             90.7\n",
       "positive                         5.6             94.4"
      ]
     },
     "execution_count": 58,
     "metadata": {},
     "output_type": "execute_result"
    }
   ],
   "source": [
    "# Calculate the percentages\n",
    "groupby_sentiment_percent=groupby_sentiment.value_counts(normalize=True).unstack() * 100\n",
    "# Rename columns for clarity\n",
    "groupby_sentiment_percent.columns = ['Not Recommended (%)', 'Recommended (%)']\n",
    "groupby_sentiment_percent = groupby_sentiment_percent.round(1)\n",
    "\n",
    "groupby_sentiment_percent"
   ]
  },
  {
   "cell_type": "code",
   "execution_count": 59,
   "id": "c00353d8-b0e4-48ef-8a3b-1be62245dca5",
   "metadata": {
    "tags": []
   },
   "outputs": [
    {
     "data": {
      "text/html": [
       "<div>\n",
       "<style scoped>\n",
       "    .dataframe tbody tr th:only-of-type {\n",
       "        vertical-align: middle;\n",
       "    }\n",
       "\n",
       "    .dataframe tbody tr th {\n",
       "        vertical-align: top;\n",
       "    }\n",
       "\n",
       "    .dataframe thead th {\n",
       "        text-align: right;\n",
       "    }\n",
       "</style>\n",
       "<table border=\"1\" class=\"dataframe\">\n",
       "  <thead>\n",
       "    <tr style=\"text-align: right;\">\n",
       "      <th></th>\n",
       "      <th>Not Recommended</th>\n",
       "      <th>Recommended</th>\n",
       "    </tr>\n",
       "    <tr>\n",
       "      <th>sentiment_names</th>\n",
       "      <th></th>\n",
       "      <th></th>\n",
       "    </tr>\n",
       "  </thead>\n",
       "  <tbody>\n",
       "    <tr>\n",
       "      <th>negative</th>\n",
       "      <td>531871</td>\n",
       "      <td>896358</td>\n",
       "    </tr>\n",
       "    <tr>\n",
       "      <th>neutral</th>\n",
       "      <td>137908</td>\n",
       "      <td>1340362</td>\n",
       "    </tr>\n",
       "    <tr>\n",
       "      <th>positive</th>\n",
       "      <td>378440</td>\n",
       "      <td>6321899</td>\n",
       "    </tr>\n",
       "  </tbody>\n",
       "</table>\n",
       "</div>"
      ],
      "text/plain": [
       "                 Not Recommended  Recommended\n",
       "sentiment_names                              \n",
       "negative                  531871       896358\n",
       "neutral                   137908      1340362\n",
       "positive                  378440      6321899"
      ]
     },
     "execution_count": 59,
     "metadata": {},
     "output_type": "execute_result"
    }
   ],
   "source": [
    "groupby_sentiment = groupby_sentiment.value_counts().unstack()\n",
    "# Rename columns for clarity\n",
    "groupby_sentiment.columns = ['Not Recommended', 'Recommended']\n",
    "\n",
    "# Show new table:\n",
    "groupby_sentiment"
   ]
  },
  {
   "cell_type": "code",
   "execution_count": 60,
   "id": "5e9a02ea-4002-4b90-be32-1579f7404cb2",
   "metadata": {
    "tags": []
   },
   "outputs": [
    {
     "data": {
      "text/html": [
       "<div>\n",
       "<style scoped>\n",
       "    .dataframe tbody tr th:only-of-type {\n",
       "        vertical-align: middle;\n",
       "    }\n",
       "\n",
       "    .dataframe tbody tr th {\n",
       "        vertical-align: top;\n",
       "    }\n",
       "\n",
       "    .dataframe thead th {\n",
       "        text-align: right;\n",
       "    }\n",
       "</style>\n",
       "<table border=\"1\" class=\"dataframe\">\n",
       "  <thead>\n",
       "    <tr style=\"text-align: right;\">\n",
       "      <th></th>\n",
       "      <th>sentiment_names</th>\n",
       "      <th>Recommendation status</th>\n",
       "      <th>Value_counts</th>\n",
       "    </tr>\n",
       "  </thead>\n",
       "  <tbody>\n",
       "    <tr>\n",
       "      <th>0</th>\n",
       "      <td>negative</td>\n",
       "      <td>Not Recommended</td>\n",
       "      <td>531871</td>\n",
       "    </tr>\n",
       "    <tr>\n",
       "      <th>1</th>\n",
       "      <td>neutral</td>\n",
       "      <td>Not Recommended</td>\n",
       "      <td>137908</td>\n",
       "    </tr>\n",
       "    <tr>\n",
       "      <th>2</th>\n",
       "      <td>positive</td>\n",
       "      <td>Not Recommended</td>\n",
       "      <td>378440</td>\n",
       "    </tr>\n",
       "    <tr>\n",
       "      <th>3</th>\n",
       "      <td>negative</td>\n",
       "      <td>Recommended</td>\n",
       "      <td>896358</td>\n",
       "    </tr>\n",
       "    <tr>\n",
       "      <th>4</th>\n",
       "      <td>neutral</td>\n",
       "      <td>Recommended</td>\n",
       "      <td>1340362</td>\n",
       "    </tr>\n",
       "    <tr>\n",
       "      <th>5</th>\n",
       "      <td>positive</td>\n",
       "      <td>Recommended</td>\n",
       "      <td>6321899</td>\n",
       "    </tr>\n",
       "  </tbody>\n",
       "</table>\n",
       "</div>"
      ],
      "text/plain": [
       "  sentiment_names Recommendation status  Value_counts\n",
       "0        negative       Not Recommended        531871\n",
       "1         neutral       Not Recommended        137908\n",
       "2        positive       Not Recommended        378440\n",
       "3        negative           Recommended        896358\n",
       "4         neutral           Recommended       1340362\n",
       "5        positive           Recommended       6321899"
      ]
     },
     "execution_count": 60,
     "metadata": {},
     "output_type": "execute_result"
    }
   ],
   "source": [
    "# Melting the groupby_sentiment dataFrame to transform it from wide format to long format.\n",
    "# This is useful for visualizing data with libraries like Seaborn or Matplotlib.\n",
    "groupby_sentiment_melted = pd.melt(groupby_sentiment.reset_index(), id_vars='sentiment_names', value_vars=['Not Recommended', 'Recommended'],var_name='Recommendation status',  value_name='Value_counts')\n",
    "#show the data in long format:\n",
    "groupby_sentiment_melted"
   ]
  },
  {
   "cell_type": "code",
   "execution_count": 61,
   "id": "7e1ac0d2-8bf3-4846-a276-025b5ffd9255",
   "metadata": {
    "tags": []
   },
   "outputs": [
    {
     "data": {
      "image/png": "[encoded data removed]",
      "text/plain": [
       "<Figure size 1000x600 with 1 Axes>"
      ]
     },
     "metadata": {},
     "output_type": "display_data"
    }
   ],
   "source": [
    "# Plot the graph \n",
    "plt.figure(figsize=(10,6))\n",
    "sns.barplot(data=groupby_sentiment_melted, x='sentiment_names', y='Value_counts', hue='Recommendation status', palette=\"husl\",edgecolor=\"black\")\n",
    "plt.title('Recommendations by sentiment',fontsize=12,weight=\"bold\")\n",
    "plt.xlabel('Sentiment',fontsize=10)\n",
    "plt.ylabel('Number of Reviews',fontsize=10)\n",
    "plt.legend(title='Recommendation Status :',fontsize=12)\n",
    "plt.grid(alpha=0.3)\n",
    "plt.tight_layout()  \n",
    "plt.show()"
   ]
  },
  {
   "cell_type": "markdown",
   "id": "b544652b-afd8-4483-9e81-898d400719c5",
   "metadata": {},
   "source": [
    "## Observations from the grouped bar chart\n",
    "\n",
    "Looking at the clustered bar chart showing \"Recommendations by Sentiment\", we can make several observations:\n",
    "\n",
    "### 1. Strong Positive Alignment\n",
    "- There is a very strong correlation between positive sentiment and recommendations.\n",
    "- The number of recommended reviews with positive sentiment (teal bar) is significantly higher (~6 million) than non-recommended reviews (pink bar).\n",
    "- This suggests that users who recommend the app generally express positive sentiment in their reviews.\n",
    "\n",
    "### 2. Neutral Reviews\n",
    "- For neutral sentiment, there is still a preference for recommending the app.\n",
    "- The ratio shows more recommendations than non-recommendations, although the overall numbers are lower than positive reviews.\n",
    "- This suggests that neutral reviewers also tend to take other factors into account beyond this.\n",
    "\n",
    "### 3. Negative Reviews\n",
    "- For negative sentiment, the gap between recommended and non-recommended is smaller. -\n",
    "- There is still a slight bias towards recommendations even in negative reviews.\n",
    "- This is interesting because it highlights that some users may criticize aspects of the game but still recommend it. This duality suggests that users are able to distinguish between specific features or experiences that they feel are lacking and the overall value of the game. It implies that despite some criticism, they recognize the game's strengths, such as enjoyable gameplay mechanics, engaging storylines, or other aspects that enhance their experience. This phenomenon indicates a deeper level of engagement, where users are not simply looking for perfection, but are willing to recommend the game based on its overall contribution to their enjoyment or satisfaction.\n",
    "\n",
    "## Insights\n",
    "\n",
    "Based on these observations, we can conclude that:\n",
    "\n",
    "1. There is a clear correlation between positive sentiment and likelihood to recommend.\n",
    "2. Even neutral and negative reviews tend to lean towards recommendations, suggesting that the app has fundamental value despite criticism.\n",
    "3. The vast majority of reviews are positive and recommended, which indicates overall user satisfaction.\n",
    "4. The relatively small number of non-recommended reviews across the board suggests that the app generally meets user expectations.\n",
    "\n"
   ]
  },
  {
   "cell_type": "markdown",
   "id": "a2c7dd6c-deff-4ded-83b0-cfd7bddb7843",
   "metadata": {},
   "source": [
    "## Correlation between the sentiment of a review and the number of helpfulness votes it receives"
   ]
  },
  {
   "cell_type": "code",
   "execution_count": 62,
   "id": "d2407b3a-28f6-4bf5-9f06-f76bb4b6abf2",
   "metadata": {
    "tags": []
   },
   "outputs": [
    {
     "data": {
      "text/html": [
       "<div>\n",
       "<style scoped>\n",
       "    .dataframe tbody tr th:only-of-type {\n",
       "        vertical-align: middle;\n",
       "    }\n",
       "\n",
       "    .dataframe tbody tr th {\n",
       "        vertical-align: top;\n",
       "    }\n",
       "\n",
       "    .dataframe thead th {\n",
       "        text-align: right;\n",
       "    }\n",
       "</style>\n",
       "<table border=\"1\" class=\"dataframe\">\n",
       "  <thead>\n",
       "    <tr style=\"text-align: right;\">\n",
       "      <th></th>\n",
       "      <th>sentiment</th>\n",
       "      <th>votes_helpful</th>\n",
       "      <th>sentiment_names</th>\n",
       "    </tr>\n",
       "  </thead>\n",
       "  <tbody>\n",
       "    <tr>\n",
       "      <th>3</th>\n",
       "      <td>0.7964</td>\n",
       "      <td>0</td>\n",
       "      <td>positive</td>\n",
       "    </tr>\n",
       "    <tr>\n",
       "      <th>5</th>\n",
       "      <td>0.7003</td>\n",
       "      <td>0</td>\n",
       "      <td>positive</td>\n",
       "    </tr>\n",
       "    <tr>\n",
       "      <th>6</th>\n",
       "      <td>0.0000</td>\n",
       "      <td>0</td>\n",
       "      <td>neutral</td>\n",
       "    </tr>\n",
       "    <tr>\n",
       "      <th>18</th>\n",
       "      <td>0.4588</td>\n",
       "      <td>0</td>\n",
       "      <td>positive</td>\n",
       "    </tr>\n",
       "    <tr>\n",
       "      <th>20</th>\n",
       "      <td>0.0000</td>\n",
       "      <td>0</td>\n",
       "      <td>neutral</td>\n",
       "    </tr>\n",
       "    <tr>\n",
       "      <th>...</th>\n",
       "      <td>...</td>\n",
       "      <td>...</td>\n",
       "      <td>...</td>\n",
       "    </tr>\n",
       "    <tr>\n",
       "      <th>21747369</th>\n",
       "      <td>0.6369</td>\n",
       "      <td>0</td>\n",
       "      <td>positive</td>\n",
       "    </tr>\n",
       "    <tr>\n",
       "      <th>21747371</th>\n",
       "      <td>0.0000</td>\n",
       "      <td>0</td>\n",
       "      <td>neutral</td>\n",
       "    </tr>\n",
       "    <tr>\n",
       "      <th>21747372</th>\n",
       "      <td>0.8074</td>\n",
       "      <td>0</td>\n",
       "      <td>positive</td>\n",
       "    </tr>\n",
       "    <tr>\n",
       "      <th>21747373</th>\n",
       "      <td>0.8020</td>\n",
       "      <td>0</td>\n",
       "      <td>positive</td>\n",
       "    </tr>\n",
       "    <tr>\n",
       "      <th>21747374</th>\n",
       "      <td>0.4850</td>\n",
       "      <td>0</td>\n",
       "      <td>positive</td>\n",
       "    </tr>\n",
       "  </tbody>\n",
       "</table>\n",
       "<p>9606838 rows × 3 columns</p>\n",
       "</div>"
      ],
      "text/plain": [
       "          sentiment  votes_helpful sentiment_names\n",
       "3            0.7964              0        positive\n",
       "5            0.7003              0        positive\n",
       "6            0.0000              0         neutral\n",
       "18           0.4588              0        positive\n",
       "20           0.0000              0         neutral\n",
       "...             ...            ...             ...\n",
       "21747369     0.6369              0        positive\n",
       "21747371     0.0000              0         neutral\n",
       "21747372     0.8074              0        positive\n",
       "21747373     0.8020              0        positive\n",
       "21747374     0.4850              0        positive\n",
       "\n",
       "[9606838 rows x 3 columns]"
      ]
     },
     "execution_count": 62,
     "metadata": {},
     "output_type": "execute_result"
    }
   ],
   "source": [
    "vote_sentiment=english_reviews[['sentiment', 'votes_helpful','sentiment_names']]\n",
    "vote_sentiment"
   ]
  },
  {
   "cell_type": "code",
   "execution_count": 63,
   "id": "a28fb068-fe40-4c06-a2d8-6bb5ce047941",
   "metadata": {
    "tags": []
   },
   "outputs": [
    {
     "data": {
      "text/plain": [
       "sentiment_names\n",
       "positive    11222225\n",
       "negative     5573497\n",
       "neutral      1854903\n",
       "Name: votes_helpful, dtype: int32"
      ]
     },
     "execution_count": 63,
     "metadata": {},
     "output_type": "execute_result"
    }
   ],
   "source": [
    "# Count the number of votes based on the sentiment of the review (Positive, Negative,Neutral)\n",
    "\n",
    "vote_sentiment.groupby('sentiment_names')['votes_helpful'].sum().sort_values(ascending=False)"
   ]
  },
  {
   "cell_type": "code",
   "execution_count": 64,
   "id": "4323e51a-3673-4dd8-b428-fdab9ba839a9",
   "metadata": {
    "tags": []
   },
   "outputs": [
    {
     "data": {
      "text/html": [
       "<div>\n",
       "<style scoped>\n",
       "    .dataframe tbody tr th:only-of-type {\n",
       "        vertical-align: middle;\n",
       "    }\n",
       "\n",
       "    .dataframe tbody tr th {\n",
       "        vertical-align: top;\n",
       "    }\n",
       "\n",
       "    .dataframe thead th {\n",
       "        text-align: right;\n",
       "    }\n",
       "</style>\n",
       "<table border=\"1\" class=\"dataframe\">\n",
       "  <thead>\n",
       "    <tr style=\"text-align: right;\">\n",
       "      <th></th>\n",
       "      <th>sentiment</th>\n",
       "      <th>votes_helpful</th>\n",
       "    </tr>\n",
       "  </thead>\n",
       "  <tbody>\n",
       "    <tr>\n",
       "      <th>sentiment</th>\n",
       "      <td>1.000000</td>\n",
       "      <td>-0.011093</td>\n",
       "    </tr>\n",
       "    <tr>\n",
       "      <th>votes_helpful</th>\n",
       "      <td>-0.011093</td>\n",
       "      <td>1.000000</td>\n",
       "    </tr>\n",
       "  </tbody>\n",
       "</table>\n",
       "</div>"
      ],
      "text/plain": [
       "               sentiment  votes_helpful\n",
       "sentiment       1.000000      -0.011093\n",
       "votes_helpful  -0.011093       1.000000"
      ]
     },
     "execution_count": 64,
     "metadata": {},
     "output_type": "execute_result"
    }
   ],
   "source": [
    "# show the correlation between sentiment and votes_helpful column\n",
    "\n",
    "vote_sentiment[['sentiment', 'votes_helpful']].corr()"
   ]
  },
  {
   "cell_type": "markdown",
   "id": "8c6307c7-05c7-486f-adf3-229f337dd7c7",
   "metadata": {
    "jp-MarkdownHeadingCollapsed": true,
    "tags": []
   },
   "source": [
    "## Review sentiment and analysis of the results and discuss potential trends\n",
    "\n",
    "According to the results, there is no significant correlation between the sentiment of a review and the number of helpfulness votes it receives. However, it is noteworthy that reviews with positive sentiment receive significantly more votes overall than negative and neutral reviews. This suggests that:\n",
    "\n",
    "- Users rate the helpfulness of a review independently of its sentiment.\n",
    "- Positive reviews receive **11,222,225 votes**, indicating high engagement and support among users for that type of review.\n",
    "- Negative reviews receive **5,573,497 votes**, while neutral reviews receive **1,854,903 votes**, confirming that neutral reviews are not voted because they fail to provide enough information about the player's gaming experience as negative and positive reviews do.\n",
    "\n",
    "### Implications\n",
    "- Although there is a high volume of helpfulness votes for positive reviews, the lack of significant correlation indicates that users may still evaluate reviews based on criteria beyond sentiment, such as:\n",
    "- Quality of writing ;\n",
    "- Detail of analysis ;\n",
    "- Clarity and structure of the review.\n",
    "\n",
    "Users appear to evaluate the helpfulness of a review more objectively, as the positive or negative tone does not significantly influence its perceived helpfulness beyond the number of votes it receives.\n",
    "\n",
    "\n"
   ]
  },
  {
   "cell_type": "markdown",
   "id": "e15a5b22-4a82-40ba-a5f1-432d768affe9",
   "metadata": {},
   "source": [
    "# **Algorithm question**"
   ]
  },
  {
   "cell_type": "markdown",
   "id": "0c690e9f-0973-48ae-b031-6960237414c5",
   "metadata": {},
   "source": [
    "## Informat about the Algorithm\n",
    "\n",
    "You are given two positive integers, ( n ) (where 1 ≤ n ≤ 10^9) and  k (where q ≤ k ≤ 100).Your task is to express n as the sum of k positive integers, all having the same parity (i.e., all have the same remainder when divided by 2, meaning they are either all even or all odd). In other words, find a₁, a₂, ..., aₖ , each aᵢ > 0, such that n = a₁ + a₂ + ... + aₖ, and all aᵢ simultaneously are either even or odd. If it's impossible to represent n in this way, report that no such representation exists.\n",
    "\n",
    "- ## Input\n",
    "In the first input line, you will receive a number t (where 1 ≤ t ≤ 100), representing the number of test cases. The following t lines will contain two values, n and k, corresponding to each test case.\n",
    "\n",
    "- ## Output\n",
    "For each test case, if it is possible to represent n as the sum of k positive integers, all of the same parity (either all even or all odd), print YES and provide the corresponding values of aᵢ in the next line. If there are multiple valid solutions, you can print any of them. If such a representation is not possible for a given test case, print NO."
   ]
  },
  {
   "cell_type": "markdown",
   "id": "04981001-25bc-40bc-96f8-7686034ee070",
   "metadata": {},
   "source": [
    "# Possible solution: "
   ]
  },
  {
   "cell_type": "code",
   "execution_count": 65,
   "id": "e833c162-2858-4c30-81e8-72476e2aa5a1",
   "metadata": {
    "tags": []
   },
   "outputs": [],
   "source": [
    "def find_sum_combinations(n, k):\n",
    "    # Initialize arrays for both possibilities: odd and even numbers\n",
    "    odd_sums = [1] * k   # Array of k ones (odd numbers)\n",
    "    even_sums = [2] * k  # Array of k twos (even numbers)\n",
    "    \n",
    "    # Try to find a solution with odd numbers\n",
    "    # Check if it's possible to sum up to n with k odd numbers\n",
    "    if sum(odd_sums) <= n and (n % 2 == k % 2):\n",
    "        odd_sums[-1] = n - sum(odd_sums[:-1])  # Calculate the last element needed\n",
    "        if odd_sums[-1] > 0:  # Verify if the solution is valid (last number is positive)\n",
    "            print(\"YES\")\n",
    "            print(*odd_sums)\n",
    "            return \"\"  #In this case we use return like this to not get more prints and \"None\" after the results are displayed\n",
    "    \n",
    "    # Try to find a solution with even numbers\n",
    "    # Check if it's possible to sum up to n with k even numbers\n",
    "    if sum(even_sums) <= n and (n % 2 == 0):\n",
    "        even_sums[-1] = n - sum(even_sums[:-1])  \n",
    "        if even_sums[-1] > 0:  \n",
    "            print(\"YES\")\n",
    "            print(*even_sums)\n",
    "            return \"\"\n",
    "    \n",
    "    # No valid solution found with either odd or even numbers\n",
    "    print(\"NO\")\n",
    "    return \"\"  "
   ]
  },
  {
   "cell_type": "markdown",
   "id": "53302937-18c7-40b2-a214-90f9049ff798",
   "metadata": {},
   "source": [
    "# Computational complexity of the algorithm\n",
    "\n",
    "The function `find_sum_combinations(n, k)` is designed to determine whether a positive integer **n** can be expressed as the sum of **k** positive integers, all with the same parity (all odd or all even). \n",
    "\n",
    "Here is an analysis of its computational complexity:\n",
    "\n",
    "- Odd number check: Creates an initial array of k ones (all odd numbers). Check if sum can be equal to n while maintaining odd parity\n",
    "\n",
    "**Time:** O(k) for array creation and sum calculation\n",
    "\n",
    "- Check for even numbers: Create an initial array of k twos (all even numbers) Check if sum can be equal to n while maintaining even parity\n",
    "\n",
    "**Time:** O(k) for array creation and sum calculation\n",
    "\n",
    "## Condtions: \n",
    "\n",
    "For odd numbers: sum(odd_sums) ≤ n and (n % 2 == k % 2)  \n",
    "- The process involves iterating through all  k  elements to compute the total sum, which again takes O(k) time due to the need to perform k additions.\n",
    "\n",
    "**This operation and check is O(k)**\n",
    "\n",
    "For even numbers: sum(even_sums) ≤ n and (n % 2 == 0) \n",
    "- As before the process involves iterating through all k elements to compute the total sum, which again takes O(k) time due to the need to perform k additions.\n",
    "\n",
    "**This operation and check is O(k)**\n",
    "\n",
    "## Best and Worst case using **Big O notation**\n",
    "\n",
    "- In both cases scenarios, the function creates the lists of size k, resulting in O(k) time complexity.\n",
    "- **Best case**: O(k) when **n** is small and the conditions are not valid for both cases.\n",
    "- **Worst case**: O(k) when constructing the list of integers."
   ]
  },
  {
   "cell_type": "markdown",
   "id": "b09fd551-1f80-44bf-aaf4-3cfab229e1cd",
   "metadata": {},
   "source": [
    "## Computational complexity analysis by an LLM (Large Language Model) 🤖\n",
    "\n",
    "### According to **Claude 3.5 Sonnet**:\n",
    "\n",
    "The final complexity of the algorithm is O(k), where k is one of the two input numbers.\n",
    "This is because:\n",
    "\n",
    "The most expensive operations are:\n",
    "\n",
    "- Creating arrays of k elements ([1] * k and [2] * k)\n",
    "- Calculating the sums of the elements in the arrays (sum())\n",
    "\n",
    "All other operations (parity checks, comparisons) are O(1)\n",
    "\n",
    "In other words:\n",
    "\n",
    "- Best case: O(1) when we can immediately reject the solution\n",
    "- Average/worst case: O(k) due to array operations\n",
    "\n",
    "### Difference between my previous analysis and LLM answer: \n",
    "\n",
    "In the best case scenario, the time complexity is O(k) because the lists were initialized before the conditions were checked. **So the large language model's answer is partially wrong.**"
   ]
  },
  {
   "cell_type": "markdown",
   "id": "15eaccc9-8ae6-405c-b637-e34da072b721",
   "metadata": {},
   "source": [
    "## Examples\n",
    "### **input** and **output** :"
   ]
  },
  {
   "cell_type": "code",
   "execution_count": 66,
   "id": "d1756fce-7c37-4741-b79f-cfecf1d6f617",
   "metadata": {
    "tags": []
   },
   "outputs": [
    {
     "name": "stdout",
     "output_type": "stream",
     "text": [
      "YES\n",
      "2 2 6\n",
      "\n"
     ]
    }
   ],
   "source": [
    "n,k= 10, 3\n",
    "print(find_sum_combinations(n, k))"
   ]
  },
  {
   "cell_type": "code",
   "execution_count": 67,
   "id": "38751bbe-f801-4fb4-8550-67a2657c2538",
   "metadata": {
    "tags": []
   },
   "outputs": [
    {
     "name": "stdout",
     "output_type": "stream",
     "text": [
      "YES\n",
      "1 1 1 97\n",
      "\n"
     ]
    }
   ],
   "source": [
    "n,k= 100, 4\n",
    "print(find_sum_combinations(n, k))"
   ]
  },
  {
   "cell_type": "code",
   "execution_count": 68,
   "id": "9b824d32-841f-431c-9c80-462b7756ded7",
   "metadata": {
    "tags": []
   },
   "outputs": [
    {
     "name": "stdout",
     "output_type": "stream",
     "text": [
      "NO\n",
      "\n"
     ]
    }
   ],
   "source": [
    "n,k= 8, 7\n",
    "print(find_sum_combinations(n, k))"
   ]
  },
  {
   "cell_type": "code",
   "execution_count": 69,
   "id": "88cd805f-a731-400c-81ec-dec7254342bc",
   "metadata": {
    "tags": []
   },
   "outputs": [
    {
     "name": "stdout",
     "output_type": "stream",
     "text": [
      "NO\n",
      "\n"
     ]
    }
   ],
   "source": [
    "n,k= 97, 2\n",
    "print(find_sum_combinations(n, k))"
   ]
  },
  {
   "cell_type": "code",
   "execution_count": 70,
   "id": "5e3b2cf2-8827-41d1-8f4c-45cbf8c92b9e",
   "metadata": {
    "tags": []
   },
   "outputs": [
    {
     "name": "stdout",
     "output_type": "stream",
     "text": [
      "NO\n",
      "\n"
     ]
    }
   ],
   "source": [
    "n,k= 3, 10\n",
    "print(find_sum_combinations(n, k))"
   ]
  },
  {
   "cell_type": "code",
   "execution_count": 71,
   "id": "fc0487f2-6ff3-485f-8f92-d2b38d2060da",
   "metadata": {
    "tags": []
   },
   "outputs": [
    {
     "name": "stdout",
     "output_type": "stream",
     "text": [
      "YES\n",
      "1 1 3\n",
      "\n"
     ]
    }
   ],
   "source": [
    "n,k= 5, 3\n",
    "print(find_sum_combinations(n, k))"
   ]
  }
 ],
 "metadata": {
  "kernelspec": {
   "display_name": "Python 3 (ipykernel)",
   "language": "python",
   "name": "python3"
  },
  "language_info": {
   "codemirror_mode": {
    "name": "ipython",
    "version": 3
   },
   "file_extension": ".py",
   "mimetype": "text/x-python",
   "name": "python",
   "nbconvert_exporter": "python",
   "pygments_lexer": "ipython3",
   "version": "3.11.5"
  }
 },
 "nbformat": 4,
 "nbformat_minor": 5
}
